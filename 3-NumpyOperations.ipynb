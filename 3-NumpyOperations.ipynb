{
 "cells": [
  {
   "cell_type": "code",
   "execution_count": 1,
   "id": "bc460d22-b6b2-4766-9564-9a69adf73003",
   "metadata": {
    "execution": {
     "iopub.execute_input": "2025-07-08T11:29:06.683745Z",
     "iopub.status.busy": "2025-07-08T11:29:06.682396Z",
     "iopub.status.idle": "2025-07-08T11:29:06.819223Z",
     "shell.execute_reply": "2025-07-08T11:29:06.818154Z",
     "shell.execute_reply.started": "2025-07-08T11:29:06.683706Z"
    }
   },
   "outputs": [],
   "source": [
    "import numpy as np"
   ]
  },
  {
   "cell_type": "code",
   "execution_count": 3,
   "id": "40ce79e8-a5b2-4a2b-ba8e-16f64e449e8e",
   "metadata": {
    "execution": {
     "iopub.execute_input": "2025-07-08T11:30:09.985152Z",
     "iopub.status.busy": "2025-07-08T11:30:09.984704Z",
     "iopub.status.idle": "2025-07-08T11:30:09.989557Z",
     "shell.execute_reply": "2025-07-08T11:30:09.988757Z",
     "shell.execute_reply.started": "2025-07-08T11:30:09.985126Z"
    }
   },
   "outputs": [],
   "source": [
    "new_array = np.random.randint(1,100,20)"
   ]
  },
  {
   "cell_type": "code",
   "execution_count": 4,
   "id": "3b25b352-f5f4-431b-a62e-ab355d25e597",
   "metadata": {
    "execution": {
     "iopub.execute_input": "2025-07-08T11:30:18.517442Z",
     "iopub.status.busy": "2025-07-08T11:30:18.517127Z",
     "iopub.status.idle": "2025-07-08T11:30:18.525351Z",
     "shell.execute_reply": "2025-07-08T11:30:18.524600Z",
     "shell.execute_reply.started": "2025-07-08T11:30:18.517421Z"
    }
   },
   "outputs": [
    {
     "data": {
      "text/plain": [
       "array([21, 92, 11, 77, 55, 43, 43, 47, 95, 91, 97, 50, 51, 51, 52, 54, 23,\n",
       "       14,  3, 50])"
      ]
     },
     "execution_count": 4,
     "metadata": {},
     "output_type": "execute_result"
    }
   ],
   "source": [
    "new_array"
   ]
  },
  {
   "cell_type": "code",
   "execution_count": 5,
   "id": "b616e1b2-94a8-410a-a11e-c62d27ba30c5",
   "metadata": {
    "execution": {
     "iopub.execute_input": "2025-07-08T11:30:53.187041Z",
     "iopub.status.busy": "2025-07-08T11:30:53.186768Z",
     "iopub.status.idle": "2025-07-08T11:30:53.198199Z",
     "shell.execute_reply": "2025-07-08T11:30:53.196646Z",
     "shell.execute_reply.started": "2025-07-08T11:30:53.187023Z"
    }
   },
   "outputs": [
    {
     "data": {
      "text/plain": [
       "array([False,  True, False,  True,  True,  True,  True,  True,  True,\n",
       "        True,  True,  True,  True,  True,  True,  True, False, False,\n",
       "       False,  True])"
      ]
     },
     "execution_count": 5,
     "metadata": {},
     "output_type": "execute_result"
    }
   ],
   "source": [
    "new_array > 25"
   ]
  },
  {
   "cell_type": "code",
   "execution_count": 6,
   "id": "daf70487-5b96-4b2a-859a-568ae204b9cc",
   "metadata": {
    "execution": {
     "iopub.execute_input": "2025-07-08T11:31:46.819710Z",
     "iopub.status.busy": "2025-07-08T11:31:46.819377Z",
     "iopub.status.idle": "2025-07-08T11:31:46.827196Z",
     "shell.execute_reply": "2025-07-08T11:31:46.825955Z",
     "shell.execute_reply.started": "2025-07-08T11:31:46.819689Z"
    }
   },
   "outputs": [
    {
     "data": {
      "text/plain": [
       "array([21, 11, 23, 14,  3])"
      ]
     },
     "execution_count": 6,
     "metadata": {},
     "output_type": "execute_result"
    }
   ],
   "source": [
    "new_array [new_array < 25]"
   ]
  },
  {
   "cell_type": "code",
   "execution_count": 7,
   "id": "34a857cd-104a-47ac-9d53-b4cb224d11d7",
   "metadata": {
    "execution": {
     "iopub.execute_input": "2025-07-08T11:32:55.129050Z",
     "iopub.status.busy": "2025-07-08T11:32:55.128725Z",
     "iopub.status.idle": "2025-07-08T11:32:55.137792Z",
     "shell.execute_reply": "2025-07-08T11:32:55.136073Z",
     "shell.execute_reply.started": "2025-07-08T11:32:55.129027Z"
    }
   },
   "outputs": [
    {
     "data": {
      "text/plain": [
       "array([92, 77, 55, 43, 43, 47, 95, 91, 97, 50, 51, 51, 52, 54, 50])"
      ]
     },
     "execution_count": 7,
     "metadata": {},
     "output_type": "execute_result"
    }
   ],
   "source": [
    "new_array [new_array > 25]"
   ]
  },
  {
   "cell_type": "code",
   "execution_count": 8,
   "id": "2b3d540d-35a5-45fe-ba03-15ede893e498",
   "metadata": {
    "execution": {
     "iopub.execute_input": "2025-07-08T11:34:47.049249Z",
     "iopub.status.busy": "2025-07-08T11:34:47.048905Z",
     "iopub.status.idle": "2025-07-08T11:34:47.053046Z",
     "shell.execute_reply": "2025-07-08T11:34:47.052218Z",
     "shell.execute_reply.started": "2025-07-08T11:34:47.049226Z"
    }
   },
   "outputs": [],
   "source": [
    "#transpose & reshape"
   ]
  },
  {
   "cell_type": "code",
   "execution_count": 9,
   "id": "2ad4caae-d954-4ba1-a065-0a2f7d9060e9",
   "metadata": {
    "execution": {
     "iopub.execute_input": "2025-07-08T11:35:56.066979Z",
     "iopub.status.busy": "2025-07-08T11:35:56.065879Z",
     "iopub.status.idle": "2025-07-08T11:35:56.071301Z",
     "shell.execute_reply": "2025-07-08T11:35:56.070220Z",
     "shell.execute_reply.started": "2025-07-08T11:35:56.066950Z"
    }
   },
   "outputs": [],
   "source": [
    "matrix_array = np.array ([[10,20],[20,30],[30,40]])"
   ]
  },
  {
   "cell_type": "code",
   "execution_count": 10,
   "id": "c84ec984-1505-496c-ba1f-c5926856c1f3",
   "metadata": {
    "execution": {
     "iopub.execute_input": "2025-07-08T11:36:01.969953Z",
     "iopub.status.busy": "2025-07-08T11:36:01.969623Z",
     "iopub.status.idle": "2025-07-08T11:36:01.976727Z",
     "shell.execute_reply": "2025-07-08T11:36:01.975653Z",
     "shell.execute_reply.started": "2025-07-08T11:36:01.969931Z"
    }
   },
   "outputs": [
    {
     "data": {
      "text/plain": [
       "array([[10, 20],\n",
       "       [20, 30],\n",
       "       [30, 40]])"
      ]
     },
     "execution_count": 10,
     "metadata": {},
     "output_type": "execute_result"
    }
   ],
   "source": [
    "matrix_array"
   ]
  },
  {
   "cell_type": "code",
   "execution_count": 11,
   "id": "50fc5fb0-eae2-41ae-b8fb-fe68d8d67fa5",
   "metadata": {
    "execution": {
     "iopub.execute_input": "2025-07-08T11:36:11.074935Z",
     "iopub.status.busy": "2025-07-08T11:36:11.074621Z",
     "iopub.status.idle": "2025-07-08T11:36:11.081079Z",
     "shell.execute_reply": "2025-07-08T11:36:11.080005Z",
     "shell.execute_reply.started": "2025-07-08T11:36:11.074916Z"
    }
   },
   "outputs": [
    {
     "data": {
      "text/plain": [
       "(3, 2)"
      ]
     },
     "execution_count": 11,
     "metadata": {},
     "output_type": "execute_result"
    }
   ],
   "source": [
    "matrix_array.shape"
   ]
  },
  {
   "cell_type": "code",
   "execution_count": 12,
   "id": "1aeea1d1-c954-4c2c-b12b-30ea08034b74",
   "metadata": {
    "execution": {
     "iopub.execute_input": "2025-07-08T11:36:43.777913Z",
     "iopub.status.busy": "2025-07-08T11:36:43.777113Z",
     "iopub.status.idle": "2025-07-08T11:36:43.785170Z",
     "shell.execute_reply": "2025-07-08T11:36:43.783743Z",
     "shell.execute_reply.started": "2025-07-08T11:36:43.777881Z"
    }
   },
   "outputs": [
    {
     "data": {
      "text/plain": [
       "array([[10, 20, 30],\n",
       "       [20, 30, 40]])"
      ]
     },
     "execution_count": 12,
     "metadata": {},
     "output_type": "execute_result"
    }
   ],
   "source": [
    "matrix_array.transpose()"
   ]
  },
  {
   "cell_type": "code",
   "execution_count": 13,
   "id": "3e5b8330-1ea3-4c68-8b2b-d0b435bddfde",
   "metadata": {
    "execution": {
     "iopub.execute_input": "2025-07-08T11:37:11.158448Z",
     "iopub.status.busy": "2025-07-08T11:37:11.158089Z",
     "iopub.status.idle": "2025-07-08T11:37:11.165073Z",
     "shell.execute_reply": "2025-07-08T11:37:11.164139Z",
     "shell.execute_reply.started": "2025-07-08T11:37:11.158426Z"
    }
   },
   "outputs": [
    {
     "data": {
      "text/plain": [
       "array([[10, 20, 30],\n",
       "       [20, 30, 40]])"
      ]
     },
     "execution_count": 13,
     "metadata": {},
     "output_type": "execute_result"
    }
   ],
   "source": [
    "matrix_array.T"
   ]
  },
  {
   "cell_type": "code",
   "execution_count": 14,
   "id": "ee653fe2-0635-4e7e-836a-7ce6503bfe47",
   "metadata": {
    "execution": {
     "iopub.execute_input": "2025-07-08T11:38:11.756362Z",
     "iopub.status.busy": "2025-07-08T11:38:11.755988Z",
     "iopub.status.idle": "2025-07-08T11:38:11.762070Z",
     "shell.execute_reply": "2025-07-08T11:38:11.761041Z",
     "shell.execute_reply.started": "2025-07-08T11:38:11.756338Z"
    }
   },
   "outputs": [],
   "source": [
    "random_array = np.random.random((6,1))"
   ]
  },
  {
   "cell_type": "code",
   "execution_count": 15,
   "id": "f7cb6a7c-9f32-4a56-9aa5-9e9f5fadbd0b",
   "metadata": {
    "execution": {
     "iopub.execute_input": "2025-07-08T11:38:17.270781Z",
     "iopub.status.busy": "2025-07-08T11:38:17.270452Z",
     "iopub.status.idle": "2025-07-08T11:38:17.278378Z",
     "shell.execute_reply": "2025-07-08T11:38:17.276533Z",
     "shell.execute_reply.started": "2025-07-08T11:38:17.270758Z"
    }
   },
   "outputs": [
    {
     "data": {
      "text/plain": [
       "array([[0.51561442],\n",
       "       [0.85374353],\n",
       "       [0.7482157 ],\n",
       "       [0.67875222],\n",
       "       [0.84607723],\n",
       "       [0.73563646]])"
      ]
     },
     "execution_count": 15,
     "metadata": {},
     "output_type": "execute_result"
    }
   ],
   "source": [
    "random_array"
   ]
  },
  {
   "cell_type": "code",
   "execution_count": 16,
   "id": "cf809be3-0791-431c-8fb3-a65e55c7fe5e",
   "metadata": {
    "execution": {
     "iopub.execute_input": "2025-07-08T11:39:06.456499Z",
     "iopub.status.busy": "2025-07-08T11:39:06.455813Z",
     "iopub.status.idle": "2025-07-08T11:39:06.463329Z",
     "shell.execute_reply": "2025-07-08T11:39:06.462060Z",
     "shell.execute_reply.started": "2025-07-08T11:39:06.456464Z"
    }
   },
   "outputs": [
    {
     "data": {
      "text/plain": [
       "array([[0.51561442, 0.85374353, 0.7482157 ],\n",
       "       [0.67875222, 0.84607723, 0.73563646]])"
      ]
     },
     "execution_count": 16,
     "metadata": {},
     "output_type": "execute_result"
    }
   ],
   "source": [
    "random_array.reshape(2,3)"
   ]
  },
  {
   "cell_type": "code",
   "execution_count": 17,
   "id": "5ab5c6d9-4902-4140-be42-403501e1f262",
   "metadata": {
    "execution": {
     "iopub.execute_input": "2025-07-08T11:52:58.231886Z",
     "iopub.status.busy": "2025-07-08T11:52:58.231320Z",
     "iopub.status.idle": "2025-07-08T11:52:58.236538Z",
     "shell.execute_reply": "2025-07-08T11:52:58.235469Z",
     "shell.execute_reply.started": "2025-07-08T11:52:58.231859Z"
    }
   },
   "outputs": [],
   "source": [
    "#z-score"
   ]
  },
  {
   "cell_type": "code",
   "execution_count": 18,
   "id": "8ef22ce2-591b-4d68-ab0b-d2ba9bbb215f",
   "metadata": {
    "execution": {
     "iopub.execute_input": "2025-07-08T11:54:10.400679Z",
     "iopub.status.busy": "2025-07-08T11:54:10.400352Z",
     "iopub.status.idle": "2025-07-08T11:54:10.406511Z",
     "shell.execute_reply": "2025-07-08T11:54:10.405325Z",
     "shell.execute_reply.started": "2025-07-08T11:54:10.400657Z"
    }
   },
   "outputs": [],
   "source": [
    "data = np.array([10,12,13,15,18,25,100,105])"
   ]
  },
  {
   "cell_type": "code",
   "execution_count": 19,
   "id": "3f501c60-8b89-4c0f-ae62-c97f12563f12",
   "metadata": {
    "execution": {
     "iopub.execute_input": "2025-07-08T11:54:20.659388Z",
     "iopub.status.busy": "2025-07-08T11:54:20.659074Z",
     "iopub.status.idle": "2025-07-08T11:54:20.663152Z",
     "shell.execute_reply": "2025-07-08T11:54:20.662333Z",
     "shell.execute_reply.started": "2025-07-08T11:54:20.659367Z"
    }
   },
   "outputs": [],
   "source": [
    "#outlier"
   ]
  },
  {
   "cell_type": "code",
   "execution_count": 20,
   "id": "1b00ecbb-2a98-4493-8a12-e111b759629a",
   "metadata": {
    "execution": {
     "iopub.execute_input": "2025-07-08T11:54:39.064908Z",
     "iopub.status.busy": "2025-07-08T11:54:39.064516Z",
     "iopub.status.idle": "2025-07-08T11:54:39.070344Z",
     "shell.execute_reply": "2025-07-08T11:54:39.069381Z",
     "shell.execute_reply.started": "2025-07-08T11:54:39.064884Z"
    }
   },
   "outputs": [],
   "source": [
    "mean = np.mean(data)"
   ]
  },
  {
   "cell_type": "code",
   "execution_count": 21,
   "id": "c9a67317-dd39-4b57-85fb-e520976aebb6",
   "metadata": {
    "execution": {
     "iopub.execute_input": "2025-07-08T11:54:44.179003Z",
     "iopub.status.busy": "2025-07-08T11:54:44.178231Z",
     "iopub.status.idle": "2025-07-08T11:54:44.185488Z",
     "shell.execute_reply": "2025-07-08T11:54:44.184295Z",
     "shell.execute_reply.started": "2025-07-08T11:54:44.178970Z"
    }
   },
   "outputs": [
    {
     "data": {
      "text/plain": [
       "37.25"
      ]
     },
     "execution_count": 21,
     "metadata": {},
     "output_type": "execute_result"
    }
   ],
   "source": [
    "mean\n"
   ]
  },
  {
   "cell_type": "code",
   "execution_count": 22,
   "id": "a5f06d68-8b5b-4391-a8f4-efcf96a79861",
   "metadata": {
    "execution": {
     "iopub.execute_input": "2025-07-08T11:55:13.228547Z",
     "iopub.status.busy": "2025-07-08T11:55:13.228210Z",
     "iopub.status.idle": "2025-07-08T11:55:13.236124Z",
     "shell.execute_reply": "2025-07-08T11:55:13.234922Z",
     "shell.execute_reply.started": "2025-07-08T11:55:13.228525Z"
    }
   },
   "outputs": [
    {
     "data": {
      "text/plain": [
       "37.25"
      ]
     },
     "execution_count": 22,
     "metadata": {},
     "output_type": "execute_result"
    }
   ],
   "source": [
    "data.sum() / len(data)"
   ]
  },
  {
   "cell_type": "code",
   "execution_count": 23,
   "id": "b5489537-2af5-4895-bfef-a2b7e6c99462",
   "metadata": {
    "execution": {
     "iopub.execute_input": "2025-07-08T11:55:35.915279Z",
     "iopub.status.busy": "2025-07-08T11:55:35.913962Z",
     "iopub.status.idle": "2025-07-08T11:55:35.920486Z",
     "shell.execute_reply": "2025-07-08T11:55:35.919403Z",
     "shell.execute_reply.started": "2025-07-08T11:55:35.915233Z"
    }
   },
   "outputs": [],
   "source": [
    "std = np.std(data)"
   ]
  },
  {
   "cell_type": "code",
   "execution_count": 25,
   "id": "52f1e689-cabc-487f-badc-f6d2114eb08e",
   "metadata": {
    "execution": {
     "iopub.execute_input": "2025-07-08T11:55:53.227965Z",
     "iopub.status.busy": "2025-07-08T11:55:53.227215Z",
     "iopub.status.idle": "2025-07-08T11:55:53.233780Z",
     "shell.execute_reply": "2025-07-08T11:55:53.232468Z",
     "shell.execute_reply.started": "2025-07-08T11:55:53.227944Z"
    }
   },
   "outputs": [
    {
     "data": {
      "text/plain": [
       "37.9333296719389"
      ]
     },
     "execution_count": 25,
     "metadata": {},
     "output_type": "execute_result"
    }
   ],
   "source": [
    "std"
   ]
  },
  {
   "cell_type": "code",
   "execution_count": null,
   "id": "8e4b2e63-4a70-485a-b6ac-3e5f5d1a4eab",
   "metadata": {},
   "outputs": [],
   "source": []
  }
 ],
 "metadata": {
  "kernelspec": {
   "display_name": "Python 3 (ipykernel)",
   "language": "python",
   "name": "python3"
  },
  "language_info": {
   "codemirror_mode": {
    "name": "ipython",
    "version": 3
   },
   "file_extension": ".py",
   "mimetype": "text/x-python",
   "name": "python",
   "nbconvert_exporter": "python",
   "pygments_lexer": "ipython3",
   "version": "3.12.9"
  }
 },
 "nbformat": 4,
 "nbformat_minor": 5
}
