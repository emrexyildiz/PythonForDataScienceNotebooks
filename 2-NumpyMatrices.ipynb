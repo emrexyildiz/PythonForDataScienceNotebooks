{
 "cells": [
  {
   "cell_type": "code",
   "execution_count": 1,
   "id": "0db29735-0235-42a7-84bd-1457931e53f8",
   "metadata": {
    "execution": {
     "iopub.execute_input": "2025-07-08T09:48:08.450589Z",
     "iopub.status.busy": "2025-07-08T09:48:08.450151Z",
     "iopub.status.idle": "2025-07-08T09:48:08.649919Z",
     "shell.execute_reply": "2025-07-08T09:48:08.649104Z",
     "shell.execute_reply.started": "2025-07-08T09:48:08.450560Z"
    }
   },
   "outputs": [],
   "source": [
    "import numpy as np "
   ]
  },
  {
   "cell_type": "code",
   "execution_count": 2,
   "id": "f3761b53-b1a0-4258-952f-7a43e3fd145b",
   "metadata": {
    "execution": {
     "iopub.execute_input": "2025-07-08T09:49:04.072585Z",
     "iopub.status.busy": "2025-07-08T09:49:04.071583Z",
     "iopub.status.idle": "2025-07-08T09:49:04.078170Z",
     "shell.execute_reply": "2025-07-08T09:49:04.076680Z",
     "shell.execute_reply.started": "2025-07-08T09:49:04.072554Z"
    }
   },
   "outputs": [],
   "source": [
    "my_matrix = [[5,10], [15,20]]"
   ]
  },
  {
   "cell_type": "code",
   "execution_count": 4,
   "id": "bb3adcad-98a8-4a85-8d21-d04a18fe5ab1",
   "metadata": {
    "execution": {
     "iopub.execute_input": "2025-07-08T09:49:20.240743Z",
     "iopub.status.busy": "2025-07-08T09:49:20.240098Z",
     "iopub.status.idle": "2025-07-08T09:49:20.246210Z",
     "shell.execute_reply": "2025-07-08T09:49:20.245113Z",
     "shell.execute_reply.started": "2025-07-08T09:49:20.240718Z"
    }
   },
   "outputs": [
    {
     "data": {
      "text/plain": [
       "[5, 10]"
      ]
     },
     "execution_count": 4,
     "metadata": {},
     "output_type": "execute_result"
    }
   ],
   "source": [
    "my_matrix[0]"
   ]
  },
  {
   "cell_type": "code",
   "execution_count": 5,
   "id": "171a9269-e1ba-4220-9d88-c02f1100e0e3",
   "metadata": {
    "execution": {
     "iopub.execute_input": "2025-07-08T09:49:36.845482Z",
     "iopub.status.busy": "2025-07-08T09:49:36.845134Z",
     "iopub.status.idle": "2025-07-08T09:49:36.853095Z",
     "shell.execute_reply": "2025-07-08T09:49:36.852022Z",
     "shell.execute_reply.started": "2025-07-08T09:49:36.845454Z"
    }
   },
   "outputs": [
    {
     "data": {
      "text/plain": [
       "[15, 20]"
      ]
     },
     "execution_count": 5,
     "metadata": {},
     "output_type": "execute_result"
    }
   ],
   "source": [
    "my_matrix[1]"
   ]
  },
  {
   "cell_type": "code",
   "execution_count": null,
   "id": "cde275b1-5c85-4cd6-8287-6d5bf523d005",
   "metadata": {},
   "outputs": [],
   "source": []
  }
 ],
 "metadata": {
  "kernelspec": {
   "display_name": "Python 3 (ipykernel)",
   "language": "python",
   "name": "python3"
  },
  "language_info": {
   "codemirror_mode": {
    "name": "ipython",
    "version": 3
   },
   "file_extension": ".py",
   "mimetype": "text/x-python",
   "name": "python",
   "nbconvert_exporter": "python",
   "pygments_lexer": "ipython3",
   "version": "3.12.9"
  }
 },
 "nbformat": 4,
 "nbformat_minor": 5
}
