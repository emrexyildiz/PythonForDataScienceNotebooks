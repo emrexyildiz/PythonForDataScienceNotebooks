{
 "cells": [
  {
   "cell_type": "code",
   "execution_count": 1,
   "id": "0db29735-0235-42a7-84bd-1457931e53f8",
   "metadata": {
    "execution": {
     "iopub.execute_input": "2025-07-08T09:48:08.450589Z",
     "iopub.status.busy": "2025-07-08T09:48:08.450151Z",
     "iopub.status.idle": "2025-07-08T09:48:08.649919Z",
     "shell.execute_reply": "2025-07-08T09:48:08.649104Z",
     "shell.execute_reply.started": "2025-07-08T09:48:08.450560Z"
    }
   },
   "outputs": [],
   "source": [
    "import numpy as np "
   ]
  },
  {
   "cell_type": "code",
   "execution_count": 2,
   "id": "f3761b53-b1a0-4258-952f-7a43e3fd145b",
   "metadata": {
    "execution": {
     "iopub.execute_input": "2025-07-08T09:49:04.072585Z",
     "iopub.status.busy": "2025-07-08T09:49:04.071583Z",
     "iopub.status.idle": "2025-07-08T09:49:04.078170Z",
     "shell.execute_reply": "2025-07-08T09:49:04.076680Z",
     "shell.execute_reply.started": "2025-07-08T09:49:04.072554Z"
    }
   },
   "outputs": [],
   "source": [
    "my_matrix = [[5,10], [15,20]]"
   ]
  },
  {
   "cell_type": "code",
   "execution_count": 4,
   "id": "bb3adcad-98a8-4a85-8d21-d04a18fe5ab1",
   "metadata": {
    "execution": {
     "iopub.execute_input": "2025-07-08T09:49:20.240743Z",
     "iopub.status.busy": "2025-07-08T09:49:20.240098Z",
     "iopub.status.idle": "2025-07-08T09:49:20.246210Z",
     "shell.execute_reply": "2025-07-08T09:49:20.245113Z",
     "shell.execute_reply.started": "2025-07-08T09:49:20.240718Z"
    }
   },
   "outputs": [
    {
     "data": {
      "text/plain": [
       "[5, 10]"
      ]
     },
     "execution_count": 4,
     "metadata": {},
     "output_type": "execute_result"
    }
   ],
   "source": [
    "my_matrix[0]"
   ]
  },
  {
   "cell_type": "code",
   "execution_count": 5,
   "id": "171a9269-e1ba-4220-9d88-c02f1100e0e3",
   "metadata": {
    "execution": {
     "iopub.execute_input": "2025-07-08T09:49:36.845482Z",
     "iopub.status.busy": "2025-07-08T09:49:36.845134Z",
     "iopub.status.idle": "2025-07-08T09:49:36.853095Z",
     "shell.execute_reply": "2025-07-08T09:49:36.852022Z",
     "shell.execute_reply.started": "2025-07-08T09:49:36.845454Z"
    }
   },
   "outputs": [
    {
     "data": {
      "text/plain": [
       "[15, 20]"
      ]
     },
     "execution_count": 5,
     "metadata": {},
     "output_type": "execute_result"
    }
   ],
   "source": [
    "my_matrix[1]"
   ]
  },
  {
   "cell_type": "code",
   "execution_count": 6,
   "id": "cde275b1-5c85-4cd6-8287-6d5bf523d005",
   "metadata": {
    "execution": {
     "iopub.execute_input": "2025-07-08T09:56:04.880102Z",
     "iopub.status.busy": "2025-07-08T09:56:04.878851Z",
     "iopub.status.idle": "2025-07-08T09:56:04.886599Z",
     "shell.execute_reply": "2025-07-08T09:56:04.885433Z",
     "shell.execute_reply.started": "2025-07-08T09:56:04.880040Z"
    }
   },
   "outputs": [],
   "source": [
    "# row * colum  = sira * kolon"
   ]
  },
  {
   "cell_type": "code",
   "execution_count": 7,
   "id": "5d30adb1-bf3c-4552-b6d9-f1ffa412c0c5",
   "metadata": {
    "execution": {
     "iopub.execute_input": "2025-07-08T09:57:11.950892Z",
     "iopub.status.busy": "2025-07-08T09:57:11.950551Z",
     "iopub.status.idle": "2025-07-08T09:57:11.956066Z",
     "shell.execute_reply": "2025-07-08T09:57:11.955086Z",
     "shell.execute_reply.started": "2025-07-08T09:57:11.950870Z"
    }
   },
   "outputs": [],
   "source": [
    "numpy_matrix = np.array([[5,10],[15,20]])"
   ]
  },
  {
   "cell_type": "code",
   "execution_count": 12,
   "id": "380c86e6-766f-4b03-a99e-4b57070e7f76",
   "metadata": {
    "execution": {
     "iopub.execute_input": "2025-07-08T09:59:19.275116Z",
     "iopub.status.busy": "2025-07-08T09:59:19.274796Z",
     "iopub.status.idle": "2025-07-08T09:59:19.281928Z",
     "shell.execute_reply": "2025-07-08T09:59:19.281010Z",
     "shell.execute_reply.started": "2025-07-08T09:59:19.275093Z"
    }
   },
   "outputs": [
    {
     "data": {
      "text/plain": [
       "array([[ 5, 10],\n",
       "       [15, 20]])"
      ]
     },
     "execution_count": 12,
     "metadata": {},
     "output_type": "execute_result"
    }
   ],
   "source": [
    "numpy_matrix"
   ]
  },
  {
   "cell_type": "code",
   "execution_count": 13,
   "id": "61d6cd9b-706f-4dcd-b89a-057f585a802f",
   "metadata": {
    "execution": {
     "iopub.execute_input": "2025-07-08T10:01:17.929721Z",
     "iopub.status.busy": "2025-07-08T10:01:17.929076Z",
     "iopub.status.idle": "2025-07-08T10:01:17.937491Z",
     "shell.execute_reply": "2025-07-08T10:01:17.936099Z",
     "shell.execute_reply.started": "2025-07-08T10:01:17.929689Z"
    }
   },
   "outputs": [
    {
     "data": {
      "text/plain": [
       "10"
      ]
     },
     "execution_count": 13,
     "metadata": {},
     "output_type": "execute_result"
    }
   ],
   "source": [
    "numpy_matrix[0] [1]"
   ]
  },
  {
   "cell_type": "code",
   "execution_count": 14,
   "id": "166881ba-4fc2-44d7-ab67-9425c32213a5",
   "metadata": {
    "execution": {
     "iopub.execute_input": "2025-07-08T10:01:38.596033Z",
     "iopub.status.busy": "2025-07-08T10:01:38.595718Z",
     "iopub.status.idle": "2025-07-08T10:01:38.602524Z",
     "shell.execute_reply": "2025-07-08T10:01:38.601479Z",
     "shell.execute_reply.started": "2025-07-08T10:01:38.596012Z"
    }
   },
   "outputs": [
    {
     "data": {
      "text/plain": [
       "15"
      ]
     },
     "execution_count": 14,
     "metadata": {},
     "output_type": "execute_result"
    }
   ],
   "source": [
    "numpy_matrix[1] [0]"
   ]
  },
  {
   "cell_type": "code",
   "execution_count": 15,
   "id": "056e611f-b2e6-4eba-8ab4-06c1fb8da564",
   "metadata": {
    "execution": {
     "iopub.execute_input": "2025-07-08T10:03:08.552935Z",
     "iopub.status.busy": "2025-07-08T10:03:08.552571Z",
     "iopub.status.idle": "2025-07-08T10:03:08.559596Z",
     "shell.execute_reply": "2025-07-08T10:03:08.558680Z",
     "shell.execute_reply.started": "2025-07-08T10:03:08.552911Z"
    }
   },
   "outputs": [
    {
     "data": {
      "text/plain": [
       "50"
      ]
     },
     "execution_count": 15,
     "metadata": {},
     "output_type": "execute_result"
    }
   ],
   "source": [
    "numpy_matrix.sum()"
   ]
  },
  {
   "cell_type": "code",
   "execution_count": 16,
   "id": "59f6f490-b205-49aa-bbb2-507f95c5ed0f",
   "metadata": {
    "execution": {
     "iopub.execute_input": "2025-07-08T10:04:08.443975Z",
     "iopub.status.busy": "2025-07-08T10:04:08.443392Z",
     "iopub.status.idle": "2025-07-08T10:04:08.452051Z",
     "shell.execute_reply": "2025-07-08T10:04:08.451089Z",
     "shell.execute_reply.started": "2025-07-08T10:04:08.443946Z"
    }
   },
   "outputs": [
    {
     "data": {
      "text/plain": [
       "array([[1., 1.],\n",
       "       [1., 1.],\n",
       "       [1., 1.],\n",
       "       [1., 1.]])"
      ]
     },
     "execution_count": 16,
     "metadata": {},
     "output_type": "execute_result"
    }
   ],
   "source": [
    "np.ones((4,2))"
   ]
  },
  {
   "cell_type": "code",
   "execution_count": 17,
   "id": "65d1bdd3-c145-4178-b832-c3897c209ff1",
   "metadata": {
    "execution": {
     "iopub.execute_input": "2025-07-08T10:04:30.500622Z",
     "iopub.status.busy": "2025-07-08T10:04:30.500296Z",
     "iopub.status.idle": "2025-07-08T10:04:30.508839Z",
     "shell.execute_reply": "2025-07-08T10:04:30.507861Z",
     "shell.execute_reply.started": "2025-07-08T10:04:30.500601Z"
    }
   },
   "outputs": [
    {
     "data": {
      "text/plain": [
       "array([[0., 0., 0.],\n",
       "       [0., 0., 0.],\n",
       "       [0., 0., 0.],\n",
       "       [0., 0., 0.],\n",
       "       [0., 0., 0.]])"
      ]
     },
     "execution_count": 17,
     "metadata": {},
     "output_type": "execute_result"
    }
   ],
   "source": [
    "np.zeros((5,3))"
   ]
  },
  {
   "cell_type": "code",
   "execution_count": 19,
   "id": "9c5d92ed-5751-4d58-9164-37793e3cee7e",
   "metadata": {
    "execution": {
     "iopub.execute_input": "2025-07-08T10:05:17.688073Z",
     "iopub.status.busy": "2025-07-08T10:05:17.687715Z",
     "iopub.status.idle": "2025-07-08T10:05:17.695101Z",
     "shell.execute_reply": "2025-07-08T10:05:17.693884Z",
     "shell.execute_reply.started": "2025-07-08T10:05:17.688050Z"
    }
   },
   "outputs": [
    {
     "data": {
      "text/plain": [
       "array([[0., 0., 0., 0., 0., 0.],\n",
       "       [0., 0., 0., 0., 0., 0.],\n",
       "       [0., 0., 0., 0., 0., 0.]])"
      ]
     },
     "execution_count": 19,
     "metadata": {},
     "output_type": "execute_result"
    }
   ],
   "source": [
    "\n",
    "np.zeros((3,6))"
   ]
  },
  {
   "cell_type": "code",
   "execution_count": 20,
   "id": "b1cc4ffd-6f7c-4440-a2c5-82c62ea8745f",
   "metadata": {
    "execution": {
     "iopub.execute_input": "2025-07-08T10:05:45.956455Z",
     "iopub.status.busy": "2025-07-08T10:05:45.956101Z",
     "iopub.status.idle": "2025-07-08T10:05:45.963284Z",
     "shell.execute_reply": "2025-07-08T10:05:45.962349Z",
     "shell.execute_reply.started": "2025-07-08T10:05:45.956431Z"
    }
   },
   "outputs": [
    {
     "data": {
      "text/plain": [
       "array([[0.12092611, 0.96659308],\n",
       "       [0.69236499, 0.19614129],\n",
       "       [0.92962066, 0.85488004]])"
      ]
     },
     "execution_count": 20,
     "metadata": {},
     "output_type": "execute_result"
    }
   ],
   "source": [
    "np.random.random((3,2))"
   ]
  },
  {
   "cell_type": "code",
   "execution_count": 21,
   "id": "857fc026-ec51-4587-8c63-9efa00dc4e13",
   "metadata": {
    "execution": {
     "iopub.execute_input": "2025-07-08T10:06:28.034412Z",
     "iopub.status.busy": "2025-07-08T10:06:28.034014Z",
     "iopub.status.idle": "2025-07-08T10:06:28.041951Z",
     "shell.execute_reply": "2025-07-08T10:06:28.040138Z",
     "shell.execute_reply.started": "2025-07-08T10:06:28.034386Z"
    }
   },
   "outputs": [],
   "source": [
    "# matrix arithmetic"
   ]
  },
  {
   "cell_type": "code",
   "execution_count": 24,
   "id": "7145a52a-aa34-4879-be22-ebff4be83d68",
   "metadata": {
    "execution": {
     "iopub.execute_input": "2025-07-08T10:08:33.784305Z",
     "iopub.status.busy": "2025-07-08T10:08:33.783968Z",
     "iopub.status.idle": "2025-07-08T10:08:33.789462Z",
     "shell.execute_reply": "2025-07-08T10:08:33.788361Z",
     "shell.execute_reply.started": "2025-07-08T10:08:33.784283Z"
    }
   },
   "outputs": [],
   "source": [
    "first_array = np.array([[10,20], [30,40]])"
   ]
  },
  {
   "cell_type": "code",
   "execution_count": 25,
   "id": "d7bb4722-c2b7-4f8e-a041-d39116c1cabc",
   "metadata": {
    "execution": {
     "iopub.execute_input": "2025-07-08T10:09:31.065909Z",
     "iopub.status.busy": "2025-07-08T10:09:31.065589Z",
     "iopub.status.idle": "2025-07-08T10:09:31.070255Z",
     "shell.execute_reply": "2025-07-08T10:09:31.069544Z",
     "shell.execute_reply.started": "2025-07-08T10:09:31.065888Z"
    }
   },
   "outputs": [],
   "source": [
    "second_array = np.array([[5,15], [25,35]])"
   ]
  },
  {
   "cell_type": "code",
   "execution_count": 26,
   "id": "84009287-de6c-45e7-a5bf-142053f7f25b",
   "metadata": {
    "execution": {
     "iopub.execute_input": "2025-07-08T10:10:17.195578Z",
     "iopub.status.busy": "2025-07-08T10:10:17.194605Z",
     "iopub.status.idle": "2025-07-08T10:10:17.201792Z",
     "shell.execute_reply": "2025-07-08T10:10:17.200841Z",
     "shell.execute_reply.started": "2025-07-08T10:10:17.195547Z"
    }
   },
   "outputs": [
    {
     "data": {
      "text/plain": [
       "array([[15, 35],\n",
       "       [55, 75]])"
      ]
     },
     "execution_count": 26,
     "metadata": {},
     "output_type": "execute_result"
    }
   ],
   "source": [
    "first_array + second_array"
   ]
  },
  {
   "cell_type": "code",
   "execution_count": 27,
   "id": "354a9399-4194-4b96-aad6-c276154a8fa3",
   "metadata": {
    "execution": {
     "iopub.execute_input": "2025-07-08T10:50:04.370603Z",
     "iopub.status.busy": "2025-07-08T10:50:04.369734Z",
     "iopub.status.idle": "2025-07-08T10:50:04.379334Z",
     "shell.execute_reply": "2025-07-08T10:50:04.377933Z",
     "shell.execute_reply.started": "2025-07-08T10:50:04.370557Z"
    }
   },
   "outputs": [
    {
     "data": {
      "text/plain": [
       "array([[20, 40],\n",
       "       [60, 80]])"
      ]
     },
     "execution_count": 27,
     "metadata": {},
     "output_type": "execute_result"
    }
   ],
   "source": [
    "\n",
    "first_array * 2"
   ]
  },
  {
   "cell_type": "code",
   "execution_count": 29,
   "id": "99d5b898-0a12-4bbd-a574-aba437c64366",
   "metadata": {
    "execution": {
     "iopub.execute_input": "2025-07-08T10:50:38.562473Z",
     "iopub.status.busy": "2025-07-08T10:50:38.562103Z",
     "iopub.status.idle": "2025-07-08T10:50:38.569980Z",
     "shell.execute_reply": "2025-07-08T10:50:38.569023Z",
     "shell.execute_reply.started": "2025-07-08T10:50:38.562451Z"
    }
   },
   "outputs": [
    {
     "data": {
      "text/plain": [
       "array([[ 2.5,  5. ],\n",
       "       [ 7.5, 10. ]])"
      ]
     },
     "execution_count": 29,
     "metadata": {},
     "output_type": "execute_result"
    }
   ],
   "source": [
    "first_array / 4"
   ]
  },
  {
   "cell_type": "code",
   "execution_count": 28,
   "id": "36086502-5bf4-4e0d-bce8-c9da0de844eb",
   "metadata": {
    "execution": {
     "iopub.execute_input": "2025-07-08T10:50:19.558771Z",
     "iopub.status.busy": "2025-07-08T10:50:19.557988Z",
     "iopub.status.idle": "2025-07-08T10:50:19.563870Z",
     "shell.execute_reply": "2025-07-08T10:50:19.562854Z",
     "shell.execute_reply.started": "2025-07-08T10:50:19.558743Z"
    }
   },
   "outputs": [],
   "source": [
    "# We can add and multiply matrices using arithmetic operators (+-*/) if the two matrices are the same size."
   ]
  },
  {
   "cell_type": "code",
   "execution_count": 30,
   "id": "dd2af0c2-4f95-4e5a-8209-bf665715eeca",
   "metadata": {
    "execution": {
     "iopub.execute_input": "2025-07-08T10:50:53.759394Z",
     "iopub.status.busy": "2025-07-08T10:50:53.758850Z",
     "iopub.status.idle": "2025-07-08T10:50:53.763791Z",
     "shell.execute_reply": "2025-07-08T10:50:53.762587Z",
     "shell.execute_reply.started": "2025-07-08T10:50:53.759369Z"
    }
   },
   "outputs": [],
   "source": [
    "third_array = np.array([[10],[20]])"
   ]
  },
  {
   "cell_type": "code",
   "execution_count": 31,
   "id": "00f9ef1e-413f-4ecd-8733-ba9307d95776",
   "metadata": {
    "execution": {
     "iopub.execute_input": "2025-07-08T10:51:02.777316Z",
     "iopub.status.busy": "2025-07-08T10:51:02.776833Z",
     "iopub.status.idle": "2025-07-08T10:51:02.784840Z",
     "shell.execute_reply": "2025-07-08T10:51:02.783655Z",
     "shell.execute_reply.started": "2025-07-08T10:51:02.777286Z"
    }
   },
   "outputs": [
    {
     "data": {
      "text/plain": [
       "(2, 1)"
      ]
     },
     "execution_count": 31,
     "metadata": {},
     "output_type": "execute_result"
    }
   ],
   "source": [
    "third_array.shape"
   ]
  },
  {
   "cell_type": "code",
   "execution_count": 32,
   "id": "dc10cd59-eb09-4a3c-9a1e-5bd40d0ee3ee",
   "metadata": {
    "execution": {
     "iopub.execute_input": "2025-07-08T10:51:15.501973Z",
     "iopub.status.busy": "2025-07-08T10:51:15.501652Z",
     "iopub.status.idle": "2025-07-08T10:51:15.507932Z",
     "shell.execute_reply": "2025-07-08T10:51:15.506767Z",
     "shell.execute_reply.started": "2025-07-08T10:51:15.501952Z"
    }
   },
   "outputs": [
    {
     "data": {
      "text/plain": [
       "(2, 2)"
      ]
     },
     "execution_count": 32,
     "metadata": {},
     "output_type": "execute_result"
    }
   ],
   "source": [
    "first_array.shape"
   ]
  },
  {
   "cell_type": "code",
   "execution_count": 33,
   "id": "4e3fea11-a0ea-4052-af33-bb282317a6c6",
   "metadata": {
    "execution": {
     "iopub.execute_input": "2025-07-08T10:52:04.694208Z",
     "iopub.status.busy": "2025-07-08T10:52:04.692998Z",
     "iopub.status.idle": "2025-07-08T10:52:04.700762Z",
     "shell.execute_reply": "2025-07-08T10:52:04.699711Z",
     "shell.execute_reply.started": "2025-07-08T10:52:04.694176Z"
    }
   },
   "outputs": [
    {
     "data": {
      "text/plain": [
       "array([[20, 30],\n",
       "       [50, 60]])"
      ]
     },
     "execution_count": 33,
     "metadata": {},
     "output_type": "execute_result"
    }
   ],
   "source": [
    "first_array + third_array"
   ]
  },
  {
   "cell_type": "code",
   "execution_count": 34,
   "id": "c4ca422c-1cdc-4490-a426-39ba3588a629",
   "metadata": {
    "execution": {
     "iopub.execute_input": "2025-07-08T10:52:27.153930Z",
     "iopub.status.busy": "2025-07-08T10:52:27.153260Z",
     "iopub.status.idle": "2025-07-08T10:52:27.157787Z",
     "shell.execute_reply": "2025-07-08T10:52:27.156470Z",
     "shell.execute_reply.started": "2025-07-08T10:52:27.153899Z"
    }
   },
   "outputs": [],
   "source": [
    "# We do these arithmetic operations on matrices of different size only if the different dimension is one \n",
    "#in which case NumPy uses its broadcast rules for that operation:"
   ]
  },
  {
   "cell_type": "code",
   "execution_count": 35,
   "id": "86f7d9c2-eb8a-46d4-8330-1df39ca335d6",
   "metadata": {
    "execution": {
     "iopub.execute_input": "2025-07-08T10:52:34.000457Z",
     "iopub.status.busy": "2025-07-08T10:52:33.999709Z",
     "iopub.status.idle": "2025-07-08T10:52:34.785193Z",
     "shell.execute_reply": "2025-07-08T10:52:34.784231Z",
     "shell.execute_reply.started": "2025-07-08T10:52:34.000426Z"
    }
   },
   "outputs": [],
   "source": [
    "fourth_array = np.ones((3,4))"
   ]
  },
  {
   "cell_type": "code",
   "execution_count": 36,
   "id": "8c0749b9-8b8f-432e-8fd8-9563a81a8d69",
   "metadata": {
    "execution": {
     "iopub.execute_input": "2025-07-08T10:52:46.847158Z",
     "iopub.status.busy": "2025-07-08T10:52:46.846812Z",
     "iopub.status.idle": "2025-07-08T10:52:46.856056Z",
     "shell.execute_reply": "2025-07-08T10:52:46.854617Z",
     "shell.execute_reply.started": "2025-07-08T10:52:46.847137Z"
    }
   },
   "outputs": [
    {
     "data": {
      "text/plain": [
       "array([[1., 1., 1., 1.],\n",
       "       [1., 1., 1., 1.],\n",
       "       [1., 1., 1., 1.]])"
      ]
     },
     "execution_count": 36,
     "metadata": {},
     "output_type": "execute_result"
    }
   ],
   "source": [
    "fourth_array"
   ]
  },
  {
   "cell_type": "code",
   "execution_count": 37,
   "id": "7032beb9-7931-4929-b260-4e9ad09f2700",
   "metadata": {
    "execution": {
     "iopub.execute_input": "2025-07-08T10:53:34.119214Z",
     "iopub.status.busy": "2025-07-08T10:53:34.118910Z",
     "iopub.status.idle": "2025-07-08T10:53:34.122924Z",
     "shell.execute_reply": "2025-07-08T10:53:34.122209Z",
     "shell.execute_reply.started": "2025-07-08T10:53:34.119198Z"
    }
   },
   "outputs": [],
   "source": [
    "# matrix multiplication"
   ]
  },
  {
   "cell_type": "code",
   "execution_count": 38,
   "id": "f86874ab-907f-4388-96a1-91c17d493520",
   "metadata": {
    "execution": {
     "iopub.execute_input": "2025-07-08T10:54:10.200368Z",
     "iopub.status.busy": "2025-07-08T10:54:10.199339Z",
     "iopub.status.idle": "2025-07-08T10:54:10.204636Z",
     "shell.execute_reply": "2025-07-08T10:54:10.203589Z",
     "shell.execute_reply.started": "2025-07-08T10:54:10.200335Z"
    }
   },
   "outputs": [],
   "source": [
    "first_matrix = np.array ([[10,20,30]])"
   ]
  },
  {
   "cell_type": "code",
   "execution_count": 39,
   "id": "9b593f24-4c84-47ed-8294-2da3761f4d49",
   "metadata": {
    "execution": {
     "iopub.execute_input": "2025-07-08T10:54:19.341693Z",
     "iopub.status.busy": "2025-07-08T10:54:19.340935Z",
     "iopub.status.idle": "2025-07-08T10:54:19.347756Z",
     "shell.execute_reply": "2025-07-08T10:54:19.346422Z",
     "shell.execute_reply.started": "2025-07-08T10:54:19.341663Z"
    }
   },
   "outputs": [
    {
     "data": {
      "text/plain": [
       "array([[10, 20, 30]])"
      ]
     },
     "execution_count": 39,
     "metadata": {},
     "output_type": "execute_result"
    }
   ],
   "source": [
    "first_matrix"
   ]
  },
  {
   "cell_type": "code",
   "execution_count": 40,
   "id": "e8b21a2f-287f-48f6-ac2c-d757d3c02c34",
   "metadata": {
    "execution": {
     "iopub.execute_input": "2025-07-08T10:55:00.380994Z",
     "iopub.status.busy": "2025-07-08T10:55:00.380051Z",
     "iopub.status.idle": "2025-07-08T10:55:00.386277Z",
     "shell.execute_reply": "2025-07-08T10:55:00.385353Z",
     "shell.execute_reply.started": "2025-07-08T10:55:00.380962Z"
    }
   },
   "outputs": [],
   "source": [
    "second_matrix = np.array([[2,3],[2,3],[2,3]])"
   ]
  },
  {
   "cell_type": "code",
   "execution_count": 41,
   "id": "031fc5bc-74e5-4ac3-9bab-74b1eafba809",
   "metadata": {
    "execution": {
     "iopub.execute_input": "2025-07-08T10:55:09.636192Z",
     "iopub.status.busy": "2025-07-08T10:55:09.635874Z",
     "iopub.status.idle": "2025-07-08T10:55:09.643063Z",
     "shell.execute_reply": "2025-07-08T10:55:09.642074Z",
     "shell.execute_reply.started": "2025-07-08T10:55:09.636171Z"
    }
   },
   "outputs": [
    {
     "data": {
      "text/plain": [
       "array([[2, 3],\n",
       "       [2, 3],\n",
       "       [2, 3]])"
      ]
     },
     "execution_count": 41,
     "metadata": {},
     "output_type": "execute_result"
    }
   ],
   "source": [
    "second_matrix"
   ]
  },
  {
   "cell_type": "code",
   "execution_count": 42,
   "id": "19d3c1d3-db0a-45e4-b913-e9006f414f10",
   "metadata": {
    "execution": {
     "iopub.execute_input": "2025-07-08T10:55:22.086234Z",
     "iopub.status.busy": "2025-07-08T10:55:22.085931Z",
     "iopub.status.idle": "2025-07-08T10:55:22.092908Z",
     "shell.execute_reply": "2025-07-08T10:55:22.092078Z",
     "shell.execute_reply.started": "2025-07-08T10:55:22.086213Z"
    }
   },
   "outputs": [
    {
     "data": {
      "text/plain": [
       "(1, 3)"
      ]
     },
     "execution_count": 42,
     "metadata": {},
     "output_type": "execute_result"
    }
   ],
   "source": [
    "first_matrix.shape"
   ]
  },
  {
   "cell_type": "code",
   "execution_count": 43,
   "id": "c2cc3653-2e81-4901-badf-cf1422d1bf3a",
   "metadata": {
    "execution": {
     "iopub.execute_input": "2025-07-08T10:55:31.229772Z",
     "iopub.status.busy": "2025-07-08T10:55:31.228426Z",
     "iopub.status.idle": "2025-07-08T10:55:31.236907Z",
     "shell.execute_reply": "2025-07-08T10:55:31.235918Z",
     "shell.execute_reply.started": "2025-07-08T10:55:31.229740Z"
    }
   },
   "outputs": [
    {
     "data": {
      "text/plain": [
       "(3, 2)"
      ]
     },
     "execution_count": 43,
     "metadata": {},
     "output_type": "execute_result"
    }
   ],
   "source": [
    "second_matrix.shape"
   ]
  },
  {
   "cell_type": "code",
   "execution_count": 44,
   "id": "7a8bb3d7-a8b0-4eaf-95df-7c54d93e172f",
   "metadata": {
    "execution": {
     "iopub.execute_input": "2025-07-08T10:55:42.767910Z",
     "iopub.status.busy": "2025-07-08T10:55:42.767415Z",
     "iopub.status.idle": "2025-07-08T10:55:42.771650Z",
     "shell.execute_reply": "2025-07-08T10:55:42.770650Z",
     "shell.execute_reply.started": "2025-07-08T10:55:42.767886Z"
    }
   },
   "outputs": [],
   "source": [
    "#first_matrix * second_matrix"
   ]
  },
  {
   "cell_type": "code",
   "execution_count": 47,
   "id": "d00cf3a5-b8f0-475c-81bb-0688a1492995",
   "metadata": {
    "execution": {
     "iopub.execute_input": "2025-07-08T10:57:37.921784Z",
     "iopub.status.busy": "2025-07-08T10:57:37.921464Z",
     "iopub.status.idle": "2025-07-08T10:57:37.926429Z",
     "shell.execute_reply": "2025-07-08T10:57:37.925378Z",
     "shell.execute_reply.started": "2025-07-08T10:57:37.921762Z"
    }
   },
   "outputs": [],
   "source": [
    "\n",
    "result_matrix = first_matrix.dot(second_matrix)"
   ]
  },
  {
   "cell_type": "code",
   "execution_count": 48,
   "id": "e7989cb7-48a7-440c-b103-51da10d933bc",
   "metadata": {
    "execution": {
     "iopub.execute_input": "2025-07-08T10:57:50.649070Z",
     "iopub.status.busy": "2025-07-08T10:57:50.648748Z",
     "iopub.status.idle": "2025-07-08T10:57:50.656358Z",
     "shell.execute_reply": "2025-07-08T10:57:50.655348Z",
     "shell.execute_reply.started": "2025-07-08T10:57:50.649048Z"
    }
   },
   "outputs": [
    {
     "data": {
      "text/plain": [
       "array([[120, 180]])"
      ]
     },
     "execution_count": 48,
     "metadata": {},
     "output_type": "execute_result"
    }
   ],
   "source": [
    "result_matrix"
   ]
  },
  {
   "cell_type": "code",
   "execution_count": 49,
   "id": "bea75401-68e3-4521-998e-5e5d8f31d6ec",
   "metadata": {
    "execution": {
     "iopub.execute_input": "2025-07-08T10:58:02.728022Z",
     "iopub.status.busy": "2025-07-08T10:58:02.726692Z",
     "iopub.status.idle": "2025-07-08T10:58:02.734050Z",
     "shell.execute_reply": "2025-07-08T10:58:02.732410Z",
     "shell.execute_reply.started": "2025-07-08T10:58:02.727995Z"
    }
   },
   "outputs": [
    {
     "data": {
      "text/plain": [
       "(1, 2)"
      ]
     },
     "execution_count": 49,
     "metadata": {},
     "output_type": "execute_result"
    }
   ],
   "source": [
    "result_matrix.shape"
   ]
  },
  {
   "cell_type": "code",
   "execution_count": null,
   "id": "08f35d68-e74b-47cf-adbd-1e64c1b99e58",
   "metadata": {},
   "outputs": [],
   "source": []
  }
 ],
 "metadata": {
  "kernelspec": {
   "display_name": "Python 3 (ipykernel)",
   "language": "python",
   "name": "python3"
  },
  "language_info": {
   "codemirror_mode": {
    "name": "ipython",
    "version": 3
   },
   "file_extension": ".py",
   "mimetype": "text/x-python",
   "name": "python",
   "nbconvert_exporter": "python",
   "pygments_lexer": "ipython3",
   "version": "3.12.9"
  }
 },
 "nbformat": 4,
 "nbformat_minor": 5
}
