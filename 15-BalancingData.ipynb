{
 "cells": [
  {
   "cell_type": "code",
   "execution_count": 6,
   "id": "d6d9bcca-c6d6-44f4-9038-b3544b5120c3",
   "metadata": {
    "execution": {
     "iopub.execute_input": "2025-07-24T11:56:16.846013Z",
     "iopub.status.busy": "2025-07-24T11:56:16.844873Z",
     "iopub.status.idle": "2025-07-24T11:56:16.850463Z",
     "shell.execute_reply": "2025-07-24T11:56:16.849210Z",
     "shell.execute_reply.started": "2025-07-24T11:56:16.845968Z"
    }
   },
   "outputs": [],
   "source": [
    "import numpy as np\n",
    "import pandas as pd"
   ]
  },
  {
   "cell_type": "code",
   "execution_count": 7,
   "id": "2956d3f3-9905-4ea1-b996-40224859f265",
   "metadata": {
    "execution": {
     "iopub.execute_input": "2025-07-24T11:56:17.260882Z",
     "iopub.status.busy": "2025-07-24T11:56:17.260194Z",
     "iopub.status.idle": "2025-07-24T11:56:17.266049Z",
     "shell.execute_reply": "2025-07-24T11:56:17.264901Z",
     "shell.execute_reply.started": "2025-07-24T11:56:17.260857Z"
    }
   },
   "outputs": [],
   "source": [
    "# random seed\n",
    "\n",
    "np.random.seed(42)\n",
    "\n",
    "set1no = 900\n",
    "set2no = 100"
   ]
  },
  {
   "cell_type": "code",
   "execution_count": 8,
   "id": "f1b21d32-4170-4d20-b858-c98e0db21b32",
   "metadata": {
    "execution": {
     "iopub.execute_input": "2025-07-24T11:56:17.772311Z",
     "iopub.status.busy": "2025-07-24T11:56:17.772019Z",
     "iopub.status.idle": "2025-07-24T11:56:17.785349Z",
     "shell.execute_reply": "2025-07-24T11:56:17.784384Z",
     "shell.execute_reply.started": "2025-07-24T11:56:17.772291Z"
    }
   },
   "outputs": [],
   "source": [
    "## dataframe with imbalanced data set\n",
    "df1 = pd.DataFrame({\n",
    "    'feature_1': np.random.normal(loc=0, scale=1, size=set1no),\n",
    "    'feature_2': np.random.normal(loc=0, scale=1, size=set1no),\n",
    "    'target': [0] * set1no\n",
    "})\n",
    "\n",
    "df2 = pd.DataFrame({\n",
    "    'feature_1': np.random.normal(loc=2, scale=1, size=set2no),\n",
    "    'feature_2': np.random.normal(loc=2, scale=1, size=set2no),\n",
    "    'target': [1] * set2no\n",
    "})"
   ]
  },
  {
   "cell_type": "code",
   "execution_count": 9,
   "id": "2d5bbb51-08a9-40cd-b2f7-6f6e749e1259",
   "metadata": {
    "execution": {
     "iopub.execute_input": "2025-07-24T11:56:18.656794Z",
     "iopub.status.busy": "2025-07-24T11:56:18.656491Z",
     "iopub.status.idle": "2025-07-24T11:56:18.680344Z",
     "shell.execute_reply": "2025-07-24T11:56:18.679359Z",
     "shell.execute_reply.started": "2025-07-24T11:56:18.656774Z"
    }
   },
   "outputs": [
    {
     "data": {
      "text/html": [
       "<div>\n",
       "<style scoped>\n",
       "    .dataframe tbody tr th:only-of-type {\n",
       "        vertical-align: middle;\n",
       "    }\n",
       "\n",
       "    .dataframe tbody tr th {\n",
       "        vertical-align: top;\n",
       "    }\n",
       "\n",
       "    .dataframe thead th {\n",
       "        text-align: right;\n",
       "    }\n",
       "</style>\n",
       "<table border=\"1\" class=\"dataframe\">\n",
       "  <thead>\n",
       "    <tr style=\"text-align: right;\">\n",
       "      <th></th>\n",
       "      <th>feature_1</th>\n",
       "      <th>feature_2</th>\n",
       "      <th>target</th>\n",
       "    </tr>\n",
       "  </thead>\n",
       "  <tbody>\n",
       "    <tr>\n",
       "      <th>0</th>\n",
       "      <td>0.496714</td>\n",
       "      <td>0.368673</td>\n",
       "      <td>0</td>\n",
       "    </tr>\n",
       "    <tr>\n",
       "      <th>1</th>\n",
       "      <td>-0.138264</td>\n",
       "      <td>-0.393339</td>\n",
       "      <td>0</td>\n",
       "    </tr>\n",
       "    <tr>\n",
       "      <th>2</th>\n",
       "      <td>0.647689</td>\n",
       "      <td>0.028745</td>\n",
       "      <td>0</td>\n",
       "    </tr>\n",
       "    <tr>\n",
       "      <th>3</th>\n",
       "      <td>1.523030</td>\n",
       "      <td>1.278452</td>\n",
       "      <td>0</td>\n",
       "    </tr>\n",
       "    <tr>\n",
       "      <th>4</th>\n",
       "      <td>-0.234153</td>\n",
       "      <td>0.191099</td>\n",
       "      <td>0</td>\n",
       "    </tr>\n",
       "  </tbody>\n",
       "</table>\n",
       "</div>"
      ],
      "text/plain": [
       "   feature_1  feature_2  target\n",
       "0   0.496714   0.368673       0\n",
       "1  -0.138264  -0.393339       0\n",
       "2   0.647689   0.028745       0\n",
       "3   1.523030   1.278452       0\n",
       "4  -0.234153   0.191099       0"
      ]
     },
     "execution_count": 9,
     "metadata": {},
     "output_type": "execute_result"
    }
   ],
   "source": [
    "df1.head()"
   ]
  },
  {
   "cell_type": "code",
   "execution_count": 10,
   "id": "dff1b829-cb74-4411-a65e-00977d49b0dc",
   "metadata": {
    "execution": {
     "iopub.execute_input": "2025-07-24T11:56:19.181010Z",
     "iopub.status.busy": "2025-07-24T11:56:19.180664Z",
     "iopub.status.idle": "2025-07-24T11:56:19.191804Z",
     "shell.execute_reply": "2025-07-24T11:56:19.190077Z",
     "shell.execute_reply.started": "2025-07-24T11:56:19.180988Z"
    }
   },
   "outputs": [
    {
     "data": {
      "text/html": [
       "<div>\n",
       "<style scoped>\n",
       "    .dataframe tbody tr th:only-of-type {\n",
       "        vertical-align: middle;\n",
       "    }\n",
       "\n",
       "    .dataframe tbody tr th {\n",
       "        vertical-align: top;\n",
       "    }\n",
       "\n",
       "    .dataframe thead th {\n",
       "        text-align: right;\n",
       "    }\n",
       "</style>\n",
       "<table border=\"1\" class=\"dataframe\">\n",
       "  <thead>\n",
       "    <tr style=\"text-align: right;\">\n",
       "      <th></th>\n",
       "      <th>feature_1</th>\n",
       "      <th>feature_2</th>\n",
       "      <th>target</th>\n",
       "    </tr>\n",
       "  </thead>\n",
       "  <tbody>\n",
       "    <tr>\n",
       "      <th>0</th>\n",
       "      <td>3.901191</td>\n",
       "      <td>2.696954</td>\n",
       "      <td>1</td>\n",
       "    </tr>\n",
       "    <tr>\n",
       "      <th>1</th>\n",
       "      <td>1.939339</td>\n",
       "      <td>1.666181</td>\n",
       "      <td>1</td>\n",
       "    </tr>\n",
       "    <tr>\n",
       "      <th>2</th>\n",
       "      <td>1.291593</td>\n",
       "      <td>3.173125</td>\n",
       "      <td>1</td>\n",
       "    </tr>\n",
       "    <tr>\n",
       "      <th>3</th>\n",
       "      <td>0.486286</td>\n",
       "      <td>2.369642</td>\n",
       "      <td>1</td>\n",
       "    </tr>\n",
       "    <tr>\n",
       "      <th>4</th>\n",
       "      <td>0.196860</td>\n",
       "      <td>1.892698</td>\n",
       "      <td>1</td>\n",
       "    </tr>\n",
       "  </tbody>\n",
       "</table>\n",
       "</div>"
      ],
      "text/plain": [
       "   feature_1  feature_2  target\n",
       "0   3.901191   2.696954       1\n",
       "1   1.939339   1.666181       1\n",
       "2   1.291593   3.173125       1\n",
       "3   0.486286   2.369642       1\n",
       "4   0.196860   1.892698       1"
      ]
     },
     "execution_count": 10,
     "metadata": {},
     "output_type": "execute_result"
    }
   ],
   "source": [
    "df2.head()"
   ]
  },
  {
   "cell_type": "code",
   "execution_count": 11,
   "id": "f1e505df-b6f6-41c8-943b-df9a171f01ef",
   "metadata": {
    "execution": {
     "iopub.execute_input": "2025-07-24T11:56:19.611425Z",
     "iopub.status.busy": "2025-07-24T11:56:19.611124Z",
     "iopub.status.idle": "2025-07-24T11:56:19.620253Z",
     "shell.execute_reply": "2025-07-24T11:56:19.619285Z",
     "shell.execute_reply.started": "2025-07-24T11:56:19.611405Z"
    }
   },
   "outputs": [],
   "source": [
    "df=pd.concat([df1,df2]).reset_index(drop=True)"
   ]
  },
  {
   "cell_type": "code",
   "execution_count": 12,
   "id": "d5439e3a-e9fc-45f6-9a49-176248fef39f",
   "metadata": {
    "execution": {
     "iopub.execute_input": "2025-07-24T11:56:19.929088Z",
     "iopub.status.busy": "2025-07-24T11:56:19.928376Z",
     "iopub.status.idle": "2025-07-24T11:56:19.943969Z",
     "shell.execute_reply": "2025-07-24T11:56:19.943064Z",
     "shell.execute_reply.started": "2025-07-24T11:56:19.929065Z"
    }
   },
   "outputs": [
    {
     "data": {
      "text/html": [
       "<div>\n",
       "<style scoped>\n",
       "    .dataframe tbody tr th:only-of-type {\n",
       "        vertical-align: middle;\n",
       "    }\n",
       "\n",
       "    .dataframe tbody tr th {\n",
       "        vertical-align: top;\n",
       "    }\n",
       "\n",
       "    .dataframe thead th {\n",
       "        text-align: right;\n",
       "    }\n",
       "</style>\n",
       "<table border=\"1\" class=\"dataframe\">\n",
       "  <thead>\n",
       "    <tr style=\"text-align: right;\">\n",
       "      <th></th>\n",
       "      <th>feature_1</th>\n",
       "      <th>feature_2</th>\n",
       "      <th>target</th>\n",
       "    </tr>\n",
       "  </thead>\n",
       "  <tbody>\n",
       "    <tr>\n",
       "      <th>0</th>\n",
       "      <td>0.496714</td>\n",
       "      <td>0.368673</td>\n",
       "      <td>0</td>\n",
       "    </tr>\n",
       "    <tr>\n",
       "      <th>1</th>\n",
       "      <td>-0.138264</td>\n",
       "      <td>-0.393339</td>\n",
       "      <td>0</td>\n",
       "    </tr>\n",
       "    <tr>\n",
       "      <th>2</th>\n",
       "      <td>0.647689</td>\n",
       "      <td>0.028745</td>\n",
       "      <td>0</td>\n",
       "    </tr>\n",
       "    <tr>\n",
       "      <th>3</th>\n",
       "      <td>1.523030</td>\n",
       "      <td>1.278452</td>\n",
       "      <td>0</td>\n",
       "    </tr>\n",
       "    <tr>\n",
       "      <th>4</th>\n",
       "      <td>-0.234153</td>\n",
       "      <td>0.191099</td>\n",
       "      <td>0</td>\n",
       "    </tr>\n",
       "    <tr>\n",
       "      <th>...</th>\n",
       "      <td>...</td>\n",
       "      <td>...</td>\n",
       "      <td>...</td>\n",
       "    </tr>\n",
       "    <tr>\n",
       "      <th>995</th>\n",
       "      <td>1.629989</td>\n",
       "      <td>3.070150</td>\n",
       "      <td>1</td>\n",
       "    </tr>\n",
       "    <tr>\n",
       "      <th>996</th>\n",
       "      <td>1.741204</td>\n",
       "      <td>1.973479</td>\n",
       "      <td>1</td>\n",
       "    </tr>\n",
       "    <tr>\n",
       "      <th>997</th>\n",
       "      <td>3.598647</td>\n",
       "      <td>1.118125</td>\n",
       "      <td>1</td>\n",
       "    </tr>\n",
       "    <tr>\n",
       "      <th>998</th>\n",
       "      <td>2.560919</td>\n",
       "      <td>1.836933</td>\n",
       "      <td>1</td>\n",
       "    </tr>\n",
       "    <tr>\n",
       "      <th>999</th>\n",
       "      <td>1.704520</td>\n",
       "      <td>1.255097</td>\n",
       "      <td>1</td>\n",
       "    </tr>\n",
       "  </tbody>\n",
       "</table>\n",
       "<p>1000 rows × 3 columns</p>\n",
       "</div>"
      ],
      "text/plain": [
       "     feature_1  feature_2  target\n",
       "0     0.496714   0.368673       0\n",
       "1    -0.138264  -0.393339       0\n",
       "2     0.647689   0.028745       0\n",
       "3     1.523030   1.278452       0\n",
       "4    -0.234153   0.191099       0\n",
       "..         ...        ...     ...\n",
       "995   1.629989   3.070150       1\n",
       "996   1.741204   1.973479       1\n",
       "997   3.598647   1.118125       1\n",
       "998   2.560919   1.836933       1\n",
       "999   1.704520   1.255097       1\n",
       "\n",
       "[1000 rows x 3 columns]"
      ]
     },
     "execution_count": 12,
     "metadata": {},
     "output_type": "execute_result"
    }
   ],
   "source": [
    "df"
   ]
  },
  {
   "cell_type": "code",
   "execution_count": 13,
   "id": "879e5212-6518-4389-8076-eefaf1986916",
   "metadata": {
    "execution": {
     "iopub.execute_input": "2025-07-24T11:56:20.255944Z",
     "iopub.status.busy": "2025-07-24T11:56:20.255685Z",
     "iopub.status.idle": "2025-07-24T11:56:20.265420Z",
     "shell.execute_reply": "2025-07-24T11:56:20.264718Z",
     "shell.execute_reply.started": "2025-07-24T11:56:20.255926Z"
    }
   },
   "outputs": [
    {
     "data": {
      "text/plain": [
       "array([0, 1])"
      ]
     },
     "execution_count": 13,
     "metadata": {},
     "output_type": "execute_result"
    }
   ],
   "source": [
    "df [\"target\"].unique()"
   ]
  },
  {
   "cell_type": "code",
   "execution_count": 14,
   "id": "86bdab5f-c0bc-44c3-b736-446a3a1a5bb8",
   "metadata": {
    "execution": {
     "iopub.execute_input": "2025-07-24T11:56:20.641188Z",
     "iopub.status.busy": "2025-07-24T11:56:20.640601Z",
     "iopub.status.idle": "2025-07-24T11:56:20.652373Z",
     "shell.execute_reply": "2025-07-24T11:56:20.651118Z",
     "shell.execute_reply.started": "2025-07-24T11:56:20.641166Z"
    }
   },
   "outputs": [
    {
     "data": {
      "text/plain": [
       "target\n",
       "0    900\n",
       "1    100\n",
       "Name: count, dtype: int64"
      ]
     },
     "execution_count": 14,
     "metadata": {},
     "output_type": "execute_result"
    }
   ],
   "source": [
    "df[\"target\"].value_counts()     #cokta dengeli bir dagilim degil ml model icin. sonuc kotu olacaktir. "
   ]
  },
  {
   "cell_type": "code",
   "execution_count": 15,
   "id": "ba7182a2-94cb-426d-8656-6641bfa6652e",
   "metadata": {
    "execution": {
     "iopub.execute_input": "2025-07-24T11:56:21.067371Z",
     "iopub.status.busy": "2025-07-24T11:56:21.067060Z",
     "iopub.status.idle": "2025-07-24T11:56:21.072028Z",
     "shell.execute_reply": "2025-07-24T11:56:21.070573Z",
     "shell.execute_reply.started": "2025-07-24T11:56:21.067349Z"
    }
   },
   "outputs": [],
   "source": [
    "# upsampling -->  minority  --> birleri bi nevi arttirmak. azinlik olanlari attirmak 1'leri 900'e cikarmak gibi"
   ]
  },
  {
   "cell_type": "code",
   "execution_count": 16,
   "id": "354390d9-5894-470e-9825-a61f7fd4c78b",
   "metadata": {
    "execution": {
     "iopub.execute_input": "2025-07-24T11:56:22.034273Z",
     "iopub.status.busy": "2025-07-24T11:56:22.032967Z",
     "iopub.status.idle": "2025-07-24T11:56:22.038474Z",
     "shell.execute_reply": "2025-07-24T11:56:22.037513Z",
     "shell.execute_reply.started": "2025-07-24T11:56:22.034228Z"
    }
   },
   "outputs": [],
   "source": [
    "# downsampling --> downsample majorty  --> yani cogunlugu azaltmak  yani 0'lari 100'e indirmek  "
   ]
  },
  {
   "cell_type": "code",
   "execution_count": null,
   "id": "95d350ee-b3c9-497c-9cff-035f8a0657fb",
   "metadata": {},
   "outputs": [],
   "source": []
  },
  {
   "cell_type": "code",
   "execution_count": null,
   "id": "5875c198-d7e6-44f0-8840-ae1b511c6609",
   "metadata": {},
   "outputs": [],
   "source": []
  },
  {
   "cell_type": "code",
   "execution_count": 17,
   "id": "f0441ff7-0ae5-4431-a1e0-15a42fd29ba4",
   "metadata": {
    "execution": {
     "iopub.execute_input": "2025-07-24T11:56:23.054897Z",
     "iopub.status.busy": "2025-07-24T11:56:23.054597Z",
     "iopub.status.idle": "2025-07-24T11:56:23.059096Z",
     "shell.execute_reply": "2025-07-24T11:56:23.057926Z",
     "shell.execute_reply.started": "2025-07-24T11:56:23.054875Z"
    }
   },
   "outputs": [],
   "source": [
    "# upsmapling"
   ]
  },
  {
   "cell_type": "code",
   "execution_count": null,
   "id": "da5eab3a-a90f-44c3-b443-c8bc53c09602",
   "metadata": {},
   "outputs": [],
   "source": []
  },
  {
   "cell_type": "code",
   "execution_count": 18,
   "id": "7b1adcc7-c911-4412-9f0a-f36c120be97a",
   "metadata": {
    "execution": {
     "iopub.execute_input": "2025-07-24T11:56:23.873459Z",
     "iopub.status.busy": "2025-07-24T11:56:23.873164Z",
     "iopub.status.idle": "2025-07-24T11:56:23.881015Z",
     "shell.execute_reply": "2025-07-24T11:56:23.879745Z",
     "shell.execute_reply.started": "2025-07-24T11:56:23.873439Z"
    }
   },
   "outputs": [],
   "source": [
    "df_minority = df[df[\"target\"] == 1]      # ilk once datasi az olanlari gorelim ve tanimlayalim."
   ]
  },
  {
   "cell_type": "code",
   "execution_count": 19,
   "id": "8d9183aa-f430-4836-a50e-a0fcb946fc85",
   "metadata": {
    "execution": {
     "iopub.execute_input": "2025-07-24T11:56:27.739167Z",
     "iopub.status.busy": "2025-07-24T11:56:27.738874Z",
     "iopub.status.idle": "2025-07-24T11:56:27.749686Z",
     "shell.execute_reply": "2025-07-24T11:56:27.748810Z",
     "shell.execute_reply.started": "2025-07-24T11:56:27.739146Z"
    }
   },
   "outputs": [
    {
     "data": {
      "text/html": [
       "<div>\n",
       "<style scoped>\n",
       "    .dataframe tbody tr th:only-of-type {\n",
       "        vertical-align: middle;\n",
       "    }\n",
       "\n",
       "    .dataframe tbody tr th {\n",
       "        vertical-align: top;\n",
       "    }\n",
       "\n",
       "    .dataframe thead th {\n",
       "        text-align: right;\n",
       "    }\n",
       "</style>\n",
       "<table border=\"1\" class=\"dataframe\">\n",
       "  <thead>\n",
       "    <tr style=\"text-align: right;\">\n",
       "      <th></th>\n",
       "      <th>feature_1</th>\n",
       "      <th>feature_2</th>\n",
       "      <th>target</th>\n",
       "    </tr>\n",
       "  </thead>\n",
       "  <tbody>\n",
       "    <tr>\n",
       "      <th>900</th>\n",
       "      <td>3.901191</td>\n",
       "      <td>2.696954</td>\n",
       "      <td>1</td>\n",
       "    </tr>\n",
       "    <tr>\n",
       "      <th>901</th>\n",
       "      <td>1.939339</td>\n",
       "      <td>1.666181</td>\n",
       "      <td>1</td>\n",
       "    </tr>\n",
       "    <tr>\n",
       "      <th>902</th>\n",
       "      <td>1.291593</td>\n",
       "      <td>3.173125</td>\n",
       "      <td>1</td>\n",
       "    </tr>\n",
       "    <tr>\n",
       "      <th>903</th>\n",
       "      <td>0.486286</td>\n",
       "      <td>2.369642</td>\n",
       "      <td>1</td>\n",
       "    </tr>\n",
       "    <tr>\n",
       "      <th>904</th>\n",
       "      <td>0.196860</td>\n",
       "      <td>1.892698</td>\n",
       "      <td>1</td>\n",
       "    </tr>\n",
       "    <tr>\n",
       "      <th>...</th>\n",
       "      <td>...</td>\n",
       "      <td>...</td>\n",
       "      <td>...</td>\n",
       "    </tr>\n",
       "    <tr>\n",
       "      <th>995</th>\n",
       "      <td>1.629989</td>\n",
       "      <td>3.070150</td>\n",
       "      <td>1</td>\n",
       "    </tr>\n",
       "    <tr>\n",
       "      <th>996</th>\n",
       "      <td>1.741204</td>\n",
       "      <td>1.973479</td>\n",
       "      <td>1</td>\n",
       "    </tr>\n",
       "    <tr>\n",
       "      <th>997</th>\n",
       "      <td>3.598647</td>\n",
       "      <td>1.118125</td>\n",
       "      <td>1</td>\n",
       "    </tr>\n",
       "    <tr>\n",
       "      <th>998</th>\n",
       "      <td>2.560919</td>\n",
       "      <td>1.836933</td>\n",
       "      <td>1</td>\n",
       "    </tr>\n",
       "    <tr>\n",
       "      <th>999</th>\n",
       "      <td>1.704520</td>\n",
       "      <td>1.255097</td>\n",
       "      <td>1</td>\n",
       "    </tr>\n",
       "  </tbody>\n",
       "</table>\n",
       "<p>100 rows × 3 columns</p>\n",
       "</div>"
      ],
      "text/plain": [
       "     feature_1  feature_2  target\n",
       "900   3.901191   2.696954       1\n",
       "901   1.939339   1.666181       1\n",
       "902   1.291593   3.173125       1\n",
       "903   0.486286   2.369642       1\n",
       "904   0.196860   1.892698       1\n",
       "..         ...        ...     ...\n",
       "995   1.629989   3.070150       1\n",
       "996   1.741204   1.973479       1\n",
       "997   3.598647   1.118125       1\n",
       "998   2.560919   1.836933       1\n",
       "999   1.704520   1.255097       1\n",
       "\n",
       "[100 rows x 3 columns]"
      ]
     },
     "execution_count": 19,
     "metadata": {},
     "output_type": "execute_result"
    }
   ],
   "source": [
    "df_minority"
   ]
  },
  {
   "cell_type": "code",
   "execution_count": 20,
   "id": "d9435a95-0a84-402d-a99a-35d8e9a0c2cc",
   "metadata": {
    "execution": {
     "iopub.execute_input": "2025-07-24T11:56:28.786263Z",
     "iopub.status.busy": "2025-07-24T11:56:28.785973Z",
     "iopub.status.idle": "2025-07-24T11:56:28.793249Z",
     "shell.execute_reply": "2025-07-24T11:56:28.792217Z",
     "shell.execute_reply.started": "2025-07-24T11:56:28.786242Z"
    }
   },
   "outputs": [],
   "source": [
    "df_majority = df[df[\"target\"] == 0]"
   ]
  },
  {
   "cell_type": "code",
   "execution_count": 21,
   "id": "a54f3d6d-7dca-452c-b199-af410e8fd016",
   "metadata": {
    "execution": {
     "iopub.execute_input": "2025-07-24T11:56:29.110600Z",
     "iopub.status.busy": "2025-07-24T11:56:29.109503Z",
     "iopub.status.idle": "2025-07-24T11:56:29.119939Z",
     "shell.execute_reply": "2025-07-24T11:56:29.119125Z",
     "shell.execute_reply.started": "2025-07-24T11:56:29.110577Z"
    }
   },
   "outputs": [
    {
     "data": {
      "text/html": [
       "<div>\n",
       "<style scoped>\n",
       "    .dataframe tbody tr th:only-of-type {\n",
       "        vertical-align: middle;\n",
       "    }\n",
       "\n",
       "    .dataframe tbody tr th {\n",
       "        vertical-align: top;\n",
       "    }\n",
       "\n",
       "    .dataframe thead th {\n",
       "        text-align: right;\n",
       "    }\n",
       "</style>\n",
       "<table border=\"1\" class=\"dataframe\">\n",
       "  <thead>\n",
       "    <tr style=\"text-align: right;\">\n",
       "      <th></th>\n",
       "      <th>feature_1</th>\n",
       "      <th>feature_2</th>\n",
       "      <th>target</th>\n",
       "    </tr>\n",
       "  </thead>\n",
       "  <tbody>\n",
       "    <tr>\n",
       "      <th>0</th>\n",
       "      <td>0.496714</td>\n",
       "      <td>0.368673</td>\n",
       "      <td>0</td>\n",
       "    </tr>\n",
       "    <tr>\n",
       "      <th>1</th>\n",
       "      <td>-0.138264</td>\n",
       "      <td>-0.393339</td>\n",
       "      <td>0</td>\n",
       "    </tr>\n",
       "    <tr>\n",
       "      <th>2</th>\n",
       "      <td>0.647689</td>\n",
       "      <td>0.028745</td>\n",
       "      <td>0</td>\n",
       "    </tr>\n",
       "    <tr>\n",
       "      <th>3</th>\n",
       "      <td>1.523030</td>\n",
       "      <td>1.278452</td>\n",
       "      <td>0</td>\n",
       "    </tr>\n",
       "    <tr>\n",
       "      <th>4</th>\n",
       "      <td>-0.234153</td>\n",
       "      <td>0.191099</td>\n",
       "      <td>0</td>\n",
       "    </tr>\n",
       "    <tr>\n",
       "      <th>...</th>\n",
       "      <td>...</td>\n",
       "      <td>...</td>\n",
       "      <td>...</td>\n",
       "    </tr>\n",
       "    <tr>\n",
       "      <th>895</th>\n",
       "      <td>0.648710</td>\n",
       "      <td>-0.751969</td>\n",
       "      <td>0</td>\n",
       "    </tr>\n",
       "    <tr>\n",
       "      <th>896</th>\n",
       "      <td>-0.167118</td>\n",
       "      <td>-0.319054</td>\n",
       "      <td>0</td>\n",
       "    </tr>\n",
       "    <tr>\n",
       "      <th>897</th>\n",
       "      <td>0.146714</td>\n",
       "      <td>-0.796026</td>\n",
       "      <td>0</td>\n",
       "    </tr>\n",
       "    <tr>\n",
       "      <th>898</th>\n",
       "      <td>1.206509</td>\n",
       "      <td>1.076007</td>\n",
       "      <td>0</td>\n",
       "    </tr>\n",
       "    <tr>\n",
       "      <th>899</th>\n",
       "      <td>-0.816936</td>\n",
       "      <td>0.021312</td>\n",
       "      <td>0</td>\n",
       "    </tr>\n",
       "  </tbody>\n",
       "</table>\n",
       "<p>900 rows × 3 columns</p>\n",
       "</div>"
      ],
      "text/plain": [
       "     feature_1  feature_2  target\n",
       "0     0.496714   0.368673       0\n",
       "1    -0.138264  -0.393339       0\n",
       "2     0.647689   0.028745       0\n",
       "3     1.523030   1.278452       0\n",
       "4    -0.234153   0.191099       0\n",
       "..         ...        ...     ...\n",
       "895   0.648710  -0.751969       0\n",
       "896  -0.167118  -0.319054       0\n",
       "897   0.146714  -0.796026       0\n",
       "898   1.206509   1.076007       0\n",
       "899  -0.816936   0.021312       0\n",
       "\n",
       "[900 rows x 3 columns]"
      ]
     },
     "execution_count": 21,
     "metadata": {},
     "output_type": "execute_result"
    }
   ],
   "source": [
    "df_majority"
   ]
  },
  {
   "cell_type": "code",
   "execution_count": 22,
   "id": "d8482629-c940-4980-ae91-678d35eee793",
   "metadata": {
    "execution": {
     "iopub.execute_input": "2025-07-24T11:56:29.744545Z",
     "iopub.status.busy": "2025-07-24T11:56:29.744232Z",
     "iopub.status.idle": "2025-07-24T11:56:29.749456Z",
     "shell.execute_reply": "2025-07-24T11:56:29.748383Z",
     "shell.execute_reply.started": "2025-07-24T11:56:29.744524Z"
    }
   },
   "outputs": [],
   "source": [
    "# upsample icin ve ya downsample icin kutuphane kullanacagiz hazir olarak. ismi ----  sklearn ----- "
   ]
  },
  {
   "cell_type": "code",
   "execution_count": 23,
   "id": "909dc738-5a8f-4aae-aa65-e899e03f604d",
   "metadata": {
    "execution": {
     "iopub.execute_input": "2025-07-24T11:56:30.717549Z",
     "iopub.status.busy": "2025-07-24T11:56:30.717249Z",
     "iopub.status.idle": "2025-07-24T11:56:30.723098Z",
     "shell.execute_reply": "2025-07-24T11:56:30.722254Z",
     "shell.execute_reply.started": "2025-07-24T11:56:30.717528Z"
    }
   },
   "outputs": [],
   "source": [
    "from sklearn.utils import resample"
   ]
  },
  {
   "cell_type": "code",
   "execution_count": 25,
   "id": "57eda9dd-209f-48ee-aca8-0ba443e1f145",
   "metadata": {
    "execution": {
     "iopub.execute_input": "2025-07-24T11:57:08.576287Z",
     "iopub.status.busy": "2025-07-24T11:57:08.575979Z",
     "iopub.status.idle": "2025-07-24T11:57:08.586980Z",
     "shell.execute_reply": "2025-07-24T11:57:08.585977Z",
     "shell.execute_reply.started": "2025-07-24T11:57:08.576266Z"
    }
   },
   "outputs": [],
   "source": [
    "df_minority_unsampled = resample (df_minority, replace=True, n_samples=len(df_majority), random_state=42)"
   ]
  },
  {
   "cell_type": "code",
   "execution_count": 28,
   "id": "79d4cbf3-ea42-46b0-8ce1-692bf16098ba",
   "metadata": {
    "execution": {
     "iopub.execute_input": "2025-07-24T11:57:53.640080Z",
     "iopub.status.busy": "2025-07-24T11:57:53.639762Z",
     "iopub.status.idle": "2025-07-24T11:57:53.646585Z",
     "shell.execute_reply": "2025-07-24T11:57:53.645609Z",
     "shell.execute_reply.started": "2025-07-24T11:57:53.640057Z"
    }
   },
   "outputs": [
    {
     "data": {
      "text/plain": [
       "(900, 3)"
      ]
     },
     "execution_count": 28,
     "metadata": {},
     "output_type": "execute_result"
    }
   ],
   "source": [
    "df_minority_unsampled.shape"
   ]
  },
  {
   "cell_type": "code",
   "execution_count": 33,
   "id": "ec7e409d-c260-4d33-8605-1a08dfd9768f",
   "metadata": {
    "execution": {
     "iopub.execute_input": "2025-07-24T12:29:50.172275Z",
     "iopub.status.busy": "2025-07-24T12:29:50.171917Z",
     "iopub.status.idle": "2025-07-24T12:29:50.183081Z",
     "shell.execute_reply": "2025-07-24T12:29:50.182011Z",
     "shell.execute_reply.started": "2025-07-24T12:29:50.172256Z"
    }
   },
   "outputs": [
    {
     "data": {
      "text/html": [
       "<div>\n",
       "<style scoped>\n",
       "    .dataframe tbody tr th:only-of-type {\n",
       "        vertical-align: middle;\n",
       "    }\n",
       "\n",
       "    .dataframe tbody tr th {\n",
       "        vertical-align: top;\n",
       "    }\n",
       "\n",
       "    .dataframe thead th {\n",
       "        text-align: right;\n",
       "    }\n",
       "</style>\n",
       "<table border=\"1\" class=\"dataframe\">\n",
       "  <thead>\n",
       "    <tr style=\"text-align: right;\">\n",
       "      <th></th>\n",
       "      <th>feature_1</th>\n",
       "      <th>feature_2</th>\n",
       "      <th>target</th>\n",
       "    </tr>\n",
       "  </thead>\n",
       "  <tbody>\n",
       "    <tr>\n",
       "      <th>951</th>\n",
       "      <td>3.775311</td>\n",
       "      <td>3.261922</td>\n",
       "      <td>1</td>\n",
       "    </tr>\n",
       "    <tr>\n",
       "      <th>992</th>\n",
       "      <td>1.563614</td>\n",
       "      <td>3.188913</td>\n",
       "      <td>1</td>\n",
       "    </tr>\n",
       "    <tr>\n",
       "      <th>914</th>\n",
       "      <td>1.731469</td>\n",
       "      <td>0.198942</td>\n",
       "      <td>1</td>\n",
       "    </tr>\n",
       "    <tr>\n",
       "      <th>971</th>\n",
       "      <td>1.785079</td>\n",
       "      <td>-0.940389</td>\n",
       "      <td>1</td>\n",
       "    </tr>\n",
       "    <tr>\n",
       "      <th>960</th>\n",
       "      <td>1.865691</td>\n",
       "      <td>1.945106</td>\n",
       "      <td>1</td>\n",
       "    </tr>\n",
       "    <tr>\n",
       "      <th>...</th>\n",
       "      <td>...</td>\n",
       "      <td>...</td>\n",
       "      <td>...</td>\n",
       "    </tr>\n",
       "    <tr>\n",
       "      <th>952</th>\n",
       "      <td>0.806363</td>\n",
       "      <td>1.094268</td>\n",
       "      <td>1</td>\n",
       "    </tr>\n",
       "    <tr>\n",
       "      <th>965</th>\n",
       "      <td>0.337508</td>\n",
       "      <td>2.089581</td>\n",
       "      <td>1</td>\n",
       "    </tr>\n",
       "    <tr>\n",
       "      <th>976</th>\n",
       "      <td>1.437832</td>\n",
       "      <td>3.124113</td>\n",
       "      <td>1</td>\n",
       "    </tr>\n",
       "    <tr>\n",
       "      <th>942</th>\n",
       "      <td>1.451275</td>\n",
       "      <td>2.269127</td>\n",
       "      <td>1</td>\n",
       "    </tr>\n",
       "    <tr>\n",
       "      <th>974</th>\n",
       "      <td>3.310309</td>\n",
       "      <td>1.981291</td>\n",
       "      <td>1</td>\n",
       "    </tr>\n",
       "  </tbody>\n",
       "</table>\n",
       "<p>900 rows × 3 columns</p>\n",
       "</div>"
      ],
      "text/plain": [
       "     feature_1  feature_2  target\n",
       "951   3.775311   3.261922       1\n",
       "992   1.563614   3.188913       1\n",
       "914   1.731469   0.198942       1\n",
       "971   1.785079  -0.940389       1\n",
       "960   1.865691   1.945106       1\n",
       "..         ...        ...     ...\n",
       "952   0.806363   1.094268       1\n",
       "965   0.337508   2.089581       1\n",
       "976   1.437832   3.124113       1\n",
       "942   1.451275   2.269127       1\n",
       "974   3.310309   1.981291       1\n",
       "\n",
       "[900 rows x 3 columns]"
      ]
     },
     "execution_count": 33,
     "metadata": {},
     "output_type": "execute_result"
    }
   ],
   "source": [
    "df_minority_unsampled"
   ]
  },
  {
   "cell_type": "code",
   "execution_count": null,
   "id": "7a214caf-4f65-4fe3-8e55-17ef25a74616",
   "metadata": {},
   "outputs": [],
   "source": [
    "## simdi yaptigimiz islem tam olarak soyle. minorty'yi majority'e esitledik yukarida ve asagida ise elde ettigimiz yeni minort yi \n"
   ]
  },
  {
   "cell_type": "code",
   "execution_count": null,
   "id": "d1fe9558-193c-478e-8987-b048e635c04c",
   "metadata": {},
   "outputs": [],
   "source": [
    "## majority ile birlerstirdik concat ile. tekrardan target value ye baktigimizda 0 ve 1 lerin 900 olarak esit olduklarini gormus olduk."
   ]
  },
  {
   "cell_type": "code",
   "execution_count": null,
   "id": "b3d7e321-0eb1-4269-9d89-ff3a3ff50ed6",
   "metadata": {},
   "outputs": [],
   "source": []
  },
  {
   "cell_type": "code",
   "execution_count": null,
   "id": "37d6cb27-c855-4b83-8cae-bdcb1b4242bf",
   "metadata": {},
   "outputs": [],
   "source": []
  },
  {
   "cell_type": "code",
   "execution_count": 31,
   "id": "f43515ba-c2f3-4c46-b4e3-57edb21af869",
   "metadata": {
    "execution": {
     "iopub.execute_input": "2025-07-24T12:26:35.632813Z",
     "iopub.status.busy": "2025-07-24T12:26:35.632185Z",
     "iopub.status.idle": "2025-07-24T12:26:35.638265Z",
     "shell.execute_reply": "2025-07-24T12:26:35.637199Z",
     "shell.execute_reply.started": "2025-07-24T12:26:35.632782Z"
    }
   },
   "outputs": [],
   "source": [
    "df_upsampled = pd.concat([df_majority, df_minority_unsampled])"
   ]
  },
  {
   "cell_type": "code",
   "execution_count": 32,
   "id": "2a4d1fcf-a972-4adb-9ebe-86f06b3af89d",
   "metadata": {
    "execution": {
     "iopub.execute_input": "2025-07-24T12:27:32.300632Z",
     "iopub.status.busy": "2025-07-24T12:27:32.300304Z",
     "iopub.status.idle": "2025-07-24T12:27:32.308800Z",
     "shell.execute_reply": "2025-07-24T12:27:32.308116Z",
     "shell.execute_reply.started": "2025-07-24T12:27:32.300610Z"
    }
   },
   "outputs": [
    {
     "data": {
      "text/plain": [
       "target\n",
       "0    900\n",
       "1    900\n",
       "Name: count, dtype: int64"
      ]
     },
     "execution_count": 32,
     "metadata": {},
     "output_type": "execute_result"
    }
   ],
   "source": [
    "df_upsampled[\"target\"].value_counts()"
   ]
  },
  {
   "cell_type": "code",
   "execution_count": null,
   "id": "1e5d8d04-162d-40cc-ad81-58f360b46a3b",
   "metadata": {},
   "outputs": [],
   "source": []
  },
  {
   "cell_type": "code",
   "execution_count": null,
   "id": "61815a0f-7d0b-4893-af42-1c24f55223fe",
   "metadata": {},
   "outputs": [],
   "source": []
  },
  {
   "cell_type": "code",
   "execution_count": 34,
   "id": "160fbcda-d1d6-4701-ae59-e8a78b5542b4",
   "metadata": {
    "execution": {
     "iopub.execute_input": "2025-07-24T12:36:52.169981Z",
     "iopub.status.busy": "2025-07-24T12:36:52.169549Z",
     "iopub.status.idle": "2025-07-24T12:36:52.174926Z",
     "shell.execute_reply": "2025-07-24T12:36:52.173552Z",
     "shell.execute_reply.started": "2025-07-24T12:36:52.169955Z"
    }
   },
   "outputs": [],
   "source": [
    "## down sampling -> generally less preferable "
   ]
  },
  {
   "cell_type": "code",
   "execution_count": 35,
   "id": "3d315bfd-b833-4484-af31-626443208d16",
   "metadata": {
    "execution": {
     "iopub.execute_input": "2025-07-24T12:37:10.022588Z",
     "iopub.status.busy": "2025-07-24T12:37:10.022240Z",
     "iopub.status.idle": "2025-07-24T12:37:10.035890Z",
     "shell.execute_reply": "2025-07-24T12:37:10.034603Z",
     "shell.execute_reply.started": "2025-07-24T12:37:10.022553Z"
    }
   },
   "outputs": [
    {
     "data": {
      "text/html": [
       "<div>\n",
       "<style scoped>\n",
       "    .dataframe tbody tr th:only-of-type {\n",
       "        vertical-align: middle;\n",
       "    }\n",
       "\n",
       "    .dataframe tbody tr th {\n",
       "        vertical-align: top;\n",
       "    }\n",
       "\n",
       "    .dataframe thead th {\n",
       "        text-align: right;\n",
       "    }\n",
       "</style>\n",
       "<table border=\"1\" class=\"dataframe\">\n",
       "  <thead>\n",
       "    <tr style=\"text-align: right;\">\n",
       "      <th></th>\n",
       "      <th>feature_1</th>\n",
       "      <th>feature_2</th>\n",
       "      <th>target</th>\n",
       "    </tr>\n",
       "  </thead>\n",
       "  <tbody>\n",
       "    <tr>\n",
       "      <th>0</th>\n",
       "      <td>0.496714</td>\n",
       "      <td>0.368673</td>\n",
       "      <td>0</td>\n",
       "    </tr>\n",
       "    <tr>\n",
       "      <th>1</th>\n",
       "      <td>-0.138264</td>\n",
       "      <td>-0.393339</td>\n",
       "      <td>0</td>\n",
       "    </tr>\n",
       "    <tr>\n",
       "      <th>2</th>\n",
       "      <td>0.647689</td>\n",
       "      <td>0.028745</td>\n",
       "      <td>0</td>\n",
       "    </tr>\n",
       "    <tr>\n",
       "      <th>3</th>\n",
       "      <td>1.523030</td>\n",
       "      <td>1.278452</td>\n",
       "      <td>0</td>\n",
       "    </tr>\n",
       "    <tr>\n",
       "      <th>4</th>\n",
       "      <td>-0.234153</td>\n",
       "      <td>0.191099</td>\n",
       "      <td>0</td>\n",
       "    </tr>\n",
       "    <tr>\n",
       "      <th>...</th>\n",
       "      <td>...</td>\n",
       "      <td>...</td>\n",
       "      <td>...</td>\n",
       "    </tr>\n",
       "    <tr>\n",
       "      <th>995</th>\n",
       "      <td>1.629989</td>\n",
       "      <td>3.070150</td>\n",
       "      <td>1</td>\n",
       "    </tr>\n",
       "    <tr>\n",
       "      <th>996</th>\n",
       "      <td>1.741204</td>\n",
       "      <td>1.973479</td>\n",
       "      <td>1</td>\n",
       "    </tr>\n",
       "    <tr>\n",
       "      <th>997</th>\n",
       "      <td>3.598647</td>\n",
       "      <td>1.118125</td>\n",
       "      <td>1</td>\n",
       "    </tr>\n",
       "    <tr>\n",
       "      <th>998</th>\n",
       "      <td>2.560919</td>\n",
       "      <td>1.836933</td>\n",
       "      <td>1</td>\n",
       "    </tr>\n",
       "    <tr>\n",
       "      <th>999</th>\n",
       "      <td>1.704520</td>\n",
       "      <td>1.255097</td>\n",
       "      <td>1</td>\n",
       "    </tr>\n",
       "  </tbody>\n",
       "</table>\n",
       "<p>1000 rows × 3 columns</p>\n",
       "</div>"
      ],
      "text/plain": [
       "     feature_1  feature_2  target\n",
       "0     0.496714   0.368673       0\n",
       "1    -0.138264  -0.393339       0\n",
       "2     0.647689   0.028745       0\n",
       "3     1.523030   1.278452       0\n",
       "4    -0.234153   0.191099       0\n",
       "..         ...        ...     ...\n",
       "995   1.629989   3.070150       1\n",
       "996   1.741204   1.973479       1\n",
       "997   3.598647   1.118125       1\n",
       "998   2.560919   1.836933       1\n",
       "999   1.704520   1.255097       1\n",
       "\n",
       "[1000 rows x 3 columns]"
      ]
     },
     "execution_count": 35,
     "metadata": {},
     "output_type": "execute_result"
    }
   ],
   "source": [
    "df"
   ]
  },
  {
   "cell_type": "code",
   "execution_count": 36,
   "id": "24732f38-b5ad-4121-9809-4c4964636e85",
   "metadata": {
    "execution": {
     "iopub.execute_input": "2025-07-24T12:37:19.444718Z",
     "iopub.status.busy": "2025-07-24T12:37:19.444228Z",
     "iopub.status.idle": "2025-07-24T12:37:19.453678Z",
     "shell.execute_reply": "2025-07-24T12:37:19.452672Z",
     "shell.execute_reply.started": "2025-07-24T12:37:19.444690Z"
    }
   },
   "outputs": [
    {
     "data": {
      "text/plain": [
       "target\n",
       "0    900\n",
       "1    100\n",
       "Name: count, dtype: int64"
      ]
     },
     "execution_count": 36,
     "metadata": {},
     "output_type": "execute_result"
    }
   ],
   "source": [
    "df['target'].value_counts()"
   ]
  },
  {
   "cell_type": "code",
   "execution_count": 37,
   "id": "f13c20e4-9a5d-4317-8006-5631d1b5d315",
   "metadata": {
    "execution": {
     "iopub.execute_input": "2025-07-24T12:37:38.446793Z",
     "iopub.status.busy": "2025-07-24T12:37:38.446125Z",
     "iopub.status.idle": "2025-07-24T12:37:38.451727Z",
     "shell.execute_reply": "2025-07-24T12:37:38.451057Z",
     "shell.execute_reply.started": "2025-07-24T12:37:38.446763Z"
    }
   },
   "outputs": [],
   "source": [
    "df_minority=df[df['target']==1]\n",
    "df_majority=df[df['target']==0]"
   ]
  },
  {
   "cell_type": "code",
   "execution_count": 38,
   "id": "360149d2-fe21-4309-b620-258ef8e0d330",
   "metadata": {
    "execution": {
     "iopub.execute_input": "2025-07-24T12:37:53.520484Z",
     "iopub.status.busy": "2025-07-24T12:37:53.519146Z",
     "iopub.status.idle": "2025-07-24T12:37:53.525908Z",
     "shell.execute_reply": "2025-07-24T12:37:53.525226Z",
     "shell.execute_reply.started": "2025-07-24T12:37:53.520452Z"
    }
   },
   "outputs": [],
   "source": [
    "from sklearn.utils import resample\n",
    "df_majority_downsampled=resample(df_majority,replace=True, \n",
    "         n_samples=len(df_minority),\n",
    "         random_state=42\n",
    "        )"
   ]
  },
  {
   "cell_type": "code",
   "execution_count": 39,
   "id": "ff3aa3ce-eade-42f1-af66-0c2f6a8e3d77",
   "metadata": {
    "execution": {
     "iopub.execute_input": "2025-07-24T12:38:00.418829Z",
     "iopub.status.busy": "2025-07-24T12:38:00.418513Z",
     "iopub.status.idle": "2025-07-24T12:38:00.430396Z",
     "shell.execute_reply": "2025-07-24T12:38:00.429303Z",
     "shell.execute_reply.started": "2025-07-24T12:38:00.418805Z"
    }
   },
   "outputs": [
    {
     "data": {
      "text/html": [
       "<div>\n",
       "<style scoped>\n",
       "    .dataframe tbody tr th:only-of-type {\n",
       "        vertical-align: middle;\n",
       "    }\n",
       "\n",
       "    .dataframe tbody tr th {\n",
       "        vertical-align: top;\n",
       "    }\n",
       "\n",
       "    .dataframe thead th {\n",
       "        text-align: right;\n",
       "    }\n",
       "</style>\n",
       "<table border=\"1\" class=\"dataframe\">\n",
       "  <thead>\n",
       "    <tr style=\"text-align: right;\">\n",
       "      <th></th>\n",
       "      <th>feature_1</th>\n",
       "      <th>feature_2</th>\n",
       "      <th>target</th>\n",
       "    </tr>\n",
       "  </thead>\n",
       "  <tbody>\n",
       "    <tr>\n",
       "      <th>102</th>\n",
       "      <td>-0.342715</td>\n",
       "      <td>0.059630</td>\n",
       "      <td>0</td>\n",
       "    </tr>\n",
       "    <tr>\n",
       "      <th>435</th>\n",
       "      <td>0.074095</td>\n",
       "      <td>-0.337086</td>\n",
       "      <td>0</td>\n",
       "    </tr>\n",
       "    <tr>\n",
       "      <th>860</th>\n",
       "      <td>0.202923</td>\n",
       "      <td>1.639965</td>\n",
       "      <td>0</td>\n",
       "    </tr>\n",
       "    <tr>\n",
       "      <th>270</th>\n",
       "      <td>1.441273</td>\n",
       "      <td>0.758929</td>\n",
       "      <td>0</td>\n",
       "    </tr>\n",
       "    <tr>\n",
       "      <th>106</th>\n",
       "      <td>1.886186</td>\n",
       "      <td>0.895193</td>\n",
       "      <td>0</td>\n",
       "    </tr>\n",
       "    <tr>\n",
       "      <th>...</th>\n",
       "      <td>...</td>\n",
       "      <td>...</td>\n",
       "      <td>...</td>\n",
       "    </tr>\n",
       "    <tr>\n",
       "      <th>201</th>\n",
       "      <td>0.560785</td>\n",
       "      <td>-2.896255</td>\n",
       "      <td>0</td>\n",
       "    </tr>\n",
       "    <tr>\n",
       "      <th>269</th>\n",
       "      <td>0.130741</td>\n",
       "      <td>0.853416</td>\n",
       "      <td>0</td>\n",
       "    </tr>\n",
       "    <tr>\n",
       "      <th>862</th>\n",
       "      <td>1.547505</td>\n",
       "      <td>0.075434</td>\n",
       "      <td>0</td>\n",
       "    </tr>\n",
       "    <tr>\n",
       "      <th>815</th>\n",
       "      <td>-1.485560</td>\n",
       "      <td>-0.090533</td>\n",
       "      <td>0</td>\n",
       "    </tr>\n",
       "    <tr>\n",
       "      <th>270</th>\n",
       "      <td>1.441273</td>\n",
       "      <td>0.758929</td>\n",
       "      <td>0</td>\n",
       "    </tr>\n",
       "  </tbody>\n",
       "</table>\n",
       "<p>100 rows × 3 columns</p>\n",
       "</div>"
      ],
      "text/plain": [
       "     feature_1  feature_2  target\n",
       "102  -0.342715   0.059630       0\n",
       "435   0.074095  -0.337086       0\n",
       "860   0.202923   1.639965       0\n",
       "270   1.441273   0.758929       0\n",
       "106   1.886186   0.895193       0\n",
       "..         ...        ...     ...\n",
       "201   0.560785  -2.896255       0\n",
       "269   0.130741   0.853416       0\n",
       "862   1.547505   0.075434       0\n",
       "815  -1.485560  -0.090533       0\n",
       "270   1.441273   0.758929       0\n",
       "\n",
       "[100 rows x 3 columns]"
      ]
     },
     "execution_count": 39,
     "metadata": {},
     "output_type": "execute_result"
    }
   ],
   "source": [
    "df_majority_downsampled"
   ]
  },
  {
   "cell_type": "code",
   "execution_count": 40,
   "id": "67031d21-1d3e-4b49-8d38-295aa06e9a1f",
   "metadata": {
    "execution": {
     "iopub.execute_input": "2025-07-24T12:38:12.461233Z",
     "iopub.status.busy": "2025-07-24T12:38:12.460127Z",
     "iopub.status.idle": "2025-07-24T12:38:12.467934Z",
     "shell.execute_reply": "2025-07-24T12:38:12.467118Z",
     "shell.execute_reply.started": "2025-07-24T12:38:12.461204Z"
    }
   },
   "outputs": [
    {
     "data": {
      "text/plain": [
       "target\n",
       "0    100\n",
       "Name: count, dtype: int64"
      ]
     },
     "execution_count": 40,
     "metadata": {},
     "output_type": "execute_result"
    }
   ],
   "source": [
    "df_majority_downsampled['target'].value_counts()"
   ]
  },
  {
   "cell_type": "code",
   "execution_count": 41,
   "id": "1449880b-88e6-4a25-b8e1-327b5e35b5fb",
   "metadata": {
    "execution": {
     "iopub.execute_input": "2025-07-24T12:38:21.223073Z",
     "iopub.status.busy": "2025-07-24T12:38:21.221968Z",
     "iopub.status.idle": "2025-07-24T12:38:21.227763Z",
     "shell.execute_reply": "2025-07-24T12:38:21.226692Z",
     "shell.execute_reply.started": "2025-07-24T12:38:21.223041Z"
    }
   },
   "outputs": [],
   "source": [
    "df_downsampled=pd.concat([df_majority_downsampled,df_minority])"
   ]
  },
  {
   "cell_type": "code",
   "execution_count": 43,
   "id": "3f8876b4-2058-45b8-9a4e-ef9c77812c78",
   "metadata": {
    "execution": {
     "iopub.execute_input": "2025-07-24T12:38:33.306202Z",
     "iopub.status.busy": "2025-07-24T12:38:33.305269Z",
     "iopub.status.idle": "2025-07-24T12:38:33.315336Z",
     "shell.execute_reply": "2025-07-24T12:38:33.314514Z",
     "shell.execute_reply.started": "2025-07-24T12:38:33.306173Z"
    }
   },
   "outputs": [
    {
     "data": {
      "text/html": [
       "<div>\n",
       "<style scoped>\n",
       "    .dataframe tbody tr th:only-of-type {\n",
       "        vertical-align: middle;\n",
       "    }\n",
       "\n",
       "    .dataframe tbody tr th {\n",
       "        vertical-align: top;\n",
       "    }\n",
       "\n",
       "    .dataframe thead th {\n",
       "        text-align: right;\n",
       "    }\n",
       "</style>\n",
       "<table border=\"1\" class=\"dataframe\">\n",
       "  <thead>\n",
       "    <tr style=\"text-align: right;\">\n",
       "      <th></th>\n",
       "      <th>feature_1</th>\n",
       "      <th>feature_2</th>\n",
       "      <th>target</th>\n",
       "    </tr>\n",
       "  </thead>\n",
       "  <tbody>\n",
       "    <tr>\n",
       "      <th>102</th>\n",
       "      <td>-0.342715</td>\n",
       "      <td>0.059630</td>\n",
       "      <td>0</td>\n",
       "    </tr>\n",
       "    <tr>\n",
       "      <th>435</th>\n",
       "      <td>0.074095</td>\n",
       "      <td>-0.337086</td>\n",
       "      <td>0</td>\n",
       "    </tr>\n",
       "    <tr>\n",
       "      <th>860</th>\n",
       "      <td>0.202923</td>\n",
       "      <td>1.639965</td>\n",
       "      <td>0</td>\n",
       "    </tr>\n",
       "    <tr>\n",
       "      <th>270</th>\n",
       "      <td>1.441273</td>\n",
       "      <td>0.758929</td>\n",
       "      <td>0</td>\n",
       "    </tr>\n",
       "    <tr>\n",
       "      <th>106</th>\n",
       "      <td>1.886186</td>\n",
       "      <td>0.895193</td>\n",
       "      <td>0</td>\n",
       "    </tr>\n",
       "    <tr>\n",
       "      <th>...</th>\n",
       "      <td>...</td>\n",
       "      <td>...</td>\n",
       "      <td>...</td>\n",
       "    </tr>\n",
       "    <tr>\n",
       "      <th>995</th>\n",
       "      <td>1.629989</td>\n",
       "      <td>3.070150</td>\n",
       "      <td>1</td>\n",
       "    </tr>\n",
       "    <tr>\n",
       "      <th>996</th>\n",
       "      <td>1.741204</td>\n",
       "      <td>1.973479</td>\n",
       "      <td>1</td>\n",
       "    </tr>\n",
       "    <tr>\n",
       "      <th>997</th>\n",
       "      <td>3.598647</td>\n",
       "      <td>1.118125</td>\n",
       "      <td>1</td>\n",
       "    </tr>\n",
       "    <tr>\n",
       "      <th>998</th>\n",
       "      <td>2.560919</td>\n",
       "      <td>1.836933</td>\n",
       "      <td>1</td>\n",
       "    </tr>\n",
       "    <tr>\n",
       "      <th>999</th>\n",
       "      <td>1.704520</td>\n",
       "      <td>1.255097</td>\n",
       "      <td>1</td>\n",
       "    </tr>\n",
       "  </tbody>\n",
       "</table>\n",
       "<p>200 rows × 3 columns</p>\n",
       "</div>"
      ],
      "text/plain": [
       "     feature_1  feature_2  target\n",
       "102  -0.342715   0.059630       0\n",
       "435   0.074095  -0.337086       0\n",
       "860   0.202923   1.639965       0\n",
       "270   1.441273   0.758929       0\n",
       "106   1.886186   0.895193       0\n",
       "..         ...        ...     ...\n",
       "995   1.629989   3.070150       1\n",
       "996   1.741204   1.973479       1\n",
       "997   3.598647   1.118125       1\n",
       "998   2.560919   1.836933       1\n",
       "999   1.704520   1.255097       1\n",
       "\n",
       "[200 rows x 3 columns]"
      ]
     },
     "execution_count": 43,
     "metadata": {},
     "output_type": "execute_result"
    }
   ],
   "source": [
    "df_downsampled"
   ]
  },
  {
   "cell_type": "code",
   "execution_count": 44,
   "id": "b31f9a2a-3a68-4126-938e-ec4686fa9f5b",
   "metadata": {
    "execution": {
     "iopub.execute_input": "2025-07-24T12:38:46.900709Z",
     "iopub.status.busy": "2025-07-24T12:38:46.899219Z",
     "iopub.status.idle": "2025-07-24T12:38:46.908801Z",
     "shell.execute_reply": "2025-07-24T12:38:46.907855Z",
     "shell.execute_reply.started": "2025-07-24T12:38:46.900677Z"
    }
   },
   "outputs": [
    {
     "data": {
      "text/plain": [
       "target\n",
       "0    100\n",
       "1    100\n",
       "Name: count, dtype: int64"
      ]
     },
     "execution_count": 44,
     "metadata": {},
     "output_type": "execute_result"
    }
   ],
   "source": [
    "df_downsampled['target'].value_counts()"
   ]
  },
  {
   "cell_type": "code",
   "execution_count": 45,
   "id": "31d02e1a-baf0-4c4d-abb0-edab9dbe4fa8",
   "metadata": {
    "execution": {
     "iopub.execute_input": "2025-07-24T15:28:43.979842Z",
     "iopub.status.busy": "2025-07-24T15:28:43.978872Z",
     "iopub.status.idle": "2025-07-24T15:28:43.984247Z",
     "shell.execute_reply": "2025-07-24T15:28:43.983380Z",
     "shell.execute_reply.started": "2025-07-24T15:28:43.979809Z"
    }
   },
   "outputs": [],
   "source": [
    "#SMOTE"
   ]
  },
  {
   "cell_type": "raw",
   "id": "8c63ea42-7661-41e2-8aaf-123863d51d95",
   "metadata": {},
   "source": [
    "#resample işleminde az olan 1 sınıfındaki verilerin kopyalarını oluşturmuştuk, değil mi? \n",
    "Yani elimizdeki 100 tane 1 sınıfı veriyi 900 tane olana kadar rastgele kopyalayıp durmuştuk. \n",
    "Bu, hızlı ve basit bir yöntemdir.\n",
    "\n",
    "# SMOTE ise kopyalama yapmaz! \n",
    "SMOTE, var olan azınlık sınıfı verilerini kullanarak yepyeni, ama onlara benzeyen, sahte (sentetik) veriler oluşturur."
   ]
  },
  {
   "cell_type": "code",
   "execution_count": null,
   "id": "924fd1d6-8c2c-4e8f-8681-d27ec69a447a",
   "metadata": {},
   "outputs": [],
   "source": []
  },
  {
   "cell_type": "code",
   "execution_count": 46,
   "id": "7d13b5ba-427a-43b4-a7f5-83abd66a198c",
   "metadata": {
    "execution": {
     "iopub.execute_input": "2025-07-24T15:32:16.830612Z",
     "iopub.status.busy": "2025-07-24T15:32:16.829996Z",
     "iopub.status.idle": "2025-07-24T15:32:16.843396Z",
     "shell.execute_reply": "2025-07-24T15:32:16.842218Z",
     "shell.execute_reply.started": "2025-07-24T15:32:16.830584Z"
    }
   },
   "outputs": [
    {
     "data": {
      "text/html": [
       "<div>\n",
       "<style scoped>\n",
       "    .dataframe tbody tr th:only-of-type {\n",
       "        vertical-align: middle;\n",
       "    }\n",
       "\n",
       "    .dataframe tbody tr th {\n",
       "        vertical-align: top;\n",
       "    }\n",
       "\n",
       "    .dataframe thead th {\n",
       "        text-align: right;\n",
       "    }\n",
       "</style>\n",
       "<table border=\"1\" class=\"dataframe\">\n",
       "  <thead>\n",
       "    <tr style=\"text-align: right;\">\n",
       "      <th></th>\n",
       "      <th>feature_1</th>\n",
       "      <th>feature_2</th>\n",
       "      <th>target</th>\n",
       "    </tr>\n",
       "  </thead>\n",
       "  <tbody>\n",
       "    <tr>\n",
       "      <th>0</th>\n",
       "      <td>0.496714</td>\n",
       "      <td>0.368673</td>\n",
       "      <td>0</td>\n",
       "    </tr>\n",
       "    <tr>\n",
       "      <th>1</th>\n",
       "      <td>-0.138264</td>\n",
       "      <td>-0.393339</td>\n",
       "      <td>0</td>\n",
       "    </tr>\n",
       "    <tr>\n",
       "      <th>2</th>\n",
       "      <td>0.647689</td>\n",
       "      <td>0.028745</td>\n",
       "      <td>0</td>\n",
       "    </tr>\n",
       "    <tr>\n",
       "      <th>3</th>\n",
       "      <td>1.523030</td>\n",
       "      <td>1.278452</td>\n",
       "      <td>0</td>\n",
       "    </tr>\n",
       "    <tr>\n",
       "      <th>4</th>\n",
       "      <td>-0.234153</td>\n",
       "      <td>0.191099</td>\n",
       "      <td>0</td>\n",
       "    </tr>\n",
       "    <tr>\n",
       "      <th>...</th>\n",
       "      <td>...</td>\n",
       "      <td>...</td>\n",
       "      <td>...</td>\n",
       "    </tr>\n",
       "    <tr>\n",
       "      <th>995</th>\n",
       "      <td>1.629989</td>\n",
       "      <td>3.070150</td>\n",
       "      <td>1</td>\n",
       "    </tr>\n",
       "    <tr>\n",
       "      <th>996</th>\n",
       "      <td>1.741204</td>\n",
       "      <td>1.973479</td>\n",
       "      <td>1</td>\n",
       "    </tr>\n",
       "    <tr>\n",
       "      <th>997</th>\n",
       "      <td>3.598647</td>\n",
       "      <td>1.118125</td>\n",
       "      <td>1</td>\n",
       "    </tr>\n",
       "    <tr>\n",
       "      <th>998</th>\n",
       "      <td>2.560919</td>\n",
       "      <td>1.836933</td>\n",
       "      <td>1</td>\n",
       "    </tr>\n",
       "    <tr>\n",
       "      <th>999</th>\n",
       "      <td>1.704520</td>\n",
       "      <td>1.255097</td>\n",
       "      <td>1</td>\n",
       "    </tr>\n",
       "  </tbody>\n",
       "</table>\n",
       "<p>1000 rows × 3 columns</p>\n",
       "</div>"
      ],
      "text/plain": [
       "     feature_1  feature_2  target\n",
       "0     0.496714   0.368673       0\n",
       "1    -0.138264  -0.393339       0\n",
       "2     0.647689   0.028745       0\n",
       "3     1.523030   1.278452       0\n",
       "4    -0.234153   0.191099       0\n",
       "..         ...        ...     ...\n",
       "995   1.629989   3.070150       1\n",
       "996   1.741204   1.973479       1\n",
       "997   3.598647   1.118125       1\n",
       "998   2.560919   1.836933       1\n",
       "999   1.704520   1.255097       1\n",
       "\n",
       "[1000 rows x 3 columns]"
      ]
     },
     "execution_count": 46,
     "metadata": {},
     "output_type": "execute_result"
    }
   ],
   "source": [
    "\n",
    "df"
   ]
  },
  {
   "cell_type": "code",
   "execution_count": 50,
   "id": "a0943f8d-af08-4112-b2f3-b8663ea94285",
   "metadata": {
    "execution": {
     "iopub.execute_input": "2025-07-24T15:33:19.354089Z",
     "iopub.status.busy": "2025-07-24T15:33:19.353784Z",
     "iopub.status.idle": "2025-07-24T15:33:19.365895Z",
     "shell.execute_reply": "2025-07-24T15:33:19.364599Z",
     "shell.execute_reply.started": "2025-07-24T15:33:19.354068Z"
    }
   },
   "outputs": [
    {
     "data": {
      "text/html": [
       "<div>\n",
       "<style scoped>\n",
       "    .dataframe tbody tr th:only-of-type {\n",
       "        vertical-align: middle;\n",
       "    }\n",
       "\n",
       "    .dataframe tbody tr th {\n",
       "        vertical-align: top;\n",
       "    }\n",
       "\n",
       "    .dataframe thead th {\n",
       "        text-align: right;\n",
       "    }\n",
       "</style>\n",
       "<table border=\"1\" class=\"dataframe\">\n",
       "  <thead>\n",
       "    <tr style=\"text-align: right;\">\n",
       "      <th></th>\n",
       "      <th>feature_1</th>\n",
       "      <th>feature_2</th>\n",
       "      <th>target</th>\n",
       "    </tr>\n",
       "  </thead>\n",
       "  <tbody>\n",
       "    <tr>\n",
       "      <th>0</th>\n",
       "      <td>0.496714</td>\n",
       "      <td>0.368673</td>\n",
       "      <td>0</td>\n",
       "    </tr>\n",
       "    <tr>\n",
       "      <th>1</th>\n",
       "      <td>-0.138264</td>\n",
       "      <td>-0.393339</td>\n",
       "      <td>0</td>\n",
       "    </tr>\n",
       "    <tr>\n",
       "      <th>2</th>\n",
       "      <td>0.647689</td>\n",
       "      <td>0.028745</td>\n",
       "      <td>0</td>\n",
       "    </tr>\n",
       "    <tr>\n",
       "      <th>3</th>\n",
       "      <td>1.523030</td>\n",
       "      <td>1.278452</td>\n",
       "      <td>0</td>\n",
       "    </tr>\n",
       "    <tr>\n",
       "      <th>4</th>\n",
       "      <td>-0.234153</td>\n",
       "      <td>0.191099</td>\n",
       "      <td>0</td>\n",
       "    </tr>\n",
       "    <tr>\n",
       "      <th>...</th>\n",
       "      <td>...</td>\n",
       "      <td>...</td>\n",
       "      <td>...</td>\n",
       "    </tr>\n",
       "    <tr>\n",
       "      <th>995</th>\n",
       "      <td>1.629989</td>\n",
       "      <td>3.070150</td>\n",
       "      <td>1</td>\n",
       "    </tr>\n",
       "    <tr>\n",
       "      <th>996</th>\n",
       "      <td>1.741204</td>\n",
       "      <td>1.973479</td>\n",
       "      <td>1</td>\n",
       "    </tr>\n",
       "    <tr>\n",
       "      <th>997</th>\n",
       "      <td>3.598647</td>\n",
       "      <td>1.118125</td>\n",
       "      <td>1</td>\n",
       "    </tr>\n",
       "    <tr>\n",
       "      <th>998</th>\n",
       "      <td>2.560919</td>\n",
       "      <td>1.836933</td>\n",
       "      <td>1</td>\n",
       "    </tr>\n",
       "    <tr>\n",
       "      <th>999</th>\n",
       "      <td>1.704520</td>\n",
       "      <td>1.255097</td>\n",
       "      <td>1</td>\n",
       "    </tr>\n",
       "  </tbody>\n",
       "</table>\n",
       "<p>1000 rows × 3 columns</p>\n",
       "</div>"
      ],
      "text/plain": [
       "     feature_1  feature_2  target\n",
       "0     0.496714   0.368673       0\n",
       "1    -0.138264  -0.393339       0\n",
       "2     0.647689   0.028745       0\n",
       "3     1.523030   1.278452       0\n",
       "4    -0.234153   0.191099       0\n",
       "..         ...        ...     ...\n",
       "995   1.629989   3.070150       1\n",
       "996   1.741204   1.973479       1\n",
       "997   3.598647   1.118125       1\n",
       "998   2.560919   1.836933       1\n",
       "999   1.704520   1.255097       1\n",
       "\n",
       "[1000 rows x 3 columns]"
      ]
     },
     "execution_count": 50,
     "metadata": {},
     "output_type": "execute_result"
    }
   ],
   "source": [
    "df"
   ]
  },
  {
   "cell_type": "code",
   "execution_count": 51,
   "id": "a9c750ea-8bad-411d-8825-493a1d0efd0d",
   "metadata": {
    "execution": {
     "iopub.execute_input": "2025-07-24T15:33:28.443080Z",
     "iopub.status.busy": "2025-07-24T15:33:28.442790Z",
     "iopub.status.idle": "2025-07-24T15:33:29.145171Z",
     "shell.execute_reply": "2025-07-24T15:33:29.144129Z",
     "shell.execute_reply.started": "2025-07-24T15:33:28.443060Z"
    }
   },
   "outputs": [
    {
     "data": {
      "text/plain": [
       "<matplotlib.collections.PathCollection at 0x7f8ff318af90>"
      ]
     },
     "execution_count": 51,
     "metadata": {},
     "output_type": "execute_result"
    },
    {
     "data": {
      "image/png": "[encoded data removed]",
      "text/plain": [
       "<Figure size 640x480 with 1 Axes>"
      ]
     },
     "metadata": {},
     "output_type": "display_data"
    }
   ],
   "source": [
    "import matplotlib.pyplot as plt\n",
    "plt.scatter(df['feature_1'],df['feature_2'],c=df['target'])"
   ]
  },
  {
   "cell_type": "code",
   "execution_count": 52,
   "id": "940f53c2-3919-4540-9a75-118971913d6e",
   "metadata": {
    "execution": {
     "iopub.execute_input": "2025-07-24T15:33:38.680232Z",
     "iopub.status.busy": "2025-07-24T15:33:38.679766Z",
     "iopub.status.idle": "2025-07-24T15:33:40.170116Z",
     "shell.execute_reply": "2025-07-24T15:33:40.169091Z",
     "shell.execute_reply.started": "2025-07-24T15:33:38.680209Z"
    }
   },
   "outputs": [
    {
     "name": "stdout",
     "output_type": "stream",
     "text": [
      "Requirement already satisfied: imblearn in /home/yildiz/.pyenv/versions/3.12.9/lib/python3.12/site-packages (0.0)\n",
      "Requirement already satisfied: imbalanced-learn in /home/yildiz/.pyenv/versions/3.12.9/lib/python3.12/site-packages (from imblearn) (0.13.0)\n",
      "Requirement already satisfied: numpy<3,>=1.24.3 in /home/yildiz/.pyenv/versions/3.12.9/lib/python3.12/site-packages (from imbalanced-learn->imblearn) (1.26.4)\n",
      "Requirement already satisfied: scipy<2,>=1.10.1 in /home/yildiz/.pyenv/versions/3.12.9/lib/python3.12/site-packages (from imbalanced-learn->imblearn) (1.11.4)\n",
      "Requirement already satisfied: scikit-learn<2,>=1.3.2 in /home/yildiz/.pyenv/versions/3.12.9/lib/python3.12/site-packages (from imbalanced-learn->imblearn) (1.6.1)\n",
      "Requirement already satisfied: sklearn-compat<1,>=0.1 in /home/yildiz/.pyenv/versions/3.12.9/lib/python3.12/site-packages (from imbalanced-learn->imblearn) (0.1.3)\n",
      "Requirement already satisfied: joblib<2,>=1.1.1 in /home/yildiz/.pyenv/versions/3.12.9/lib/python3.12/site-packages (from imbalanced-learn->imblearn) (1.4.2)\n",
      "Requirement already satisfied: threadpoolctl<4,>=2.0.0 in /home/yildiz/.pyenv/versions/3.12.9/lib/python3.12/site-packages (from imbalanced-learn->imblearn) (3.5.0)\n"
     ]
    }
   ],
   "source": [
    "!pip install imblearn"
   ]
  },
  {
   "cell_type": "code",
   "execution_count": 53,
   "id": "4e8c7a0f-2892-4ba6-a1c8-1c51042d4f76",
   "metadata": {
    "execution": {
     "iopub.execute_input": "2025-07-24T15:34:06.511633Z",
     "iopub.status.busy": "2025-07-24T15:34:06.511317Z",
     "iopub.status.idle": "2025-07-24T15:34:06.972768Z",
     "shell.execute_reply": "2025-07-24T15:34:06.972150Z",
     "shell.execute_reply.started": "2025-07-24T15:34:06.511595Z"
    }
   },
   "outputs": [],
   "source": [
    "from imblearn.over_sampling import SMOTE"
   ]
  },
  {
   "cell_type": "code",
   "execution_count": 54,
   "id": "d0b67e85-d0bf-4cab-bf32-63353ba9b3bf",
   "metadata": {
    "execution": {
     "iopub.execute_input": "2025-07-24T15:34:21.655650Z",
     "iopub.status.busy": "2025-07-24T15:34:21.654801Z",
     "iopub.status.idle": "2025-07-24T15:34:21.661683Z",
     "shell.execute_reply": "2025-07-24T15:34:21.660531Z",
     "shell.execute_reply.started": "2025-07-24T15:34:21.655620Z"
    }
   },
   "outputs": [],
   "source": [
    "\n",
    "oversample = SMOTE()\n"
   ]
  },
  {
   "cell_type": "code",
   "execution_count": 55,
   "id": "af2076c8-9842-49c7-bc2e-6ddda1ea1d8f",
   "metadata": {
    "execution": {
     "iopub.execute_input": "2025-07-24T15:34:28.781718Z",
     "iopub.status.busy": "2025-07-24T15:34:28.781033Z",
     "iopub.status.idle": "2025-07-24T15:34:28.803238Z",
     "shell.execute_reply": "2025-07-24T15:34:28.802237Z",
     "shell.execute_reply.started": "2025-07-24T15:34:28.781687Z"
    }
   },
   "outputs": [],
   "source": [
    "X,y=oversample.fit_resample(df[['feature_1','feature_2']],df['target'])"
   ]
  },
  {
   "cell_type": "code",
   "execution_count": 56,
   "id": "520a235b-fce9-41d3-a868-9ddd7bb91dda",
   "metadata": {
    "execution": {
     "iopub.execute_input": "2025-07-24T15:34:34.054443Z",
     "iopub.status.busy": "2025-07-24T15:34:34.053952Z",
     "iopub.status.idle": "2025-07-24T15:34:34.065864Z",
     "shell.execute_reply": "2025-07-24T15:34:34.064878Z",
     "shell.execute_reply.started": "2025-07-24T15:34:34.054407Z"
    }
   },
   "outputs": [
    {
     "data": {
      "text/html": [
       "<div>\n",
       "<style scoped>\n",
       "    .dataframe tbody tr th:only-of-type {\n",
       "        vertical-align: middle;\n",
       "    }\n",
       "\n",
       "    .dataframe tbody tr th {\n",
       "        vertical-align: top;\n",
       "    }\n",
       "\n",
       "    .dataframe thead th {\n",
       "        text-align: right;\n",
       "    }\n",
       "</style>\n",
       "<table border=\"1\" class=\"dataframe\">\n",
       "  <thead>\n",
       "    <tr style=\"text-align: right;\">\n",
       "      <th></th>\n",
       "      <th>feature_1</th>\n",
       "      <th>feature_2</th>\n",
       "    </tr>\n",
       "  </thead>\n",
       "  <tbody>\n",
       "    <tr>\n",
       "      <th>0</th>\n",
       "      <td>0.496714</td>\n",
       "      <td>0.368673</td>\n",
       "    </tr>\n",
       "    <tr>\n",
       "      <th>1</th>\n",
       "      <td>-0.138264</td>\n",
       "      <td>-0.393339</td>\n",
       "    </tr>\n",
       "    <tr>\n",
       "      <th>2</th>\n",
       "      <td>0.647689</td>\n",
       "      <td>0.028745</td>\n",
       "    </tr>\n",
       "    <tr>\n",
       "      <th>3</th>\n",
       "      <td>1.523030</td>\n",
       "      <td>1.278452</td>\n",
       "    </tr>\n",
       "    <tr>\n",
       "      <th>4</th>\n",
       "      <td>-0.234153</td>\n",
       "      <td>0.191099</td>\n",
       "    </tr>\n",
       "    <tr>\n",
       "      <th>...</th>\n",
       "      <td>...</td>\n",
       "      <td>...</td>\n",
       "    </tr>\n",
       "    <tr>\n",
       "      <th>1795</th>\n",
       "      <td>2.701868</td>\n",
       "      <td>1.826691</td>\n",
       "    </tr>\n",
       "    <tr>\n",
       "      <th>1796</th>\n",
       "      <td>3.545917</td>\n",
       "      <td>0.664057</td>\n",
       "    </tr>\n",
       "    <tr>\n",
       "      <th>1797</th>\n",
       "      <td>3.358114</td>\n",
       "      <td>1.774219</td>\n",
       "    </tr>\n",
       "    <tr>\n",
       "      <th>1798</th>\n",
       "      <td>2.486916</td>\n",
       "      <td>1.852372</td>\n",
       "    </tr>\n",
       "    <tr>\n",
       "      <th>1799</th>\n",
       "      <td>2.504733</td>\n",
       "      <td>0.885630</td>\n",
       "    </tr>\n",
       "  </tbody>\n",
       "</table>\n",
       "<p>1800 rows × 2 columns</p>\n",
       "</div>"
      ],
      "text/plain": [
       "      feature_1  feature_2\n",
       "0      0.496714   0.368673\n",
       "1     -0.138264  -0.393339\n",
       "2      0.647689   0.028745\n",
       "3      1.523030   1.278452\n",
       "4     -0.234153   0.191099\n",
       "...         ...        ...\n",
       "1795   2.701868   1.826691\n",
       "1796   3.545917   0.664057\n",
       "1797   3.358114   1.774219\n",
       "1798   2.486916   1.852372\n",
       "1799   2.504733   0.885630\n",
       "\n",
       "[1800 rows x 2 columns]"
      ]
     },
     "execution_count": 56,
     "metadata": {},
     "output_type": "execute_result"
    }
   ],
   "source": [
    "X"
   ]
  },
  {
   "cell_type": "code",
   "execution_count": 57,
   "id": "242fb622-829f-40da-8dc6-08af2b91666e",
   "metadata": {
    "execution": {
     "iopub.execute_input": "2025-07-24T15:34:37.860613Z",
     "iopub.status.busy": "2025-07-24T15:34:37.860176Z",
     "iopub.status.idle": "2025-07-24T15:34:37.869859Z",
     "shell.execute_reply": "2025-07-24T15:34:37.868904Z",
     "shell.execute_reply.started": "2025-07-24T15:34:37.860585Z"
    }
   },
   "outputs": [
    {
     "data": {
      "text/plain": [
       "0       0\n",
       "1       0\n",
       "2       0\n",
       "3       0\n",
       "4       0\n",
       "       ..\n",
       "1795    1\n",
       "1796    1\n",
       "1797    1\n",
       "1798    1\n",
       "1799    1\n",
       "Name: target, Length: 1800, dtype: int64"
      ]
     },
     "execution_count": 57,
     "metadata": {},
     "output_type": "execute_result"
    }
   ],
   "source": [
    "y"
   ]
  },
  {
   "cell_type": "code",
   "execution_count": 58,
   "id": "dbec4ce8-bd3e-4c56-b01e-39b2b8d31995",
   "metadata": {
    "execution": {
     "iopub.execute_input": "2025-07-24T15:35:37.942090Z",
     "iopub.status.busy": "2025-07-24T15:35:37.941092Z",
     "iopub.status.idle": "2025-07-24T15:35:37.949633Z",
     "shell.execute_reply": "2025-07-24T15:35:37.948814Z",
     "shell.execute_reply.started": "2025-07-24T15:35:37.942056Z"
    }
   },
   "outputs": [],
   "source": [
    "df1=pd.DataFrame(X,columns=['feature_1','feature_2'])\n",
    "df2=pd.DataFrame(y,columns=['target'])\n",
    "oversample_df=pd.concat([df1,df2],axis=1)"
   ]
  },
  {
   "cell_type": "code",
   "execution_count": 59,
   "id": "fd300571-f519-4e24-9c2d-fdf3cab3710d",
   "metadata": {
    "execution": {
     "iopub.execute_input": "2025-07-24T15:36:16.216360Z",
     "iopub.status.busy": "2025-07-24T15:36:16.215719Z",
     "iopub.status.idle": "2025-07-24T15:36:16.427876Z",
     "shell.execute_reply": "2025-07-24T15:36:16.427087Z",
     "shell.execute_reply.started": "2025-07-24T15:36:16.216335Z"
    }
   },
   "outputs": [
    {
     "data": {
      "text/plain": [
       "<matplotlib.collections.PathCollection at 0x7f904ead7ce0>"
      ]
     },
     "execution_count": 59,
     "metadata": {},
     "output_type": "execute_result"
    },
    {
     "data": {
      "image/png": "[encoded data removed]",
      "text/plain": [
       "<Figure size 640x480 with 1 Axes>"
      ]
     },
     "metadata": {},
     "output_type": "display_data"
    }
   ],
   "source": [
    "plt.scatter(oversample_df['feature_1'],oversample_df['feature_2'],c=oversample_df['target'])"
   ]
  },
  {
   "cell_type": "code",
   "execution_count": 60,
   "id": "72eaebb2-7734-4d0e-ad8e-f9059b62590e",
   "metadata": {
    "execution": {
     "iopub.execute_input": "2025-07-24T15:36:28.447197Z",
     "iopub.status.busy": "2025-07-24T15:36:28.446349Z",
     "iopub.status.idle": "2025-07-24T15:36:28.456285Z",
     "shell.execute_reply": "2025-07-24T15:36:28.455158Z",
     "shell.execute_reply.started": "2025-07-24T15:36:28.447165Z"
    }
   },
   "outputs": [
    {
     "data": {
      "text/html": [
       "<div>\n",
       "<style scoped>\n",
       "    .dataframe tbody tr th:only-of-type {\n",
       "        vertical-align: middle;\n",
       "    }\n",
       "\n",
       "    .dataframe tbody tr th {\n",
       "        vertical-align: top;\n",
       "    }\n",
       "\n",
       "    .dataframe thead th {\n",
       "        text-align: right;\n",
       "    }\n",
       "</style>\n",
       "<table border=\"1\" class=\"dataframe\">\n",
       "  <thead>\n",
       "    <tr style=\"text-align: right;\">\n",
       "      <th></th>\n",
       "      <th>feature_1</th>\n",
       "      <th>feature_2</th>\n",
       "      <th>target</th>\n",
       "    </tr>\n",
       "  </thead>\n",
       "  <tbody>\n",
       "    <tr>\n",
       "      <th>0</th>\n",
       "      <td>0.496714</td>\n",
       "      <td>0.368673</td>\n",
       "      <td>0</td>\n",
       "    </tr>\n",
       "    <tr>\n",
       "      <th>1</th>\n",
       "      <td>-0.138264</td>\n",
       "      <td>-0.393339</td>\n",
       "      <td>0</td>\n",
       "    </tr>\n",
       "    <tr>\n",
       "      <th>2</th>\n",
       "      <td>0.647689</td>\n",
       "      <td>0.028745</td>\n",
       "      <td>0</td>\n",
       "    </tr>\n",
       "    <tr>\n",
       "      <th>3</th>\n",
       "      <td>1.523030</td>\n",
       "      <td>1.278452</td>\n",
       "      <td>0</td>\n",
       "    </tr>\n",
       "    <tr>\n",
       "      <th>4</th>\n",
       "      <td>-0.234153</td>\n",
       "      <td>0.191099</td>\n",
       "      <td>0</td>\n",
       "    </tr>\n",
       "    <tr>\n",
       "      <th>...</th>\n",
       "      <td>...</td>\n",
       "      <td>...</td>\n",
       "      <td>...</td>\n",
       "    </tr>\n",
       "    <tr>\n",
       "      <th>1795</th>\n",
       "      <td>2.701868</td>\n",
       "      <td>1.826691</td>\n",
       "      <td>1</td>\n",
       "    </tr>\n",
       "    <tr>\n",
       "      <th>1796</th>\n",
       "      <td>3.545917</td>\n",
       "      <td>0.664057</td>\n",
       "      <td>1</td>\n",
       "    </tr>\n",
       "    <tr>\n",
       "      <th>1797</th>\n",
       "      <td>3.358114</td>\n",
       "      <td>1.774219</td>\n",
       "      <td>1</td>\n",
       "    </tr>\n",
       "    <tr>\n",
       "      <th>1798</th>\n",
       "      <td>2.486916</td>\n",
       "      <td>1.852372</td>\n",
       "      <td>1</td>\n",
       "    </tr>\n",
       "    <tr>\n",
       "      <th>1799</th>\n",
       "      <td>2.504733</td>\n",
       "      <td>0.885630</td>\n",
       "      <td>1</td>\n",
       "    </tr>\n",
       "  </tbody>\n",
       "</table>\n",
       "<p>1800 rows × 3 columns</p>\n",
       "</div>"
      ],
      "text/plain": [
       "      feature_1  feature_2  target\n",
       "0      0.496714   0.368673       0\n",
       "1     -0.138264  -0.393339       0\n",
       "2      0.647689   0.028745       0\n",
       "3      1.523030   1.278452       0\n",
       "4     -0.234153   0.191099       0\n",
       "...         ...        ...     ...\n",
       "1795   2.701868   1.826691       1\n",
       "1796   3.545917   0.664057       1\n",
       "1797   3.358114   1.774219       1\n",
       "1798   2.486916   1.852372       1\n",
       "1799   2.504733   0.885630       1\n",
       "\n",
       "[1800 rows x 3 columns]"
      ]
     },
     "execution_count": 60,
     "metadata": {},
     "output_type": "execute_result"
    }
   ],
   "source": [
    "\n",
    "oversample_df"
   ]
  },
  {
   "cell_type": "code",
   "execution_count": 61,
   "id": "ebd8f7e8-5b71-4f85-b62c-ad8b162af728",
   "metadata": {
    "execution": {
     "iopub.execute_input": "2025-07-24T15:36:38.343937Z",
     "iopub.status.busy": "2025-07-24T15:36:38.343607Z",
     "iopub.status.idle": "2025-07-24T15:36:38.352669Z",
     "shell.execute_reply": "2025-07-24T15:36:38.351526Z",
     "shell.execute_reply.started": "2025-07-24T15:36:38.343914Z"
    }
   },
   "outputs": [
    {
     "data": {
      "text/plain": [
       "target\n",
       "0    900\n",
       "1    900\n",
       "Name: count, dtype: int64"
      ]
     },
     "execution_count": 61,
     "metadata": {},
     "output_type": "execute_result"
    }
   ],
   "source": [
    "\n",
    "oversample_df['target'].value_counts()"
   ]
  },
  {
   "cell_type": "code",
   "execution_count": null,
   "id": "73f4ceac-4dfa-4ef2-b079-33c4ad601964",
   "metadata": {},
   "outputs": [],
   "source": []
  }
 ],
 "metadata": {
  "kernelspec": {
   "display_name": "Python 3 (ipykernel)",
   "language": "python",
   "name": "python3"
  },
  "language_info": {
   "codemirror_mode": {
    "name": "ipython",
    "version": 3
   },
   "file_extension": ".py",
   "mimetype": "text/x-python",
   "name": "python",
   "nbconvert_exporter": "python",
   "pygments_lexer": "ipython3",
   "version": "3.12.9"
  }
 },
 "nbformat": 4,
 "nbformat_minor": 5
}
