{
 "cells": [
  {
   "cell_type": "code",
   "execution_count": 4,
   "id": "7c13fc0e-73a0-464e-8699-102105946ebd",
   "metadata": {
    "execution": {
     "iopub.execute_input": "2025-07-08T19:59:35.139659Z",
     "iopub.status.busy": "2025-07-08T19:59:35.139319Z",
     "iopub.status.idle": "2025-07-08T19:59:35.144242Z",
     "shell.execute_reply": "2025-07-08T19:59:35.143290Z",
     "shell.execute_reply.started": "2025-07-08T19:59:35.139638Z"
    }
   },
   "outputs": [],
   "source": [
    "import pandas as pd\n",
    "import numpy as np"
   ]
  },
  {
   "cell_type": "code",
   "execution_count": 5,
   "id": "ba75f645-c347-404d-9570-a33b876c5a7b",
   "metadata": {
    "execution": {
     "iopub.execute_input": "2025-07-08T20:02:46.703297Z",
     "iopub.status.busy": "2025-07-08T20:02:46.702549Z",
     "iopub.status.idle": "2025-07-08T20:02:46.710780Z",
     "shell.execute_reply": "2025-07-08T20:02:46.709196Z",
     "shell.execute_reply.started": "2025-07-08T20:02:46.703268Z"
    }
   },
   "outputs": [],
   "source": [
    "grades = {\"Emre\": 50, \"James\": 60, \"Lars\": 30}"
   ]
  },
  {
   "cell_type": "code",
   "execution_count": 8,
   "id": "be876235-3f2a-4319-a31c-c4e590f45919",
   "metadata": {
    "execution": {
     "iopub.execute_input": "2025-07-08T20:03:29.407201Z",
     "iopub.status.busy": "2025-07-08T20:03:29.406796Z",
     "iopub.status.idle": "2025-07-08T20:03:29.424500Z",
     "shell.execute_reply": "2025-07-08T20:03:29.423006Z",
     "shell.execute_reply.started": "2025-07-08T20:03:29.407176Z"
    }
   },
   "outputs": [
    {
     "data": {
      "text/plain": [
       "Emre     50\n",
       "James    60\n",
       "Lars     30\n",
       "dtype: int64"
      ]
     },
     "execution_count": 8,
     "metadata": {},
     "output_type": "execute_result"
    }
   ],
   "source": [
    "pd.Series(grades)"
   ]
  },
  {
   "cell_type": "code",
   "execution_count": 9,
   "id": "e2c2be86-378c-4b47-9912-2138fda75c49",
   "metadata": {
    "execution": {
     "iopub.execute_input": "2025-07-08T20:08:35.259147Z",
     "iopub.status.busy": "2025-07-08T20:08:35.258431Z",
     "iopub.status.idle": "2025-07-08T20:08:35.265465Z",
     "shell.execute_reply": "2025-07-08T20:08:35.264208Z",
     "shell.execute_reply.started": "2025-07-08T20:08:35.259118Z"
    }
   },
   "outputs": [],
   "source": [
    "names = [\"Emre\", \"James\", \"Lars\"]\n",
    "grades = [50,60,30]"
   ]
  },
  {
   "cell_type": "code",
   "execution_count": 11,
   "id": "364d86ed-8b63-445f-8e88-0d50e56b83a7",
   "metadata": {
    "execution": {
     "iopub.execute_input": "2025-07-08T20:08:48.997752Z",
     "iopub.status.busy": "2025-07-08T20:08:48.997436Z",
     "iopub.status.idle": "2025-07-08T20:08:49.007365Z",
     "shell.execute_reply": "2025-07-08T20:08:49.006494Z",
     "shell.execute_reply.started": "2025-07-08T20:08:48.997729Z"
    }
   },
   "outputs": [
    {
     "data": {
      "text/plain": [
       "0     Emre\n",
       "1    James\n",
       "2     Lars\n",
       "dtype: object"
      ]
     },
     "execution_count": 11,
     "metadata": {},
     "output_type": "execute_result"
    }
   ],
   "source": [
    "pd.Series(names)"
   ]
  },
  {
   "cell_type": "code",
   "execution_count": 12,
   "id": "3995cad4-816e-4f65-af0a-49dd692b8f65",
   "metadata": {
    "execution": {
     "iopub.execute_input": "2025-07-08T20:09:19.168505Z",
     "iopub.status.busy": "2025-07-08T20:09:19.168082Z",
     "iopub.status.idle": "2025-07-08T20:09:19.176234Z",
     "shell.execute_reply": "2025-07-08T20:09:19.174730Z",
     "shell.execute_reply.started": "2025-07-08T20:09:19.168482Z"
    }
   },
   "outputs": [
    {
     "data": {
      "text/plain": [
       "0    50\n",
       "1    60\n",
       "2    30\n",
       "dtype: int64"
      ]
     },
     "execution_count": 12,
     "metadata": {},
     "output_type": "execute_result"
    }
   ],
   "source": [
    "pd.Series(grades)"
   ]
  },
  {
   "cell_type": "code",
   "execution_count": 13,
   "id": "6abedfa0-8828-4157-8240-29bc4d1ebedd",
   "metadata": {
    "execution": {
     "iopub.execute_input": "2025-07-08T20:09:42.432989Z",
     "iopub.status.busy": "2025-07-08T20:09:42.432296Z",
     "iopub.status.idle": "2025-07-08T20:09:42.441452Z",
     "shell.execute_reply": "2025-07-08T20:09:42.440362Z",
     "shell.execute_reply.started": "2025-07-08T20:09:42.432963Z"
    }
   },
   "outputs": [
    {
     "data": {
      "text/plain": [
       "Emre     50\n",
       "James    60\n",
       "Lars     30\n",
       "dtype: int64"
      ]
     },
     "execution_count": 13,
     "metadata": {},
     "output_type": "execute_result"
    }
   ],
   "source": [
    "pd.Series(grades,names)"
   ]
  },
  {
   "cell_type": "code",
   "execution_count": 14,
   "id": "c12b1efa-9fae-4223-80f4-5face6f32f6c",
   "metadata": {
    "execution": {
     "iopub.execute_input": "2025-07-08T20:10:43.339049Z",
     "iopub.status.busy": "2025-07-08T20:10:43.338382Z",
     "iopub.status.idle": "2025-07-08T20:10:43.347175Z",
     "shell.execute_reply": "2025-07-08T20:10:43.346196Z",
     "shell.execute_reply.started": "2025-07-08T20:10:43.339016Z"
    }
   },
   "outputs": [
    {
     "data": {
      "text/plain": [
       "Emre     50\n",
       "James    60\n",
       "Lars     30\n",
       "dtype: int64"
      ]
     },
     "execution_count": 14,
     "metadata": {},
     "output_type": "execute_result"
    }
   ],
   "source": [
    "pd.Series(data=grades, index=names)"
   ]
  },
  {
   "cell_type": "code",
   "execution_count": 15,
   "id": "b2d7c939-0292-4563-9148-9c4e15abd58d",
   "metadata": {
    "execution": {
     "iopub.execute_input": "2025-07-08T20:11:10.297241Z",
     "iopub.status.busy": "2025-07-08T20:11:10.296474Z",
     "iopub.status.idle": "2025-07-08T20:11:10.303606Z",
     "shell.execute_reply": "2025-07-08T20:11:10.302212Z",
     "shell.execute_reply.started": "2025-07-08T20:11:10.297206Z"
    }
   },
   "outputs": [],
   "source": [
    "# with numpy"
   ]
  },
  {
   "cell_type": "code",
   "execution_count": 16,
   "id": "dbcc19ca-3e8c-44ba-b9cf-0106036d1f4e",
   "metadata": {
    "execution": {
     "iopub.execute_input": "2025-07-08T20:11:45.477464Z",
     "iopub.status.busy": "2025-07-08T20:11:45.476268Z",
     "iopub.status.idle": "2025-07-08T20:11:45.483148Z",
     "shell.execute_reply": "2025-07-08T20:11:45.481777Z",
     "shell.execute_reply.started": "2025-07-08T20:11:45.477434Z"
    }
   },
   "outputs": [],
   "source": [
    "numpy_array = np.array ([50,40,30,20])"
   ]
  },
  {
   "cell_type": "code",
   "execution_count": 17,
   "id": "5da25471-a1ef-4817-a02a-1a123e99bd33",
   "metadata": {
    "execution": {
     "iopub.execute_input": "2025-07-08T20:11:58.654256Z",
     "iopub.status.busy": "2025-07-08T20:11:58.653928Z",
     "iopub.status.idle": "2025-07-08T20:11:58.663681Z",
     "shell.execute_reply": "2025-07-08T20:11:58.662203Z",
     "shell.execute_reply.started": "2025-07-08T20:11:58.654234Z"
    }
   },
   "outputs": [
    {
     "data": {
      "text/plain": [
       "0    50\n",
       "1    40\n",
       "2    30\n",
       "3    20\n",
       "dtype: int64"
      ]
     },
     "execution_count": 17,
     "metadata": {},
     "output_type": "execute_result"
    }
   ],
   "source": [
    "pd.Series(numpy_array)"
   ]
  },
  {
   "cell_type": "code",
   "execution_count": 19,
   "id": "69832364-7fe8-4eed-a45c-c400dbdf2a94",
   "metadata": {
    "execution": {
     "iopub.execute_input": "2025-07-08T20:13:29.996315Z",
     "iopub.status.busy": "2025-07-08T20:13:29.995821Z",
     "iopub.status.idle": "2025-07-08T20:13:30.004441Z",
     "shell.execute_reply": "2025-07-08T20:13:30.001492Z",
     "shell.execute_reply.started": "2025-07-08T20:13:29.996289Z"
    }
   },
   "outputs": [],
   "source": [
    "#arithmetic    --- series topliyacinca cikarinca ne oluyor onu gorucez."
   ]
  },
  {
   "cell_type": "code",
   "execution_count": 20,
   "id": "7eae23d1-1b8a-40e4-9806-48c17f38103a",
   "metadata": {
    "execution": {
     "iopub.execute_input": "2025-07-08T20:15:06.516431Z",
     "iopub.status.busy": "2025-07-08T20:15:06.515007Z",
     "iopub.status.idle": "2025-07-08T20:15:06.523027Z",
     "shell.execute_reply": "2025-07-08T20:15:06.521578Z",
     "shell.execute_reply.started": "2025-07-08T20:15:06.516393Z"
    }
   },
   "outputs": [],
   "source": [
    "contest_result = pd.Series(data=[10,5,100], index=[\"Emre\",\"James\",\"Lars\"])"
   ]
  },
  {
   "cell_type": "code",
   "execution_count": 21,
   "id": "b0657491-2a1d-4214-982f-8d002a0e3f6c",
   "metadata": {
    "execution": {
     "iopub.execute_input": "2025-07-08T20:17:00.866548Z",
     "iopub.status.busy": "2025-07-08T20:17:00.865603Z",
     "iopub.status.idle": "2025-07-08T20:17:00.870629Z",
     "shell.execute_reply": "2025-07-08T20:17:00.869846Z",
     "shell.execute_reply.started": "2025-07-08T20:17:00.866521Z"
    }
   },
   "outputs": [],
   "source": [
    "contest_result2 = pd.Series(data=[20,50,10], index=[\"Emre\",\"James\",\"Lars\"])\n"
   ]
  },
  {
   "cell_type": "code",
   "execution_count": 22,
   "id": "8b85286e-63ca-4889-af08-645baf0cf98d",
   "metadata": {
    "execution": {
     "iopub.execute_input": "2025-07-08T20:34:11.761078Z",
     "iopub.status.busy": "2025-07-08T20:34:11.760751Z",
     "iopub.status.idle": "2025-07-08T20:34:11.771234Z",
     "shell.execute_reply": "2025-07-08T20:34:11.770144Z",
     "shell.execute_reply.started": "2025-07-08T20:34:11.761055Z"
    }
   },
   "outputs": [
    {
     "data": {
      "text/plain": [
       "Emre      10\n",
       "James      5\n",
       "Lars     100\n",
       "dtype: int64"
      ]
     },
     "execution_count": 22,
     "metadata": {},
     "output_type": "execute_result"
    }
   ],
   "source": [
    "contest_result"
   ]
  },
  {
   "cell_type": "code",
   "execution_count": 23,
   "id": "4e244608-96de-42cd-af2b-d5300ef67e43",
   "metadata": {
    "execution": {
     "iopub.execute_input": "2025-07-08T20:34:34.207657Z",
     "iopub.status.busy": "2025-07-08T20:34:34.206339Z",
     "iopub.status.idle": "2025-07-08T20:34:34.214251Z",
     "shell.execute_reply": "2025-07-08T20:34:34.212992Z",
     "shell.execute_reply.started": "2025-07-08T20:34:34.207609Z"
    }
   },
   "outputs": [
    {
     "data": {
      "text/plain": [
       "50"
      ]
     },
     "execution_count": 23,
     "metadata": {},
     "output_type": "execute_result"
    }
   ],
   "source": [
    "contest_result2[\"James\"]"
   ]
  },
  {
   "cell_type": "code",
   "execution_count": 24,
   "id": "d091a3f4-f15f-4763-b376-ac38a7a46a45",
   "metadata": {
    "execution": {
     "iopub.execute_input": "2025-07-08T20:34:53.653682Z",
     "iopub.status.busy": "2025-07-08T20:34:53.653051Z",
     "iopub.status.idle": "2025-07-08T20:34:53.660309Z",
     "shell.execute_reply": "2025-07-08T20:34:53.659166Z",
     "shell.execute_reply.started": "2025-07-08T20:34:53.653652Z"
    }
   },
   "outputs": [
    {
     "data": {
      "text/plain": [
       "10"
      ]
     },
     "execution_count": 24,
     "metadata": {},
     "output_type": "execute_result"
    }
   ],
   "source": [
    "contest_result[\"Emre\"]"
   ]
  },
  {
   "cell_type": "code",
   "execution_count": 25,
   "id": "723c5721-bf35-428f-8a2c-bde566d42229",
   "metadata": {
    "execution": {
     "iopub.execute_input": "2025-07-08T20:35:38.062715Z",
     "iopub.status.busy": "2025-07-08T20:35:38.061667Z",
     "iopub.status.idle": "2025-07-08T20:35:38.071139Z",
     "shell.execute_reply": "2025-07-08T20:35:38.070085Z",
     "shell.execute_reply.started": "2025-07-08T20:35:38.062683Z"
    }
   },
   "outputs": [],
   "source": [
    "result = contest_result + contest_result2"
   ]
  },
  {
   "cell_type": "code",
   "execution_count": 26,
   "id": "96955c68-98bd-4e47-9266-7e887ceee90c",
   "metadata": {
    "execution": {
     "iopub.execute_input": "2025-07-08T20:35:41.282742Z",
     "iopub.status.busy": "2025-07-08T20:35:41.282055Z",
     "iopub.status.idle": "2025-07-08T20:35:41.290197Z",
     "shell.execute_reply": "2025-07-08T20:35:41.288625Z",
     "shell.execute_reply.started": "2025-07-08T20:35:41.282712Z"
    }
   },
   "outputs": [
    {
     "data": {
      "text/plain": [
       "Emre      30\n",
       "James     55\n",
       "Lars     110\n",
       "dtype: int64"
      ]
     },
     "execution_count": 26,
     "metadata": {},
     "output_type": "execute_result"
    }
   ],
   "source": [
    "result"
   ]
  },
  {
   "cell_type": "code",
   "execution_count": 31,
   "id": "470b68a7-48ea-48e3-ab2a-5bf0c93a9c86",
   "metadata": {
    "execution": {
     "iopub.execute_input": "2025-07-08T20:37:21.308769Z",
     "iopub.status.busy": "2025-07-08T20:37:21.307814Z",
     "iopub.status.idle": "2025-07-08T20:37:21.315457Z",
     "shell.execute_reply": "2025-07-08T20:37:21.314467Z",
     "shell.execute_reply.started": "2025-07-08T20:37:21.308744Z"
    }
   },
   "outputs": [
    {
     "data": {
      "text/plain": [
       "Emre    -10\n",
       "James   -45\n",
       "Lars     90\n",
       "dtype: int64"
      ]
     },
     "execution_count": 31,
     "metadata": {},
     "output_type": "execute_result"
    }
   ],
   "source": [
    "contest_result - contest_result2"
   ]
  },
  {
   "cell_type": "code",
   "execution_count": 30,
   "id": "e2064605-e79e-4891-aa93-c0bcccf7a633",
   "metadata": {
    "execution": {
     "iopub.execute_input": "2025-07-08T20:37:04.990443Z",
     "iopub.status.busy": "2025-07-08T20:37:04.989163Z",
     "iopub.status.idle": "2025-07-08T20:37:05.001345Z",
     "shell.execute_reply": "2025-07-08T20:37:05.000615Z",
     "shell.execute_reply.started": "2025-07-08T20:37:04.990396Z"
    }
   },
   "outputs": [
    {
     "data": {
      "text/plain": [
       "Emre      0.5\n",
       "James     0.1\n",
       "Lars     10.0\n",
       "dtype: float64"
      ]
     },
     "execution_count": 30,
     "metadata": {},
     "output_type": "execute_result"
    }
   ],
   "source": [
    "contest_result / contest_result2"
   ]
  },
  {
   "cell_type": "code",
   "execution_count": 32,
   "id": "56c88512-cd5c-45f8-b07c-ac2486b4ce2b",
   "metadata": {
    "execution": {
     "iopub.execute_input": "2025-07-08T20:37:37.204759Z",
     "iopub.status.busy": "2025-07-08T20:37:37.204340Z",
     "iopub.status.idle": "2025-07-08T20:37:37.214471Z",
     "shell.execute_reply": "2025-07-08T20:37:37.213206Z",
     "shell.execute_reply.started": "2025-07-08T20:37:37.204735Z"
    }
   },
   "outputs": [
    {
     "data": {
      "text/plain": [
       "Emre      200\n",
       "James     250\n",
       "Lars     1000\n",
       "dtype: int64"
      ]
     },
     "execution_count": 32,
     "metadata": {},
     "output_type": "execute_result"
    }
   ],
   "source": [
    "contest_result * contest_result2"
   ]
  },
  {
   "cell_type": "code",
   "execution_count": 36,
   "id": "9fd2fa3b-7c5f-4ba6-9e98-cfc037ff63d4",
   "metadata": {
    "execution": {
     "iopub.execute_input": "2025-07-08T20:44:59.445747Z",
     "iopub.status.busy": "2025-07-08T20:44:59.445322Z",
     "iopub.status.idle": "2025-07-08T20:44:59.452648Z",
     "shell.execute_reply": "2025-07-08T20:44:59.451199Z",
     "shell.execute_reply.started": "2025-07-08T20:44:59.445723Z"
    }
   },
   "outputs": [],
   "source": [
    "\n",
    "different_series = pd.Series([20,30,40,50], [\"a\",\"b\",\"c\",\"d\"])"
   ]
  },
  {
   "cell_type": "code",
   "execution_count": 37,
   "id": "a8435f59-7cc4-4dd0-a001-a1ed0185fc4a",
   "metadata": {
    "execution": {
     "iopub.execute_input": "2025-07-08T20:45:43.573056Z",
     "iopub.status.busy": "2025-07-08T20:45:43.572654Z",
     "iopub.status.idle": "2025-07-08T20:45:43.579478Z",
     "shell.execute_reply": "2025-07-08T20:45:43.578332Z",
     "shell.execute_reply.started": "2025-07-08T20:45:43.573031Z"
    }
   },
   "outputs": [],
   "source": [
    "different_series2 = pd.Series([10,5,3,1], [\"a\",\"c\",\"f\",\"g\"])"
   ]
  },
  {
   "cell_type": "code",
   "execution_count": 38,
   "id": "48b9a831-bd3e-4a9b-89e1-cdf3b86ad947",
   "metadata": {
    "execution": {
     "iopub.execute_input": "2025-07-08T20:46:07.093137Z",
     "iopub.status.busy": "2025-07-08T20:46:07.092806Z",
     "iopub.status.idle": "2025-07-08T20:46:07.110881Z",
     "shell.execute_reply": "2025-07-08T20:46:07.109741Z",
     "shell.execute_reply.started": "2025-07-08T20:46:07.093115Z"
    }
   },
   "outputs": [
    {
     "data": {
      "text/plain": [
       "a    30.0\n",
       "b     NaN\n",
       "c    45.0\n",
       "d     NaN\n",
       "f     NaN\n",
       "g     NaN\n",
       "dtype: float64"
      ]
     },
     "execution_count": 38,
     "metadata": {},
     "output_type": "execute_result"
    }
   ],
   "source": [
    "different_series + different_series2"
   ]
  },
  {
   "cell_type": "code",
   "execution_count": null,
   "id": "e3588cbc-89a6-4326-a9e5-bdfb226be66f",
   "metadata": {},
   "outputs": [],
   "source": []
  }
 ],
 "metadata": {
  "kernelspec": {
   "display_name": "Python 3 (ipykernel)",
   "language": "python",
   "name": "python3"
  },
  "language_info": {
   "codemirror_mode": {
    "name": "ipython",
    "version": 3
   },
   "file_extension": ".py",
   "mimetype": "text/x-python",
   "name": "python",
   "nbconvert_exporter": "python",
   "pygments_lexer": "ipython3",
   "version": "3.12.9"
  }
 },
 "nbformat": 4,
 "nbformat_minor": 5
}
