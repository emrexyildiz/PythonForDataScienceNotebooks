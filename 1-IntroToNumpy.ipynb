{
 "cells": [
  {
   "cell_type": "code",
   "execution_count": 5,
   "id": "570513fe-a24c-4b49-a77f-5b2865c442f5",
   "metadata": {
    "execution": {
     "iopub.execute_input": "2025-07-08T07:31:54.780625Z",
     "iopub.status.busy": "2025-07-08T07:31:54.780286Z",
     "iopub.status.idle": "2025-07-08T07:31:55.043089Z",
     "shell.execute_reply": "2025-07-08T07:31:55.042287Z",
     "shell.execute_reply.started": "2025-07-08T07:31:54.780603Z"
    }
   },
   "outputs": [],
   "source": [
    "import numpy as np\n"
   ]
  },
  {
   "cell_type": "code",
   "execution_count": 6,
   "id": "ac3bccdf-fc94-4dc4-a9c0-aed7db792e2a",
   "metadata": {
    "execution": {
     "iopub.execute_input": "2025-07-08T07:31:56.617170Z",
     "iopub.status.busy": "2025-07-08T07:31:56.616794Z",
     "iopub.status.idle": "2025-07-08T07:31:56.621831Z",
     "shell.execute_reply": "2025-07-08T07:31:56.621008Z",
     "shell.execute_reply.started": "2025-07-08T07:31:56.617148Z"
    }
   },
   "outputs": [],
   "source": [
    "my_list = [10,20,30,40]"
   ]
  },
  {
   "cell_type": "code",
   "execution_count": 7,
   "id": "acc28f4e-87be-40c1-8f6e-48635c2ade08",
   "metadata": {
    "execution": {
     "iopub.execute_input": "2025-07-08T07:31:56.811052Z",
     "iopub.status.busy": "2025-07-08T07:31:56.810720Z",
     "iopub.status.idle": "2025-07-08T07:31:56.818349Z",
     "shell.execute_reply": "2025-07-08T07:31:56.817374Z",
     "shell.execute_reply.started": "2025-07-08T07:31:56.811030Z"
    }
   },
   "outputs": [
    {
     "data": {
      "text/plain": [
       "list"
      ]
     },
     "execution_count": 7,
     "metadata": {},
     "output_type": "execute_result"
    }
   ],
   "source": [
    "type(my_list)"
   ]
  },
  {
   "cell_type": "code",
   "execution_count": 8,
   "id": "6c253838-a5d7-47b9-93cb-71524e3b0a07",
   "metadata": {
    "execution": {
     "iopub.execute_input": "2025-07-08T07:31:57.004349Z",
     "iopub.status.busy": "2025-07-08T07:31:57.004037Z",
     "iopub.status.idle": "2025-07-08T07:31:57.012868Z",
     "shell.execute_reply": "2025-07-08T07:31:57.011893Z",
     "shell.execute_reply.started": "2025-07-08T07:31:57.004328Z"
    }
   },
   "outputs": [
    {
     "data": {
      "text/plain": [
       "array([10, 20, 30, 40])"
      ]
     },
     "execution_count": 8,
     "metadata": {},
     "output_type": "execute_result"
    }
   ],
   "source": [
    "np.array(my_list)"
   ]
  },
  {
   "cell_type": "code",
   "execution_count": 9,
   "id": "7d72355b-7e92-4861-a2eb-8d683fe61385",
   "metadata": {
    "execution": {
     "iopub.execute_input": "2025-07-08T07:31:57.198583Z",
     "iopub.status.busy": "2025-07-08T07:31:57.198248Z",
     "iopub.status.idle": "2025-07-08T07:31:57.203638Z",
     "shell.execute_reply": "2025-07-08T07:31:57.202540Z",
     "shell.execute_reply.started": "2025-07-08T07:31:57.198562Z"
    }
   },
   "outputs": [],
   "source": [
    "my_numpy_array = np.array(my_list)"
   ]
  },
  {
   "cell_type": "code",
   "execution_count": 10,
   "id": "233e23a6-294b-4fc1-9c37-45c9be72e820",
   "metadata": {
    "execution": {
     "iopub.execute_input": "2025-07-08T07:31:57.403763Z",
     "iopub.status.busy": "2025-07-08T07:31:57.403426Z",
     "iopub.status.idle": "2025-07-08T07:31:57.411772Z",
     "shell.execute_reply": "2025-07-08T07:31:57.410778Z",
     "shell.execute_reply.started": "2025-07-08T07:31:57.403742Z"
    }
   },
   "outputs": [
    {
     "data": {
      "text/plain": [
       "array([10, 20, 30, 40])"
      ]
     },
     "execution_count": 10,
     "metadata": {},
     "output_type": "execute_result"
    }
   ],
   "source": [
    "my_numpy_array"
   ]
  },
  {
   "cell_type": "code",
   "execution_count": 11,
   "id": "0a5df96c-1402-40d8-b768-d5ed080e5f99",
   "metadata": {
    "execution": {
     "iopub.execute_input": "2025-07-08T07:31:57.584295Z",
     "iopub.status.busy": "2025-07-08T07:31:57.583985Z",
     "iopub.status.idle": "2025-07-08T07:31:57.592066Z",
     "shell.execute_reply": "2025-07-08T07:31:57.591154Z",
     "shell.execute_reply.started": "2025-07-08T07:31:57.584273Z"
    }
   },
   "outputs": [
    {
     "data": {
      "text/plain": [
       "numpy.ndarray"
      ]
     },
     "execution_count": 11,
     "metadata": {},
     "output_type": "execute_result"
    }
   ],
   "source": [
    "type(my_numpy_array)"
   ]
  },
  {
   "cell_type": "code",
   "execution_count": 12,
   "id": "0fbd6fe9-94ee-4d58-a199-c017d881f3fa",
   "metadata": {
    "execution": {
     "iopub.execute_input": "2025-07-08T07:31:57.895777Z",
     "iopub.status.busy": "2025-07-08T07:31:57.895454Z",
     "iopub.status.idle": "2025-07-08T07:31:57.903730Z",
     "shell.execute_reply": "2025-07-08T07:31:57.902664Z",
     "shell.execute_reply.started": "2025-07-08T07:31:57.895756Z"
    }
   },
   "outputs": [
    {
     "data": {
      "text/plain": [
       "array([0., 0., 0., 0., 0.])"
      ]
     },
     "execution_count": 12,
     "metadata": {},
     "output_type": "execute_result"
    }
   ],
   "source": [
    "np.zeros(5)"
   ]
  },
  {
   "cell_type": "code",
   "execution_count": 13,
   "id": "85a0eb0e-ceed-4c8c-ada4-827316cc2750",
   "metadata": {
    "execution": {
     "iopub.execute_input": "2025-07-08T07:31:58.129761Z",
     "iopub.status.busy": "2025-07-08T07:31:58.129395Z",
     "iopub.status.idle": "2025-07-08T07:31:58.139827Z",
     "shell.execute_reply": "2025-07-08T07:31:58.138628Z",
     "shell.execute_reply.started": "2025-07-08T07:31:58.129739Z"
    }
   },
   "outputs": [
    {
     "data": {
      "text/plain": [
       "array([1., 1., 1., 1., 1.])"
      ]
     },
     "execution_count": 13,
     "metadata": {},
     "output_type": "execute_result"
    }
   ],
   "source": [
    "np.ones(5)"
   ]
  },
  {
   "cell_type": "code",
   "execution_count": 14,
   "id": "83ec8979-a839-4786-bce2-47503de1dffc",
   "metadata": {
    "execution": {
     "iopub.execute_input": "2025-07-08T07:31:58.347856Z",
     "iopub.status.busy": "2025-07-08T07:31:58.347542Z",
     "iopub.status.idle": "2025-07-08T07:31:58.354995Z",
     "shell.execute_reply": "2025-07-08T07:31:58.354051Z",
     "shell.execute_reply.started": "2025-07-08T07:31:58.347836Z"
    }
   },
   "outputs": [
    {
     "data": {
      "text/plain": [
       "array([0.45067326, 0.79247634, 0.60142637, 0.46970779, 0.51563071])"
      ]
     },
     "execution_count": 14,
     "metadata": {},
     "output_type": "execute_result"
    }
   ],
   "source": [
    "np.random.random(5)"
   ]
  },
  {
   "cell_type": "code",
   "execution_count": 15,
   "id": "a7708a30-58ac-4717-821a-68ee4a70838d",
   "metadata": {
    "execution": {
     "iopub.execute_input": "2025-07-08T07:31:58.762265Z",
     "iopub.status.busy": "2025-07-08T07:31:58.761929Z",
     "iopub.status.idle": "2025-07-08T07:31:58.768415Z",
     "shell.execute_reply": "2025-07-08T07:31:58.767134Z",
     "shell.execute_reply.started": "2025-07-08T07:31:58.762240Z"
    }
   },
   "outputs": [],
   "source": [
    "my_list1 = [1,2]"
   ]
  },
  {
   "cell_type": "code",
   "execution_count": 16,
   "id": "f64f39ee-4a26-4dc4-8922-37e752e3d237",
   "metadata": {
    "execution": {
     "iopub.execute_input": "2025-07-08T07:31:59.065811Z",
     "iopub.status.busy": "2025-07-08T07:31:59.065466Z",
     "iopub.status.idle": "2025-07-08T07:31:59.071236Z",
     "shell.execute_reply": "2025-07-08T07:31:59.069881Z",
     "shell.execute_reply.started": "2025-07-08T07:31:59.065787Z"
    }
   },
   "outputs": [],
   "source": [
    "my_list2 = [2,3]"
   ]
  },
  {
   "cell_type": "code",
   "execution_count": 17,
   "id": "e9b3852f-6c1f-4816-bfc0-7b7de9a457e5",
   "metadata": {
    "execution": {
     "iopub.execute_input": "2025-07-08T07:31:59.446474Z",
     "iopub.status.busy": "2025-07-08T07:31:59.446161Z",
     "iopub.status.idle": "2025-07-08T07:31:59.453297Z",
     "shell.execute_reply": "2025-07-08T07:31:59.452040Z",
     "shell.execute_reply.started": "2025-07-08T07:31:59.446454Z"
    }
   },
   "outputs": [
    {
     "data": {
      "text/plain": [
       "[1, 2, 2, 3]"
      ]
     },
     "execution_count": 17,
     "metadata": {},
     "output_type": "execute_result"
    }
   ],
   "source": [
    "my_list1 + my_list2"
   ]
  },
  {
   "cell_type": "code",
   "execution_count": 18,
   "id": "8f8778d5-eead-48f0-af5a-ff632e43ba68",
   "metadata": {
    "execution": {
     "iopub.execute_input": "2025-07-08T07:32:00.216071Z",
     "iopub.status.busy": "2025-07-08T07:32:00.215756Z",
     "iopub.status.idle": "2025-07-08T07:32:00.222327Z",
     "shell.execute_reply": "2025-07-08T07:32:00.221011Z",
     "shell.execute_reply.started": "2025-07-08T07:32:00.216050Z"
    }
   },
   "outputs": [],
   "source": [
    "my_numpy_array1 = np.array(my_list1)"
   ]
  },
  {
   "cell_type": "code",
   "execution_count": 19,
   "id": "df8cf422-5282-4699-b7a6-7cd53a0a57ad",
   "metadata": {
    "execution": {
     "iopub.execute_input": "2025-07-08T07:32:30.563157Z",
     "iopub.status.busy": "2025-07-08T07:32:30.562832Z",
     "iopub.status.idle": "2025-07-08T07:32:30.567677Z",
     "shell.execute_reply": "2025-07-08T07:32:30.566589Z",
     "shell.execute_reply.started": "2025-07-08T07:32:30.563134Z"
    }
   },
   "outputs": [],
   "source": [
    "my_numpy_array2 = np.array(my_list2)"
   ]
  },
  {
   "cell_type": "code",
   "execution_count": 20,
   "id": "94c33d52-dd55-4d1a-b307-ad574714a43f",
   "metadata": {
    "execution": {
     "iopub.execute_input": "2025-07-08T07:33:44.845146Z",
     "iopub.status.busy": "2025-07-08T07:33:44.844806Z",
     "iopub.status.idle": "2025-07-08T07:33:44.852388Z",
     "shell.execute_reply": "2025-07-08T07:33:44.851416Z",
     "shell.execute_reply.started": "2025-07-08T07:33:44.845126Z"
    }
   },
   "outputs": [
    {
     "data": {
      "text/plain": [
       "array([3, 5])"
      ]
     },
     "execution_count": 20,
     "metadata": {},
     "output_type": "execute_result"
    }
   ],
   "source": [
    "my_numpy_array1 + my_numpy_array2"
   ]
  },
  {
   "cell_type": "code",
   "execution_count": 21,
   "id": "7c5e43b3-caab-4a0d-8c48-f14fcddaa646",
   "metadata": {
    "execution": {
     "iopub.execute_input": "2025-07-08T07:35:37.226210Z",
     "iopub.status.busy": "2025-07-08T07:35:37.225881Z",
     "iopub.status.idle": "2025-07-08T07:35:37.233500Z",
     "shell.execute_reply": "2025-07-08T07:35:37.232448Z",
     "shell.execute_reply.started": "2025-07-08T07:35:37.226188Z"
    }
   },
   "outputs": [
    {
     "data": {
      "text/plain": [
       "array([ 5, 10])"
      ]
     },
     "execution_count": 21,
     "metadata": {},
     "output_type": "execute_result"
    }
   ],
   "source": [
    "my_numpy_array1 * 5"
   ]
  },
  {
   "cell_type": "code",
   "execution_count": 22,
   "id": "da5e687a-8792-401b-9edb-de467cc96071",
   "metadata": {
    "execution": {
     "iopub.execute_input": "2025-07-08T08:02:24.497078Z",
     "iopub.status.busy": "2025-07-08T08:02:24.496141Z",
     "iopub.status.idle": "2025-07-08T08:02:24.501378Z",
     "shell.execute_reply": "2025-07-08T08:02:24.500384Z",
     "shell.execute_reply.started": "2025-07-08T08:02:24.497049Z"
    }
   },
   "outputs": [],
   "source": [
    "num = [10,20,50,80]"
   ]
  },
  {
   "cell_type": "code",
   "execution_count": 23,
   "id": "deed5ceb-3eb3-42b3-ae85-ba54c89c74a9",
   "metadata": {
    "execution": {
     "iopub.execute_input": "2025-07-08T08:02:49.228409Z",
     "iopub.status.busy": "2025-07-08T08:02:49.228070Z",
     "iopub.status.idle": "2025-07-08T08:02:49.235373Z",
     "shell.execute_reply": "2025-07-08T08:02:49.234225Z",
     "shell.execute_reply.started": "2025-07-08T08:02:49.228387Z"
    }
   },
   "outputs": [
    {
     "data": {
      "text/plain": [
       "10"
      ]
     },
     "execution_count": 23,
     "metadata": {},
     "output_type": "execute_result"
    }
   ],
   "source": [
    "num[0]"
   ]
  },
  {
   "cell_type": "code",
   "execution_count": 24,
   "id": "c4fadbac-59f2-4dbf-946b-d9fa3134f8c6",
   "metadata": {
    "execution": {
     "iopub.execute_input": "2025-07-08T08:03:11.589445Z",
     "iopub.status.busy": "2025-07-08T08:03:11.588849Z",
     "iopub.status.idle": "2025-07-08T08:03:11.594554Z",
     "shell.execute_reply": "2025-07-08T08:03:11.593762Z",
     "shell.execute_reply.started": "2025-07-08T08:03:11.589416Z"
    }
   },
   "outputs": [
    {
     "data": {
      "text/plain": [
       "80"
      ]
     },
     "execution_count": 24,
     "metadata": {},
     "output_type": "execute_result"
    }
   ],
   "source": [
    "num[-1]"
   ]
  },
  {
   "cell_type": "code",
   "execution_count": 25,
   "id": "487efc7c-7746-40cf-98d0-9c76fa2e9a42",
   "metadata": {
    "execution": {
     "iopub.execute_input": "2025-07-08T08:03:22.136751Z",
     "iopub.status.busy": "2025-07-08T08:03:22.135766Z",
     "iopub.status.idle": "2025-07-08T08:03:22.144114Z",
     "shell.execute_reply": "2025-07-08T08:03:22.142269Z",
     "shell.execute_reply.started": "2025-07-08T08:03:22.136717Z"
    }
   },
   "outputs": [
    {
     "data": {
      "text/plain": [
       "50"
      ]
     },
     "execution_count": 25,
     "metadata": {},
     "output_type": "execute_result"
    }
   ],
   "source": [
    "num[-2]"
   ]
  },
  {
   "cell_type": "code",
   "execution_count": 26,
   "id": "07e0549d-edf3-4e8a-bd71-aa82f137b8f1",
   "metadata": {
    "execution": {
     "iopub.execute_input": "2025-07-08T08:03:56.322129Z",
     "iopub.status.busy": "2025-07-08T08:03:56.321784Z",
     "iopub.status.idle": "2025-07-08T08:03:56.330083Z",
     "shell.execute_reply": "2025-07-08T08:03:56.328933Z",
     "shell.execute_reply.started": "2025-07-08T08:03:56.322106Z"
    }
   },
   "outputs": [
    {
     "data": {
      "text/plain": [
       "[20, 50, 80]"
      ]
     },
     "execution_count": 26,
     "metadata": {},
     "output_type": "execute_result"
    }
   ],
   "source": [
    "num[1:]"
   ]
  },
  {
   "cell_type": "code",
   "execution_count": 29,
   "id": "0260f1be-75f1-4a88-9c86-a010f31cca16",
   "metadata": {
    "execution": {
     "iopub.execute_input": "2025-07-08T08:05:32.013588Z",
     "iopub.status.busy": "2025-07-08T08:05:32.012595Z",
     "iopub.status.idle": "2025-07-08T08:05:32.018608Z",
     "shell.execute_reply": "2025-07-08T08:05:32.017521Z",
     "shell.execute_reply.started": "2025-07-08T08:05:32.013554Z"
    }
   },
   "outputs": [
    {
     "data": {
      "text/plain": [
       "[20, 80]"
      ]
     },
     "execution_count": 29,
     "metadata": {},
     "output_type": "execute_result"
    }
   ],
   "source": [
    "num[1::2]"
   ]
  },
  {
   "cell_type": "code",
   "execution_count": 32,
   "id": "fab4e655-6dc7-440a-8e21-ae709e990608",
   "metadata": {
    "execution": {
     "iopub.execute_input": "2025-07-08T08:07:41.644277Z",
     "iopub.status.busy": "2025-07-08T08:07:41.643897Z",
     "iopub.status.idle": "2025-07-08T08:07:41.649063Z",
     "shell.execute_reply": "2025-07-08T08:07:41.648012Z",
     "shell.execute_reply.started": "2025-07-08T08:07:41.644253Z"
    }
   },
   "outputs": [],
   "source": [
    "num1 = (10,20,30,50,400)"
   ]
  },
  {
   "cell_type": "markdown",
   "id": "f5bcae67-ff25-4913-83aa-fab6366fe4b4",
   "metadata": {},
   "source": [
    "#Bu bir aggregation ornegiydi. "
   ]
  },
  {
   "cell_type": "code",
   "execution_count": 36,
   "id": "5cb2db06-f74f-4d6e-8797-1e2098504ce2",
   "metadata": {
    "execution": {
     "iopub.execute_input": "2025-07-08T08:10:39.302815Z",
     "iopub.status.busy": "2025-07-08T08:10:39.302026Z",
     "iopub.status.idle": "2025-07-08T08:10:39.307642Z",
     "shell.execute_reply": "2025-07-08T08:10:39.306756Z",
     "shell.execute_reply.started": "2025-07-08T08:10:39.302783Z"
    }
   },
   "outputs": [],
   "source": [
    "a = np.array([10,20,50,80])"
   ]
  },
  {
   "cell_type": "code",
   "execution_count": 37,
   "id": "93cf650d-6af6-487b-b0db-765e3a6651b8",
   "metadata": {
    "execution": {
     "iopub.execute_input": "2025-07-08T08:11:30.086953Z",
     "iopub.status.busy": "2025-07-08T08:11:30.086475Z",
     "iopub.status.idle": "2025-07-08T08:11:30.091849Z",
     "shell.execute_reply": "2025-07-08T08:11:30.090531Z",
     "shell.execute_reply.started": "2025-07-08T08:11:30.086931Z"
    }
   },
   "outputs": [],
   "source": [
    "total = np.sum(a)"
   ]
  },
  {
   "cell_type": "code",
   "execution_count": 39,
   "id": "73ff5c44-2d7f-4ff8-95aa-827cb76e4cc8",
   "metadata": {
    "execution": {
     "iopub.execute_input": "2025-07-08T08:11:58.720954Z",
     "iopub.status.busy": "2025-07-08T08:11:58.720159Z",
     "iopub.status.idle": "2025-07-08T08:11:58.725313Z",
     "shell.execute_reply": "2025-07-08T08:11:58.724495Z",
     "shell.execute_reply.started": "2025-07-08T08:11:58.720929Z"
    }
   },
   "outputs": [
    {
     "name": "stdout",
     "output_type": "stream",
     "text": [
      "160\n"
     ]
    }
   ],
   "source": [
    "print(total)"
   ]
  },
  {
   "cell_type": "code",
   "execution_count": 40,
   "id": "7eb01d7b-4b8a-42b4-8fa5-773d68c78a78",
   "metadata": {
    "execution": {
     "iopub.execute_input": "2025-07-08T08:13:35.490210Z",
     "iopub.status.busy": "2025-07-08T08:13:35.489087Z",
     "iopub.status.idle": "2025-07-08T08:13:35.493904Z",
     "shell.execute_reply": "2025-07-08T08:13:35.493097Z",
     "shell.execute_reply.started": "2025-07-08T08:13:35.490172Z"
    }
   },
   "outputs": [],
   "source": [
    "total = np.min(a)"
   ]
  },
  {
   "cell_type": "code",
   "execution_count": 41,
   "id": "0dcbf7c9-5e59-4d48-943a-392ea49fcce7",
   "metadata": {
    "execution": {
     "iopub.execute_input": "2025-07-08T08:13:48.611218Z",
     "iopub.status.busy": "2025-07-08T08:13:48.610680Z",
     "iopub.status.idle": "2025-07-08T08:13:48.616605Z",
     "shell.execute_reply": "2025-07-08T08:13:48.615462Z",
     "shell.execute_reply.started": "2025-07-08T08:13:48.611191Z"
    }
   },
   "outputs": [
    {
     "name": "stdout",
     "output_type": "stream",
     "text": [
      "10\n"
     ]
    }
   ],
   "source": [
    "print(total)"
   ]
  },
  {
   "cell_type": "code",
   "execution_count": 42,
   "id": "2089c41e-da09-46d7-b3bb-4ec56fa7961e",
   "metadata": {
    "execution": {
     "iopub.execute_input": "2025-07-08T08:14:39.101142Z",
     "iopub.status.busy": "2025-07-08T08:14:39.099992Z",
     "iopub.status.idle": "2025-07-08T08:14:39.106523Z",
     "shell.execute_reply": "2025-07-08T08:14:39.105522Z",
     "shell.execute_reply.started": "2025-07-08T08:14:39.101108Z"
    }
   },
   "outputs": [
    {
     "name": "stdout",
     "output_type": "stream",
     "text": [
      "80\n"
     ]
    }
   ],
   "source": [
    "total = np.max(a)\n",
    "print(total)"
   ]
  },
  {
   "cell_type": "code",
   "execution_count": null,
   "id": "7196254d-23c8-4539-ab57-f8fecf07adf9",
   "metadata": {},
   "outputs": [],
   "source": []
  },
  {
   "cell_type": "code",
   "execution_count": null,
   "id": "3f6d5fbd-26a5-4ad9-814f-23fae70b752e",
   "metadata": {},
   "outputs": [],
   "source": []
  },
  {
   "cell_type": "code",
   "execution_count": 44,
   "id": "354e4b51-4683-4b28-851b-6720d03e9918",
   "metadata": {
    "execution": {
     "iopub.execute_input": "2025-07-08T08:16:33.047368Z",
     "iopub.status.busy": "2025-07-08T08:16:33.045782Z",
     "iopub.status.idle": "2025-07-08T08:16:33.052948Z",
     "shell.execute_reply": "2025-07-08T08:16:33.051891Z",
     "shell.execute_reply.started": "2025-07-08T08:16:33.047322Z"
    }
   },
   "outputs": [
    {
     "name": "stdout",
     "output_type": "stream",
     "text": [
      "1500\n"
     ]
    }
   ],
   "source": [
    "emre = ([100,200,300,400,500])\n",
    "\n",
    "total = np.sum(emre)\n",
    "print(total)"
   ]
  },
  {
   "cell_type": "code",
   "execution_count": 45,
   "id": "1e2ab1cd-6d5e-4fdd-ba93-0c3eb407c8a0",
   "metadata": {
    "execution": {
     "iopub.execute_input": "2025-07-08T09:09:09.386536Z",
     "iopub.status.busy": "2025-07-08T09:09:09.381188Z",
     "iopub.status.idle": "2025-07-08T09:09:09.402623Z",
     "shell.execute_reply": "2025-07-08T09:09:09.401168Z",
     "shell.execute_reply.started": "2025-07-08T09:09:09.386402Z"
    }
   },
   "outputs": [],
   "source": [
    "#indexing & arange"
   ]
  },
  {
   "cell_type": "code",
   "execution_count": 46,
   "id": "7813a214-77e7-4591-9ae4-a74958cfc40c",
   "metadata": {
    "execution": {
     "iopub.execute_input": "2025-07-08T09:09:18.700744Z",
     "iopub.status.busy": "2025-07-08T09:09:18.700041Z",
     "iopub.status.idle": "2025-07-08T09:09:18.705381Z",
     "shell.execute_reply": "2025-07-08T09:09:18.704267Z",
     "shell.execute_reply.started": "2025-07-08T09:09:18.700718Z"
    }
   },
   "outputs": [],
   "source": [
    "#indexing & arange"
   ]
  },
  {
   "cell_type": "code",
   "execution_count": 47,
   "id": "c026d0a9-3ea3-4e6b-865a-cbc4f4689587",
   "metadata": {
    "execution": {
     "iopub.execute_input": "2025-07-08T09:09:44.407027Z",
     "iopub.status.busy": "2025-07-08T09:09:44.406669Z",
     "iopub.status.idle": "2025-07-08T09:09:44.423347Z",
     "shell.execute_reply": "2025-07-08T09:09:44.421591Z",
     "shell.execute_reply.started": "2025-07-08T09:09:44.406984Z"
    }
   },
   "outputs": [
    {
     "data": {
      "text/plain": [
       "[0, 1, 2, 3, 4, 5, 6, 7, 8, 9]"
      ]
     },
     "execution_count": 47,
     "metadata": {},
     "output_type": "execute_result"
    }
   ],
   "source": [
    "list(range(0,10))"
   ]
  },
  {
   "cell_type": "code",
   "execution_count": 48,
   "id": "60150f6e-3feb-481c-a2c5-7c4dbad489c5",
   "metadata": {
    "execution": {
     "iopub.execute_input": "2025-07-08T09:10:02.755873Z",
     "iopub.status.busy": "2025-07-08T09:10:02.755512Z",
     "iopub.status.idle": "2025-07-08T09:10:02.768465Z",
     "shell.execute_reply": "2025-07-08T09:10:02.767463Z",
     "shell.execute_reply.started": "2025-07-08T09:10:02.755851Z"
    }
   },
   "outputs": [
    {
     "data": {
      "text/plain": [
       "array([0, 1, 2, 3, 4, 5, 6, 7, 8, 9])"
      ]
     },
     "execution_count": 48,
     "metadata": {},
     "output_type": "execute_result"
    }
   ],
   "source": [
    "np.arange(0,10)"
   ]
  },
  {
   "cell_type": "code",
   "execution_count": 49,
   "id": "bdbc01f6-093b-4def-8383-99f058a0d32b",
   "metadata": {
    "execution": {
     "iopub.execute_input": "2025-07-08T09:10:39.346262Z",
     "iopub.status.busy": "2025-07-08T09:10:39.345913Z",
     "iopub.status.idle": "2025-07-08T09:10:39.354396Z",
     "shell.execute_reply": "2025-07-08T09:10:39.353363Z",
     "shell.execute_reply.started": "2025-07-08T09:10:39.346240Z"
    }
   },
   "outputs": [
    {
     "data": {
      "text/plain": [
       "array([0, 2, 4, 6, 8])"
      ]
     },
     "execution_count": 49,
     "metadata": {},
     "output_type": "execute_result"
    }
   ],
   "source": [
    "np.arange(0,10,2)"
   ]
  },
  {
   "cell_type": "code",
   "execution_count": 52,
   "id": "81978490-a36d-458c-ba1a-249bfc327ce5",
   "metadata": {
    "execution": {
     "iopub.execute_input": "2025-07-08T09:13:58.606358Z",
     "iopub.status.busy": "2025-07-08T09:13:58.606034Z",
     "iopub.status.idle": "2025-07-08T09:13:58.613554Z",
     "shell.execute_reply": "2025-07-08T09:13:58.612016Z",
     "shell.execute_reply.started": "2025-07-08T09:13:58.606336Z"
    }
   },
   "outputs": [
    {
     "data": {
      "text/plain": [
       "array([ 0,  2,  4,  6,  8, 10, 12, 14, 16, 18])"
      ]
     },
     "execution_count": 52,
     "metadata": {},
     "output_type": "execute_result"
    }
   ],
   "source": [
    "\n",
    "np.arange(0,20,2)"
   ]
  },
  {
   "cell_type": "code",
   "execution_count": 53,
   "id": "56cdd9a6-532e-40ac-9bef-520386e7d9f5",
   "metadata": {
    "execution": {
     "iopub.execute_input": "2025-07-08T09:14:12.726013Z",
     "iopub.status.busy": "2025-07-08T09:14:12.724826Z",
     "iopub.status.idle": "2025-07-08T09:14:12.730089Z",
     "shell.execute_reply": "2025-07-08T09:14:12.729116Z",
     "shell.execute_reply.started": "2025-07-08T09:14:12.725982Z"
    }
   },
   "outputs": [],
   "source": [
    "np_array = np.arange(0,10)"
   ]
  },
  {
   "cell_type": "code",
   "execution_count": 54,
   "id": "16a9cb10-d0e1-4c43-b653-e6ae3df90ee9",
   "metadata": {
    "execution": {
     "iopub.execute_input": "2025-07-08T09:14:34.738532Z",
     "iopub.status.busy": "2025-07-08T09:14:34.737445Z",
     "iopub.status.idle": "2025-07-08T09:14:34.744202Z",
     "shell.execute_reply": "2025-07-08T09:14:34.743123Z",
     "shell.execute_reply.started": "2025-07-08T09:14:34.738502Z"
    }
   },
   "outputs": [
    {
     "data": {
      "text/plain": [
       "0"
      ]
     },
     "execution_count": 54,
     "metadata": {},
     "output_type": "execute_result"
    }
   ],
   "source": [
    "np_array[0]"
   ]
  },
  {
   "cell_type": "code",
   "execution_count": 56,
   "id": "a8b97614-56c6-4099-bc13-055d2b3e8406",
   "metadata": {
    "execution": {
     "iopub.execute_input": "2025-07-08T09:14:59.441910Z",
     "iopub.status.busy": "2025-07-08T09:14:59.441605Z",
     "iopub.status.idle": "2025-07-08T09:14:59.448213Z",
     "shell.execute_reply": "2025-07-08T09:14:59.447023Z",
     "shell.execute_reply.started": "2025-07-08T09:14:59.441890Z"
    }
   },
   "outputs": [
    {
     "data": {
      "text/plain": [
       "array([0, 1, 2, 3, 4, 5, 6, 7, 8, 9])"
      ]
     },
     "execution_count": 56,
     "metadata": {},
     "output_type": "execute_result"
    }
   ],
   "source": [
    "np_array"
   ]
  },
  {
   "cell_type": "code",
   "execution_count": 57,
   "id": "ebab1ad0-3951-4f5e-8061-d39992aec11b",
   "metadata": {
    "execution": {
     "iopub.execute_input": "2025-07-08T09:15:58.342213Z",
     "iopub.status.busy": "2025-07-08T09:15:58.341862Z",
     "iopub.status.idle": "2025-07-08T09:15:58.351204Z",
     "shell.execute_reply": "2025-07-08T09:15:58.349989Z",
     "shell.execute_reply.started": "2025-07-08T09:15:58.342192Z"
    }
   },
   "outputs": [
    {
     "data": {
      "text/plain": [
       "array([2, 4])"
      ]
     },
     "execution_count": 57,
     "metadata": {},
     "output_type": "execute_result"
    }
   ],
   "source": [
    "np_array[2:6:2]"
   ]
  },
  {
   "cell_type": "code",
   "execution_count": 58,
   "id": "afc4afec-668f-407a-9447-eaa3ee166abd",
   "metadata": {
    "execution": {
     "iopub.execute_input": "2025-07-08T09:16:07.613302Z",
     "iopub.status.busy": "2025-07-08T09:16:07.612148Z",
     "iopub.status.idle": "2025-07-08T09:16:07.617669Z",
     "shell.execute_reply": "2025-07-08T09:16:07.616452Z",
     "shell.execute_reply.started": "2025-07-08T09:16:07.613272Z"
    }
   },
   "outputs": [],
   "source": [
    "# random\n"
   ]
  },
  {
   "cell_type": "code",
   "execution_count": 59,
   "id": "cc6b3ffe-5043-44c2-8b24-d4efdaef9b98",
   "metadata": {
    "execution": {
     "iopub.execute_input": "2025-07-08T09:16:33.125364Z",
     "iopub.status.busy": "2025-07-08T09:16:33.125010Z",
     "iopub.status.idle": "2025-07-08T09:16:33.135886Z",
     "shell.execute_reply": "2025-07-08T09:16:33.134722Z",
     "shell.execute_reply.started": "2025-07-08T09:16:33.125343Z"
    }
   },
   "outputs": [
    {
     "data": {
      "text/plain": [
       "array([-0.75637494,  2.3396014 , -1.17899338, -0.48903677])"
      ]
     },
     "execution_count": 59,
     "metadata": {},
     "output_type": "execute_result"
    }
   ],
   "source": [
    "np.random.randn(4)"
   ]
  },
  {
   "cell_type": "code",
   "execution_count": 60,
   "id": "16be2a62-44d6-414b-9e7d-a2b9f0e2ba63",
   "metadata": {
    "execution": {
     "iopub.execute_input": "2025-07-08T09:17:01.265147Z",
     "iopub.status.busy": "2025-07-08T09:17:01.264806Z",
     "iopub.status.idle": "2025-07-08T09:17:01.273381Z",
     "shell.execute_reply": "2025-07-08T09:17:01.272194Z",
     "shell.execute_reply.started": "2025-07-08T09:17:01.265125Z"
    }
   },
   "outputs": [
    {
     "data": {
      "text/plain": [
       "array([[-1.66026952,  0.88382744, -0.0027204 ,  0.50394594],\n",
       "       [-0.70742414, -0.16061817,  0.52099688, -0.69489232],\n",
       "       [-0.91884521, -0.3267114 , -1.18481347,  0.52489547],\n",
       "       [-0.23621959,  0.59225618,  0.30222313,  1.79326727]])"
      ]
     },
     "execution_count": 60,
     "metadata": {},
     "output_type": "execute_result"
    }
   ],
   "source": [
    "np.random.randn(4,4)"
   ]
  },
  {
   "cell_type": "code",
   "execution_count": 64,
   "id": "a88b3f1c-a399-4cc4-b6f2-e6557bbfa00f",
   "metadata": {
    "execution": {
     "iopub.execute_input": "2025-07-08T09:20:24.825235Z",
     "iopub.status.busy": "2025-07-08T09:20:24.824264Z",
     "iopub.status.idle": "2025-07-08T09:20:24.831787Z",
     "shell.execute_reply": "2025-07-08T09:20:24.830657Z",
     "shell.execute_reply.started": "2025-07-08T09:20:24.825208Z"
    }
   },
   "outputs": [
    {
     "data": {
      "text/plain": [
       "array([124,  80,  37, 176, 201])"
      ]
     },
     "execution_count": 64,
     "metadata": {},
     "output_type": "execute_result"
    }
   ],
   "source": [
    "np.random.randint(1,300,5) #bir ile 300 arasinda bana 5 tane sayi ver. int dedigi icin tam sayi vericek. "
   ]
  },
  {
   "cell_type": "code",
   "execution_count": null,
   "id": "8077cd86-c4cd-4c1e-b85f-9d404164e094",
   "metadata": {},
   "outputs": [],
   "source": []
  }
 ],
 "metadata": {
  "kernelspec": {
   "display_name": "Python 3 (ipykernel)",
   "language": "python",
   "name": "python3"
  },
  "language_info": {
   "codemirror_mode": {
    "name": "ipython",
    "version": 3
   },
   "file_extension": ".py",
   "mimetype": "text/x-python",
   "name": "python",
   "nbconvert_exporter": "python",
   "pygments_lexer": "ipython3",
   "version": "3.12.9"
  }
 },
 "nbformat": 4,
 "nbformat_minor": 5
}
