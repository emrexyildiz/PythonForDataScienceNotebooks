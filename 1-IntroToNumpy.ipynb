{
 "cells": [
  {
   "cell_type": "code",
   "execution_count": 1,
   "id": "570513fe-a24c-4b49-a77f-5b2865c442f5",
   "metadata": {
    "execution": {
     "iopub.execute_input": "2025-07-06T20:39:14.013209Z",
     "iopub.status.busy": "2025-07-06T20:39:14.012800Z",
     "iopub.status.idle": "2025-07-06T20:39:14.249436Z",
     "shell.execute_reply": "2025-07-06T20:39:14.248604Z",
     "shell.execute_reply.started": "2025-07-06T20:39:14.013183Z"
    }
   },
   "outputs": [],
   "source": [
    "import numpy as np\n"
   ]
  },
  {
   "cell_type": "code",
   "execution_count": 2,
   "id": "ac3bccdf-fc94-4dc4-a9c0-aed7db792e2a",
   "metadata": {
    "execution": {
     "iopub.execute_input": "2025-07-06T20:44:48.735351Z",
     "iopub.status.busy": "2025-07-06T20:44:48.734812Z",
     "iopub.status.idle": "2025-07-06T20:44:48.742098Z",
     "shell.execute_reply": "2025-07-06T20:44:48.741142Z",
     "shell.execute_reply.started": "2025-07-06T20:44:48.735319Z"
    }
   },
   "outputs": [],
   "source": [
    "my_list = [10,20,30,40]"
   ]
  },
  {
   "cell_type": "code",
   "execution_count": 3,
   "id": "acc28f4e-87be-40c1-8f6e-48635c2ade08",
   "metadata": {
    "execution": {
     "iopub.execute_input": "2025-07-06T20:45:05.030020Z",
     "iopub.status.busy": "2025-07-06T20:45:05.029441Z",
     "iopub.status.idle": "2025-07-06T20:45:05.038991Z",
     "shell.execute_reply": "2025-07-06T20:45:05.038122Z",
     "shell.execute_reply.started": "2025-07-06T20:45:05.029989Z"
    }
   },
   "outputs": [
    {
     "data": {
      "text/plain": [
       "list"
      ]
     },
     "execution_count": 3,
     "metadata": {},
     "output_type": "execute_result"
    }
   ],
   "source": [
    "type(my_list)"
   ]
  },
  {
   "cell_type": "code",
   "execution_count": 4,
   "id": "6c253838-a5d7-47b9-93cb-71524e3b0a07",
   "metadata": {
    "execution": {
     "iopub.execute_input": "2025-07-06T20:45:26.824749Z",
     "iopub.status.busy": "2025-07-06T20:45:26.823765Z",
     "iopub.status.idle": "2025-07-06T20:45:26.831524Z",
     "shell.execute_reply": "2025-07-06T20:45:26.830502Z",
     "shell.execute_reply.started": "2025-07-06T20:45:26.824714Z"
    }
   },
   "outputs": [
    {
     "data": {
      "text/plain": [
       "array([10, 20, 30, 40])"
      ]
     },
     "execution_count": 4,
     "metadata": {},
     "output_type": "execute_result"
    }
   ],
   "source": [
    "np.array(my_list)"
   ]
  },
  {
   "cell_type": "code",
   "execution_count": 5,
   "id": "7d72355b-7e92-4861-a2eb-8d683fe61385",
   "metadata": {
    "execution": {
     "iopub.execute_input": "2025-07-06T20:47:00.007902Z",
     "iopub.status.busy": "2025-07-06T20:47:00.006881Z",
     "iopub.status.idle": "2025-07-06T20:47:00.013801Z",
     "shell.execute_reply": "2025-07-06T20:47:00.012745Z",
     "shell.execute_reply.started": "2025-07-06T20:47:00.007852Z"
    }
   },
   "outputs": [],
   "source": [
    "my_numpy_array = np.array(my_list)"
   ]
  },
  {
   "cell_type": "code",
   "execution_count": 6,
   "id": "233e23a6-294b-4fc1-9c37-45c9be72e820",
   "metadata": {
    "execution": {
     "iopub.execute_input": "2025-07-06T20:47:15.318329Z",
     "iopub.status.busy": "2025-07-06T20:47:15.317782Z",
     "iopub.status.idle": "2025-07-06T20:47:15.324906Z",
     "shell.execute_reply": "2025-07-06T20:47:15.323780Z",
     "shell.execute_reply.started": "2025-07-06T20:47:15.318302Z"
    }
   },
   "outputs": [
    {
     "data": {
      "text/plain": [
       "array([10, 20, 30, 40])"
      ]
     },
     "execution_count": 6,
     "metadata": {},
     "output_type": "execute_result"
    }
   ],
   "source": [
    "my_numpy_array"
   ]
  },
  {
   "cell_type": "code",
   "execution_count": 7,
   "id": "0a5df96c-1402-40d8-b768-d5ed080e5f99",
   "metadata": {
    "execution": {
     "iopub.execute_input": "2025-07-06T20:47:35.618341Z",
     "iopub.status.busy": "2025-07-06T20:47:35.617486Z",
     "iopub.status.idle": "2025-07-06T20:47:35.625398Z",
     "shell.execute_reply": "2025-07-06T20:47:35.624439Z",
     "shell.execute_reply.started": "2025-07-06T20:47:35.618310Z"
    }
   },
   "outputs": [
    {
     "data": {
      "text/plain": [
       "numpy.ndarray"
      ]
     },
     "execution_count": 7,
     "metadata": {},
     "output_type": "execute_result"
    }
   ],
   "source": [
    "type(my_numpy_array)"
   ]
  },
  {
   "cell_type": "code",
   "execution_count": 8,
   "id": "0fbd6fe9-94ee-4d58-a199-c017d881f3fa",
   "metadata": {
    "execution": {
     "iopub.execute_input": "2025-07-06T20:51:07.829395Z",
     "iopub.status.busy": "2025-07-06T20:51:07.829043Z",
     "iopub.status.idle": "2025-07-06T20:51:07.837550Z",
     "shell.execute_reply": "2025-07-06T20:51:07.836269Z",
     "shell.execute_reply.started": "2025-07-06T20:51:07.829370Z"
    }
   },
   "outputs": [
    {
     "data": {
      "text/plain": [
       "array([0., 0., 0., 0., 0.])"
      ]
     },
     "execution_count": 8,
     "metadata": {},
     "output_type": "execute_result"
    }
   ],
   "source": [
    "np.zeros(5)"
   ]
  },
  {
   "cell_type": "code",
   "execution_count": 9,
   "id": "85a0eb0e-ceed-4c8c-ada4-827316cc2750",
   "metadata": {
    "execution": {
     "iopub.execute_input": "2025-07-06T20:51:21.996571Z",
     "iopub.status.busy": "2025-07-06T20:51:21.996225Z",
     "iopub.status.idle": "2025-07-06T20:51:22.006156Z",
     "shell.execute_reply": "2025-07-06T20:51:22.005033Z",
     "shell.execute_reply.started": "2025-07-06T20:51:21.996547Z"
    }
   },
   "outputs": [
    {
     "data": {
      "text/plain": [
       "array([1., 1., 1., 1., 1.])"
      ]
     },
     "execution_count": 9,
     "metadata": {},
     "output_type": "execute_result"
    }
   ],
   "source": [
    "np.ones(5)"
   ]
  },
  {
   "cell_type": "code",
   "execution_count": 17,
   "id": "83ec8979-a839-4786-bce2-47503de1dffc",
   "metadata": {
    "execution": {
     "iopub.execute_input": "2025-07-06T20:53:29.348776Z",
     "iopub.status.busy": "2025-07-06T20:53:29.347818Z",
     "iopub.status.idle": "2025-07-06T20:53:29.355557Z",
     "shell.execute_reply": "2025-07-06T20:53:29.354546Z",
     "shell.execute_reply.started": "2025-07-06T20:53:29.348744Z"
    }
   },
   "outputs": [
    {
     "data": {
      "text/plain": [
       "array([0.19420564, 0.25805377, 0.3076665 , 0.22112151, 0.52939887])"
      ]
     },
     "execution_count": 17,
     "metadata": {},
     "output_type": "execute_result"
    }
   ],
   "source": [
    "np.random.random(5)"
   ]
  },
  {
   "cell_type": "code",
   "execution_count": null,
   "id": "a7708a30-58ac-4717-821a-68ee4a70838d",
   "metadata": {},
   "outputs": [],
   "source": []
  }
 ],
 "metadata": {
  "kernelspec": {
   "display_name": "Python 3 (ipykernel)",
   "language": "python",
   "name": "python3"
  },
  "language_info": {
   "codemirror_mode": {
    "name": "ipython",
    "version": 3
   },
   "file_extension": ".py",
   "mimetype": "text/x-python",
   "name": "python",
   "nbconvert_exporter": "python",
   "pygments_lexer": "ipython3",
   "version": "3.12.9"
  }
 },
 "nbformat": 4,
 "nbformat_minor": 5
}
