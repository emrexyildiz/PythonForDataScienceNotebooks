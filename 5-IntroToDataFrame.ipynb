{
 "cells": [
  {
   "cell_type": "code",
   "execution_count": 1,
   "id": "e1799b1b-9962-4b24-9c8f-0fe83f10e44c",
   "metadata": {
    "execution": {
     "iopub.execute_input": "2025-07-13T21:24:24.943391Z",
     "iopub.status.busy": "2025-07-13T21:24:24.941870Z",
     "iopub.status.idle": "2025-07-13T21:24:25.799176Z",
     "shell.execute_reply": "2025-07-13T21:24:25.798254Z",
     "shell.execute_reply.started": "2025-07-13T21:24:24.943354Z"
    }
   },
   "outputs": [],
   "source": [
    "import pandas as pd\n",
    "import numpy as np "
   ]
  },
  {
   "cell_type": "code",
   "execution_count": 2,
   "id": "2b0d2512-4e76-4c0a-a728-58b3c5de084b",
   "metadata": {
    "execution": {
     "iopub.execute_input": "2025-07-13T21:40:55.057974Z",
     "iopub.status.busy": "2025-07-13T21:40:55.056784Z",
     "iopub.status.idle": "2025-07-13T21:40:55.063593Z",
     "shell.execute_reply": "2025-07-13T21:40:55.062876Z",
     "shell.execute_reply.started": "2025-07-13T21:40:55.057935Z"
    }
   },
   "outputs": [],
   "source": [
    "data = np.random.randn(4,3)"
   ]
  },
  {
   "cell_type": "code",
   "execution_count": 3,
   "id": "949a06e5-03b2-43f1-b872-454e813a8d1d",
   "metadata": {
    "execution": {
     "iopub.execute_input": "2025-07-13T21:40:58.185316Z",
     "iopub.status.busy": "2025-07-13T21:40:58.184237Z",
     "iopub.status.idle": "2025-07-13T21:40:58.199029Z",
     "shell.execute_reply": "2025-07-13T21:40:58.197559Z",
     "shell.execute_reply.started": "2025-07-13T21:40:58.185283Z"
    }
   },
   "outputs": [
    {
     "data": {
      "text/plain": [
       "array([[ 0.19905927,  0.28936177, -0.06972083],\n",
       "       [-1.9657274 ,  0.26663475,  1.71297515],\n",
       "       [-0.82210829, -0.79271395, -0.97821395],\n",
       "       [ 0.78630144, -0.29379876, -0.87919067]])"
      ]
     },
     "execution_count": 3,
     "metadata": {},
     "output_type": "execute_result"
    }
   ],
   "source": [
    "data"
   ]
  },
  {
   "cell_type": "code",
   "execution_count": 5,
   "id": "40b0da90-7ec6-45d2-b340-1a923daf2214",
   "metadata": {
    "execution": {
     "iopub.execute_input": "2025-07-14T06:51:20.994290Z",
     "iopub.status.busy": "2025-07-14T06:51:20.992928Z",
     "iopub.status.idle": "2025-07-14T06:51:21.003663Z",
     "shell.execute_reply": "2025-07-14T06:51:21.002477Z",
     "shell.execute_reply.started": "2025-07-14T06:51:20.994235Z"
    }
   },
   "outputs": [],
   "source": [
    "data_frame = pd.DataFrame(data)"
   ]
  },
  {
   "cell_type": "code",
   "execution_count": 6,
   "id": "5f7a09fc-085f-401f-9137-e0e605a0b85b",
   "metadata": {
    "execution": {
     "iopub.execute_input": "2025-07-14T06:51:27.019618Z",
     "iopub.status.busy": "2025-07-14T06:51:27.019262Z",
     "iopub.status.idle": "2025-07-14T06:51:27.034426Z",
     "shell.execute_reply": "2025-07-14T06:51:27.033403Z",
     "shell.execute_reply.started": "2025-07-14T06:51:27.019593Z"
    }
   },
   "outputs": [
    {
     "data": {
      "text/html": [
       "<div>\n",
       "<style scoped>\n",
       "    .dataframe tbody tr th:only-of-type {\n",
       "        vertical-align: middle;\n",
       "    }\n",
       "\n",
       "    .dataframe tbody tr th {\n",
       "        vertical-align: top;\n",
       "    }\n",
       "\n",
       "    .dataframe thead th {\n",
       "        text-align: right;\n",
       "    }\n",
       "</style>\n",
       "<table border=\"1\" class=\"dataframe\">\n",
       "  <thead>\n",
       "    <tr style=\"text-align: right;\">\n",
       "      <th></th>\n",
       "      <th>0</th>\n",
       "      <th>1</th>\n",
       "      <th>2</th>\n",
       "    </tr>\n",
       "  </thead>\n",
       "  <tbody>\n",
       "    <tr>\n",
       "      <th>0</th>\n",
       "      <td>0.199059</td>\n",
       "      <td>0.289362</td>\n",
       "      <td>-0.069721</td>\n",
       "    </tr>\n",
       "    <tr>\n",
       "      <th>1</th>\n",
       "      <td>-1.965727</td>\n",
       "      <td>0.266635</td>\n",
       "      <td>1.712975</td>\n",
       "    </tr>\n",
       "    <tr>\n",
       "      <th>2</th>\n",
       "      <td>-0.822108</td>\n",
       "      <td>-0.792714</td>\n",
       "      <td>-0.978214</td>\n",
       "    </tr>\n",
       "    <tr>\n",
       "      <th>3</th>\n",
       "      <td>0.786301</td>\n",
       "      <td>-0.293799</td>\n",
       "      <td>-0.879191</td>\n",
       "    </tr>\n",
       "  </tbody>\n",
       "</table>\n",
       "</div>"
      ],
      "text/plain": [
       "          0         1         2\n",
       "0  0.199059  0.289362 -0.069721\n",
       "1 -1.965727  0.266635  1.712975\n",
       "2 -0.822108 -0.792714 -0.978214\n",
       "3  0.786301 -0.293799 -0.879191"
      ]
     },
     "execution_count": 6,
     "metadata": {},
     "output_type": "execute_result"
    }
   ],
   "source": [
    "data_frame"
   ]
  },
  {
   "cell_type": "code",
   "execution_count": 7,
   "id": "4fe96b0e-da7b-4143-aa4d-0ed850ee9e81",
   "metadata": {
    "execution": {
     "iopub.execute_input": "2025-07-14T06:51:46.096143Z",
     "iopub.status.busy": "2025-07-14T06:51:46.095821Z",
     "iopub.status.idle": "2025-07-14T06:51:46.104739Z",
     "shell.execute_reply": "2025-07-14T06:51:46.103223Z",
     "shell.execute_reply.started": "2025-07-14T06:51:46.096121Z"
    }
   },
   "outputs": [
    {
     "data": {
      "text/plain": [
       "pandas.core.frame.DataFrame"
      ]
     },
     "execution_count": 7,
     "metadata": {},
     "output_type": "execute_result"
    }
   ],
   "source": [
    "type(data_frame)"
   ]
  },
  {
   "cell_type": "code",
   "execution_count": 8,
   "id": "42c3ff2b-883f-44b7-8bb9-bf2c43c6ca8b",
   "metadata": {
    "execution": {
     "iopub.execute_input": "2025-07-14T06:52:06.253506Z",
     "iopub.status.busy": "2025-07-14T06:52:06.253191Z",
     "iopub.status.idle": "2025-07-14T06:52:06.263774Z",
     "shell.execute_reply": "2025-07-14T06:52:06.262545Z",
     "shell.execute_reply.started": "2025-07-14T06:52:06.253485Z"
    }
   },
   "outputs": [
    {
     "data": {
      "text/plain": [
       "0    0.199059\n",
       "1   -1.965727\n",
       "2   -0.822108\n",
       "3    0.786301\n",
       "Name: 0, dtype: float64"
      ]
     },
     "execution_count": 8,
     "metadata": {},
     "output_type": "execute_result"
    }
   ],
   "source": [
    "(data_frame[0])"
   ]
  },
  {
   "cell_type": "code",
   "execution_count": 9,
   "id": "325127d0-cc12-402e-9d1a-7c7d80739622",
   "metadata": {
    "execution": {
     "iopub.execute_input": "2025-07-14T06:55:22.231988Z",
     "iopub.status.busy": "2025-07-14T06:55:22.230661Z",
     "iopub.status.idle": "2025-07-14T06:55:22.239902Z",
     "shell.execute_reply": "2025-07-14T06:55:22.238700Z",
     "shell.execute_reply.started": "2025-07-14T06:55:22.231958Z"
    }
   },
   "outputs": [],
   "source": [
    "new_df =pd.DataFrame(data, index = [\"Emre\", \"Zeynep\", \"Atlas\", \"Mehmet\"], columns=[\"Salary\", \"Age\", \"Seniorty\"])"
   ]
  },
  {
   "cell_type": "code",
   "execution_count": 13,
   "id": "516c2c78-0387-4c44-9c4a-e3ba9b10786d",
   "metadata": {
    "execution": {
     "iopub.execute_input": "2025-07-14T06:56:38.710077Z",
     "iopub.status.busy": "2025-07-14T06:56:38.708932Z",
     "iopub.status.idle": "2025-07-14T06:56:38.717557Z",
     "shell.execute_reply": "2025-07-14T06:56:38.716302Z",
     "shell.execute_reply.started": "2025-07-14T06:56:38.710048Z"
    }
   },
   "outputs": [
    {
     "data": {
      "text/plain": [
       "Emre      0.289362\n",
       "Zeynep    0.266635\n",
       "Atlas    -0.792714\n",
       "Mehmet   -0.293799\n",
       "Name: Age, dtype: float64"
      ]
     },
     "execution_count": 13,
     "metadata": {},
     "output_type": "execute_result"
    }
   ],
   "source": [
    "new_df[\"Age\"]"
   ]
  },
  {
   "cell_type": "code",
   "execution_count": 15,
   "id": "cdcc8e98-0945-4769-b640-d1beae4deded",
   "metadata": {
    "execution": {
     "iopub.execute_input": "2025-07-14T06:57:45.094985Z",
     "iopub.status.busy": "2025-07-14T06:57:45.094652Z",
     "iopub.status.idle": "2025-07-14T06:57:45.112857Z",
     "shell.execute_reply": "2025-07-14T06:57:45.111429Z",
     "shell.execute_reply.started": "2025-07-14T06:57:45.094961Z"
    }
   },
   "outputs": [
    {
     "data": {
      "text/html": [
       "<div>\n",
       "<style scoped>\n",
       "    .dataframe tbody tr th:only-of-type {\n",
       "        vertical-align: middle;\n",
       "    }\n",
       "\n",
       "    .dataframe tbody tr th {\n",
       "        vertical-align: top;\n",
       "    }\n",
       "\n",
       "    .dataframe thead th {\n",
       "        text-align: right;\n",
       "    }\n",
       "</style>\n",
       "<table border=\"1\" class=\"dataframe\">\n",
       "  <thead>\n",
       "    <tr style=\"text-align: right;\">\n",
       "      <th></th>\n",
       "      <th>Age</th>\n",
       "      <th>Salary</th>\n",
       "    </tr>\n",
       "  </thead>\n",
       "  <tbody>\n",
       "    <tr>\n",
       "      <th>Emre</th>\n",
       "      <td>0.289362</td>\n",
       "      <td>0.199059</td>\n",
       "    </tr>\n",
       "    <tr>\n",
       "      <th>Zeynep</th>\n",
       "      <td>0.266635</td>\n",
       "      <td>-1.965727</td>\n",
       "    </tr>\n",
       "    <tr>\n",
       "      <th>Atlas</th>\n",
       "      <td>-0.792714</td>\n",
       "      <td>-0.822108</td>\n",
       "    </tr>\n",
       "    <tr>\n",
       "      <th>Mehmet</th>\n",
       "      <td>-0.293799</td>\n",
       "      <td>0.786301</td>\n",
       "    </tr>\n",
       "  </tbody>\n",
       "</table>\n",
       "</div>"
      ],
      "text/plain": [
       "             Age    Salary\n",
       "Emre    0.289362  0.199059\n",
       "Zeynep  0.266635 -1.965727\n",
       "Atlas  -0.792714 -0.822108\n",
       "Mehmet -0.293799  0.786301"
      ]
     },
     "execution_count": 15,
     "metadata": {},
     "output_type": "execute_result"
    }
   ],
   "source": [
    "new_df[[\"Age\", \"Salary\"]]"
   ]
  },
  {
   "cell_type": "code",
   "execution_count": 16,
   "id": "361416bf-3fee-44c7-8b15-f48cdb014f84",
   "metadata": {
    "execution": {
     "iopub.execute_input": "2025-07-14T06:58:44.652976Z",
     "iopub.status.busy": "2025-07-14T06:58:44.652627Z",
     "iopub.status.idle": "2025-07-14T06:58:44.661504Z",
     "shell.execute_reply": "2025-07-14T06:58:44.660096Z",
     "shell.execute_reply.started": "2025-07-14T06:58:44.652952Z"
    }
   },
   "outputs": [
    {
     "data": {
      "text/plain": [
       "Salary      0.199059\n",
       "Age         0.289362\n",
       "Seniorty   -0.069721\n",
       "Name: Emre, dtype: float64"
      ]
     },
     "execution_count": 16,
     "metadata": {},
     "output_type": "execute_result"
    }
   ],
   "source": [
    "new_df.loc[\"Emre\"]"
   ]
  },
  {
   "cell_type": "code",
   "execution_count": 18,
   "id": "854d91ca-53d3-46bb-ab60-7c604473a771",
   "metadata": {
    "execution": {
     "iopub.execute_input": "2025-07-14T07:00:15.121923Z",
     "iopub.status.busy": "2025-07-14T07:00:15.121564Z",
     "iopub.status.idle": "2025-07-14T07:00:15.130122Z",
     "shell.execute_reply": "2025-07-14T07:00:15.128953Z",
     "shell.execute_reply.started": "2025-07-14T07:00:15.121901Z"
    }
   },
   "outputs": [
    {
     "data": {
      "text/plain": [
       "Salary     -1.965727\n",
       "Age         0.266635\n",
       "Seniorty    1.712975\n",
       "Name: Zeynep, dtype: float64"
      ]
     },
     "execution_count": 18,
     "metadata": {},
     "output_type": "execute_result"
    }
   ],
   "source": [
    "new_df.iloc[1]"
   ]
  },
  {
   "cell_type": "code",
   "execution_count": 23,
   "id": "026cb752-ae3a-4ce7-9a0d-fd0e70e32daa",
   "metadata": {
    "execution": {
     "iopub.execute_input": "2025-07-14T07:03:09.546173Z",
     "iopub.status.busy": "2025-07-14T07:03:09.545831Z",
     "iopub.status.idle": "2025-07-14T07:03:09.553225Z",
     "shell.execute_reply": "2025-07-14T07:03:09.552438Z",
     "shell.execute_reply.started": "2025-07-14T07:03:09.546149Z"
    }
   },
   "outputs": [
    {
     "data": {
      "text/plain": [
       "Emre      0.289362\n",
       "Zeynep    0.266635\n",
       "Atlas    -0.792714\n",
       "Mehmet   -0.293799\n",
       "Name: Age, dtype: float64"
      ]
     },
     "execution_count": 23,
     "metadata": {},
     "output_type": "execute_result"
    }
   ],
   "source": [
    "new_df.iloc[:,1]   # burada tum rowlari sec ve hepsinin 1. column getir dedik. Yani tum isimlerin yaslarini getirdik. "
   ]
  },
  {
   "cell_type": "code",
   "execution_count": 20,
   "id": "14e5aff3-ba64-4580-a3d6-69d4e38e9486",
   "metadata": {
    "execution": {
     "iopub.execute_input": "2025-07-14T07:02:13.412548Z",
     "iopub.status.busy": "2025-07-14T07:02:13.412223Z",
     "iopub.status.idle": "2025-07-14T07:02:13.421801Z",
     "shell.execute_reply": "2025-07-14T07:02:13.419937Z",
     "shell.execute_reply.started": "2025-07-14T07:02:13.412526Z"
    }
   },
   "outputs": [
    {
     "data": {
      "text/plain": [
       "Emre     -0.069721\n",
       "Zeynep    1.712975\n",
       "Atlas    -0.978214\n",
       "Mehmet   -0.879191\n",
       "Name: Seniorty, dtype: float64"
      ]
     },
     "execution_count": 20,
     "metadata": {},
     "output_type": "execute_result"
    }
   ],
   "source": [
    "new_df.iloc[:,2]"
   ]
  },
  {
   "cell_type": "code",
   "execution_count": 24,
   "id": "a087febe-f55b-4164-897f-17bb89b3e2e9",
   "metadata": {
    "execution": {
     "iopub.execute_input": "2025-07-14T07:18:06.245878Z",
     "iopub.status.busy": "2025-07-14T07:18:06.245466Z",
     "iopub.status.idle": "2025-07-14T07:18:06.253800Z",
     "shell.execute_reply": "2025-07-14T07:18:06.252745Z",
     "shell.execute_reply.started": "2025-07-14T07:18:06.245851Z"
    }
   },
   "outputs": [],
   "source": [
    "new_df[\"Extra\"] = 10                                       ### yeni bir column ekledik burada"
   ]
  },
  {
   "cell_type": "code",
   "execution_count": 25,
   "id": "6c98c690-da87-479d-9606-89920bd56b9c",
   "metadata": {
    "execution": {
     "iopub.execute_input": "2025-07-14T07:18:09.957330Z",
     "iopub.status.busy": "2025-07-14T07:18:09.956567Z",
     "iopub.status.idle": "2025-07-14T07:18:09.969065Z",
     "shell.execute_reply": "2025-07-14T07:18:09.967890Z",
     "shell.execute_reply.started": "2025-07-14T07:18:09.957264Z"
    }
   },
   "outputs": [
    {
     "data": {
      "text/html": [
       "<div>\n",
       "<style scoped>\n",
       "    .dataframe tbody tr th:only-of-type {\n",
       "        vertical-align: middle;\n",
       "    }\n",
       "\n",
       "    .dataframe tbody tr th {\n",
       "        vertical-align: top;\n",
       "    }\n",
       "\n",
       "    .dataframe thead th {\n",
       "        text-align: right;\n",
       "    }\n",
       "</style>\n",
       "<table border=\"1\" class=\"dataframe\">\n",
       "  <thead>\n",
       "    <tr style=\"text-align: right;\">\n",
       "      <th></th>\n",
       "      <th>Salary</th>\n",
       "      <th>Age</th>\n",
       "      <th>Seniorty</th>\n",
       "      <th>Extra</th>\n",
       "    </tr>\n",
       "  </thead>\n",
       "  <tbody>\n",
       "    <tr>\n",
       "      <th>Emre</th>\n",
       "      <td>0.199059</td>\n",
       "      <td>0.289362</td>\n",
       "      <td>-0.069721</td>\n",
       "      <td>10</td>\n",
       "    </tr>\n",
       "    <tr>\n",
       "      <th>Zeynep</th>\n",
       "      <td>-1.965727</td>\n",
       "      <td>0.266635</td>\n",
       "      <td>1.712975</td>\n",
       "      <td>10</td>\n",
       "    </tr>\n",
       "    <tr>\n",
       "      <th>Atlas</th>\n",
       "      <td>-0.822108</td>\n",
       "      <td>-0.792714</td>\n",
       "      <td>-0.978214</td>\n",
       "      <td>10</td>\n",
       "    </tr>\n",
       "    <tr>\n",
       "      <th>Mehmet</th>\n",
       "      <td>0.786301</td>\n",
       "      <td>-0.293799</td>\n",
       "      <td>-0.879191</td>\n",
       "      <td>10</td>\n",
       "    </tr>\n",
       "  </tbody>\n",
       "</table>\n",
       "</div>"
      ],
      "text/plain": [
       "          Salary       Age  Seniorty  Extra\n",
       "Emre    0.199059  0.289362 -0.069721     10\n",
       "Zeynep -1.965727  0.266635  1.712975     10\n",
       "Atlas  -0.822108 -0.792714 -0.978214     10\n",
       "Mehmet  0.786301 -0.293799 -0.879191     10"
      ]
     },
     "execution_count": 25,
     "metadata": {},
     "output_type": "execute_result"
    }
   ],
   "source": [
    "new_df"
   ]
  },
  {
   "cell_type": "code",
   "execution_count": 26,
   "id": "bd8c3868-40df-4b60-a532-c41764447c9a",
   "metadata": {
    "execution": {
     "iopub.execute_input": "2025-07-14T07:19:39.387569Z",
     "iopub.status.busy": "2025-07-14T07:19:39.387232Z",
     "iopub.status.idle": "2025-07-14T07:19:39.400373Z",
     "shell.execute_reply": "2025-07-14T07:19:39.399275Z",
     "shell.execute_reply.started": "2025-07-14T07:19:39.387546Z"
    }
   },
   "outputs": [
    {
     "data": {
      "text/html": [
       "<div>\n",
       "<style scoped>\n",
       "    .dataframe tbody tr th:only-of-type {\n",
       "        vertical-align: middle;\n",
       "    }\n",
       "\n",
       "    .dataframe tbody tr th {\n",
       "        vertical-align: top;\n",
       "    }\n",
       "\n",
       "    .dataframe thead th {\n",
       "        text-align: right;\n",
       "    }\n",
       "</style>\n",
       "<table border=\"1\" class=\"dataframe\">\n",
       "  <thead>\n",
       "    <tr style=\"text-align: right;\">\n",
       "      <th></th>\n",
       "      <th>Salary</th>\n",
       "      <th>Age</th>\n",
       "      <th>Seniorty</th>\n",
       "    </tr>\n",
       "  </thead>\n",
       "  <tbody>\n",
       "    <tr>\n",
       "      <th>Emre</th>\n",
       "      <td>0.199059</td>\n",
       "      <td>0.289362</td>\n",
       "      <td>-0.069721</td>\n",
       "    </tr>\n",
       "    <tr>\n",
       "      <th>Zeynep</th>\n",
       "      <td>-1.965727</td>\n",
       "      <td>0.266635</td>\n",
       "      <td>1.712975</td>\n",
       "    </tr>\n",
       "    <tr>\n",
       "      <th>Atlas</th>\n",
       "      <td>-0.822108</td>\n",
       "      <td>-0.792714</td>\n",
       "      <td>-0.978214</td>\n",
       "    </tr>\n",
       "    <tr>\n",
       "      <th>Mehmet</th>\n",
       "      <td>0.786301</td>\n",
       "      <td>-0.293799</td>\n",
       "      <td>-0.879191</td>\n",
       "    </tr>\n",
       "  </tbody>\n",
       "</table>\n",
       "</div>"
      ],
      "text/plain": [
       "          Salary       Age  Seniorty\n",
       "Emre    0.199059  0.289362 -0.069721\n",
       "Zeynep -1.965727  0.266635  1.712975\n",
       "Atlas  -0.822108 -0.792714 -0.978214\n",
       "Mehmet  0.786301 -0.293799 -0.879191"
      ]
     },
     "execution_count": 26,
     "metadata": {},
     "output_type": "execute_result"
    }
   ],
   "source": [
    "new_df.drop(\"Extra\", axis = 1)"
   ]
  },
  {
   "cell_type": "code",
   "execution_count": 27,
   "id": "5f611baa-9fc5-4320-b5b6-c18b2da9cbaa",
   "metadata": {
    "execution": {
     "iopub.execute_input": "2025-07-14T07:20:14.823396Z",
     "iopub.status.busy": "2025-07-14T07:20:14.822421Z",
     "iopub.status.idle": "2025-07-14T07:20:14.832559Z",
     "shell.execute_reply": "2025-07-14T07:20:14.831621Z",
     "shell.execute_reply.started": "2025-07-14T07:20:14.823361Z"
    }
   },
   "outputs": [
    {
     "data": {
      "text/html": [
       "<div>\n",
       "<style scoped>\n",
       "    .dataframe tbody tr th:only-of-type {\n",
       "        vertical-align: middle;\n",
       "    }\n",
       "\n",
       "    .dataframe tbody tr th {\n",
       "        vertical-align: top;\n",
       "    }\n",
       "\n",
       "    .dataframe thead th {\n",
       "        text-align: right;\n",
       "    }\n",
       "</style>\n",
       "<table border=\"1\" class=\"dataframe\">\n",
       "  <thead>\n",
       "    <tr style=\"text-align: right;\">\n",
       "      <th></th>\n",
       "      <th>Salary</th>\n",
       "      <th>Age</th>\n",
       "      <th>Seniorty</th>\n",
       "      <th>Extra</th>\n",
       "    </tr>\n",
       "  </thead>\n",
       "  <tbody>\n",
       "    <tr>\n",
       "      <th>Emre</th>\n",
       "      <td>0.199059</td>\n",
       "      <td>0.289362</td>\n",
       "      <td>-0.069721</td>\n",
       "      <td>10</td>\n",
       "    </tr>\n",
       "    <tr>\n",
       "      <th>Zeynep</th>\n",
       "      <td>-1.965727</td>\n",
       "      <td>0.266635</td>\n",
       "      <td>1.712975</td>\n",
       "      <td>10</td>\n",
       "    </tr>\n",
       "    <tr>\n",
       "      <th>Atlas</th>\n",
       "      <td>-0.822108</td>\n",
       "      <td>-0.792714</td>\n",
       "      <td>-0.978214</td>\n",
       "      <td>10</td>\n",
       "    </tr>\n",
       "    <tr>\n",
       "      <th>Mehmet</th>\n",
       "      <td>0.786301</td>\n",
       "      <td>-0.293799</td>\n",
       "      <td>-0.879191</td>\n",
       "      <td>10</td>\n",
       "    </tr>\n",
       "  </tbody>\n",
       "</table>\n",
       "</div>"
      ],
      "text/plain": [
       "          Salary       Age  Seniorty  Extra\n",
       "Emre    0.199059  0.289362 -0.069721     10\n",
       "Zeynep -1.965727  0.266635  1.712975     10\n",
       "Atlas  -0.822108 -0.792714 -0.978214     10\n",
       "Mehmet  0.786301 -0.293799 -0.879191     10"
      ]
     },
     "execution_count": 27,
     "metadata": {},
     "output_type": "execute_result"
    }
   ],
   "source": [
    "new_df"
   ]
  },
  {
   "cell_type": "code",
   "execution_count": 28,
   "id": "e710f013-321d-417e-8d1a-9d6f41859dde",
   "metadata": {
    "execution": {
     "iopub.execute_input": "2025-07-14T07:21:43.828581Z",
     "iopub.status.busy": "2025-07-14T07:21:43.828044Z",
     "iopub.status.idle": "2025-07-14T07:21:43.834737Z",
     "shell.execute_reply": "2025-07-14T07:21:43.833534Z",
     "shell.execute_reply.started": "2025-07-14T07:21:43.828556Z"
    }
   },
   "outputs": [],
   "source": [
    "new_df.drop(\"Extra\", axis = 1, inplace=True)  ### inplace = True demezsen kalici bir silme gerceklesmicek. \n",
    "                                              ### Axis bize row daki mi yoksa column daki mi seyi silmemizi belirtir."
   ]
  },
  {
   "cell_type": "code",
   "execution_count": 29,
   "id": "41b73081-e392-406e-8504-ed528d2d8bda",
   "metadata": {
    "execution": {
     "iopub.execute_input": "2025-07-14T07:21:47.564439Z",
     "iopub.status.busy": "2025-07-14T07:21:47.564013Z",
     "iopub.status.idle": "2025-07-14T07:21:47.573635Z",
     "shell.execute_reply": "2025-07-14T07:21:47.572794Z",
     "shell.execute_reply.started": "2025-07-14T07:21:47.564414Z"
    }
   },
   "outputs": [
    {
     "data": {
      "text/html": [
       "<div>\n",
       "<style scoped>\n",
       "    .dataframe tbody tr th:only-of-type {\n",
       "        vertical-align: middle;\n",
       "    }\n",
       "\n",
       "    .dataframe tbody tr th {\n",
       "        vertical-align: top;\n",
       "    }\n",
       "\n",
       "    .dataframe thead th {\n",
       "        text-align: right;\n",
       "    }\n",
       "</style>\n",
       "<table border=\"1\" class=\"dataframe\">\n",
       "  <thead>\n",
       "    <tr style=\"text-align: right;\">\n",
       "      <th></th>\n",
       "      <th>Salary</th>\n",
       "      <th>Age</th>\n",
       "      <th>Seniorty</th>\n",
       "    </tr>\n",
       "  </thead>\n",
       "  <tbody>\n",
       "    <tr>\n",
       "      <th>Emre</th>\n",
       "      <td>0.199059</td>\n",
       "      <td>0.289362</td>\n",
       "      <td>-0.069721</td>\n",
       "    </tr>\n",
       "    <tr>\n",
       "      <th>Zeynep</th>\n",
       "      <td>-1.965727</td>\n",
       "      <td>0.266635</td>\n",
       "      <td>1.712975</td>\n",
       "    </tr>\n",
       "    <tr>\n",
       "      <th>Atlas</th>\n",
       "      <td>-0.822108</td>\n",
       "      <td>-0.792714</td>\n",
       "      <td>-0.978214</td>\n",
       "    </tr>\n",
       "    <tr>\n",
       "      <th>Mehmet</th>\n",
       "      <td>0.786301</td>\n",
       "      <td>-0.293799</td>\n",
       "      <td>-0.879191</td>\n",
       "    </tr>\n",
       "  </tbody>\n",
       "</table>\n",
       "</div>"
      ],
      "text/plain": [
       "          Salary       Age  Seniorty\n",
       "Emre    0.199059  0.289362 -0.069721\n",
       "Zeynep -1.965727  0.266635  1.712975\n",
       "Atlas  -0.822108 -0.792714 -0.978214\n",
       "Mehmet  0.786301 -0.293799 -0.879191"
      ]
     },
     "execution_count": 29,
     "metadata": {},
     "output_type": "execute_result"
    }
   ],
   "source": [
    "new_df"
   ]
  },
  {
   "cell_type": "code",
   "execution_count": 30,
   "id": "b58b832e-f56d-44e1-a387-e7f3a332e30d",
   "metadata": {
    "execution": {
     "iopub.execute_input": "2025-07-14T07:22:36.187801Z",
     "iopub.status.busy": "2025-07-14T07:22:36.187405Z",
     "iopub.status.idle": "2025-07-14T07:22:36.199403Z",
     "shell.execute_reply": "2025-07-14T07:22:36.198520Z",
     "shell.execute_reply.started": "2025-07-14T07:22:36.187777Z"
    }
   },
   "outputs": [
    {
     "data": {
      "text/html": [
       "<div>\n",
       "<style scoped>\n",
       "    .dataframe tbody tr th:only-of-type {\n",
       "        vertical-align: middle;\n",
       "    }\n",
       "\n",
       "    .dataframe tbody tr th {\n",
       "        vertical-align: top;\n",
       "    }\n",
       "\n",
       "    .dataframe thead th {\n",
       "        text-align: right;\n",
       "    }\n",
       "</style>\n",
       "<table border=\"1\" class=\"dataframe\">\n",
       "  <thead>\n",
       "    <tr style=\"text-align: right;\">\n",
       "      <th></th>\n",
       "      <th>Salary</th>\n",
       "      <th>Age</th>\n",
       "      <th>Seniorty</th>\n",
       "    </tr>\n",
       "  </thead>\n",
       "  <tbody>\n",
       "    <tr>\n",
       "      <th>Emre</th>\n",
       "      <td>0.199059</td>\n",
       "      <td>0.289362</td>\n",
       "      <td>-0.069721</td>\n",
       "    </tr>\n",
       "    <tr>\n",
       "      <th>Zeynep</th>\n",
       "      <td>-1.965727</td>\n",
       "      <td>0.266635</td>\n",
       "      <td>1.712975</td>\n",
       "    </tr>\n",
       "    <tr>\n",
       "      <th>Atlas</th>\n",
       "      <td>-0.822108</td>\n",
       "      <td>-0.792714</td>\n",
       "      <td>-0.978214</td>\n",
       "    </tr>\n",
       "  </tbody>\n",
       "</table>\n",
       "</div>"
      ],
      "text/plain": [
       "          Salary       Age  Seniorty\n",
       "Emre    0.199059  0.289362 -0.069721\n",
       "Zeynep -1.965727  0.266635  1.712975\n",
       "Atlas  -0.822108 -0.792714 -0.978214"
      ]
     },
     "execution_count": 30,
     "metadata": {},
     "output_type": "execute_result"
    }
   ],
   "source": [
    "new_df.drop(\"Mehmet\", axis=0)"
   ]
  },
  {
   "cell_type": "code",
   "execution_count": 31,
   "id": "7075e110-9718-4d91-8555-6aa8050ce96d",
   "metadata": {
    "execution": {
     "iopub.execute_input": "2025-07-14T07:22:43.161649Z",
     "iopub.status.busy": "2025-07-14T07:22:43.161304Z",
     "iopub.status.idle": "2025-07-14T07:22:43.172490Z",
     "shell.execute_reply": "2025-07-14T07:22:43.170725Z",
     "shell.execute_reply.started": "2025-07-14T07:22:43.161625Z"
    }
   },
   "outputs": [
    {
     "data": {
      "text/html": [
       "<div>\n",
       "<style scoped>\n",
       "    .dataframe tbody tr th:only-of-type {\n",
       "        vertical-align: middle;\n",
       "    }\n",
       "\n",
       "    .dataframe tbody tr th {\n",
       "        vertical-align: top;\n",
       "    }\n",
       "\n",
       "    .dataframe thead th {\n",
       "        text-align: right;\n",
       "    }\n",
       "</style>\n",
       "<table border=\"1\" class=\"dataframe\">\n",
       "  <thead>\n",
       "    <tr style=\"text-align: right;\">\n",
       "      <th></th>\n",
       "      <th>Salary</th>\n",
       "      <th>Age</th>\n",
       "      <th>Seniorty</th>\n",
       "    </tr>\n",
       "  </thead>\n",
       "  <tbody>\n",
       "    <tr>\n",
       "      <th>Emre</th>\n",
       "      <td>0.199059</td>\n",
       "      <td>0.289362</td>\n",
       "      <td>-0.069721</td>\n",
       "    </tr>\n",
       "    <tr>\n",
       "      <th>Zeynep</th>\n",
       "      <td>-1.965727</td>\n",
       "      <td>0.266635</td>\n",
       "      <td>1.712975</td>\n",
       "    </tr>\n",
       "    <tr>\n",
       "      <th>Atlas</th>\n",
       "      <td>-0.822108</td>\n",
       "      <td>-0.792714</td>\n",
       "      <td>-0.978214</td>\n",
       "    </tr>\n",
       "    <tr>\n",
       "      <th>Mehmet</th>\n",
       "      <td>0.786301</td>\n",
       "      <td>-0.293799</td>\n",
       "      <td>-0.879191</td>\n",
       "    </tr>\n",
       "  </tbody>\n",
       "</table>\n",
       "</div>"
      ],
      "text/plain": [
       "          Salary       Age  Seniorty\n",
       "Emre    0.199059  0.289362 -0.069721\n",
       "Zeynep -1.965727  0.266635  1.712975\n",
       "Atlas  -0.822108 -0.792714 -0.978214\n",
       "Mehmet  0.786301 -0.293799 -0.879191"
      ]
     },
     "execution_count": 31,
     "metadata": {},
     "output_type": "execute_result"
    }
   ],
   "source": [
    "new_df"
   ]
  },
  {
   "cell_type": "code",
   "execution_count": 32,
   "id": "78ab9b64-ced0-4ed3-b460-8f704362a993",
   "metadata": {
    "execution": {
     "iopub.execute_input": "2025-07-14T07:27:12.091294Z",
     "iopub.status.busy": "2025-07-14T07:27:12.090581Z",
     "iopub.status.idle": "2025-07-14T07:27:12.099885Z",
     "shell.execute_reply": "2025-07-14T07:27:12.098669Z",
     "shell.execute_reply.started": "2025-07-14T07:27:12.091262Z"
    }
   },
   "outputs": [
    {
     "data": {
      "text/plain": [
       "Salary     -0.822108\n",
       "Age        -0.792714\n",
       "Seniorty   -0.978214\n",
       "Name: Atlas, dtype: float64"
      ]
     },
     "execution_count": 32,
     "metadata": {},
     "output_type": "execute_result"
    }
   ],
   "source": [
    "new_df.loc[\"Atlas\"]"
   ]
  },
  {
   "cell_type": "code",
   "execution_count": 33,
   "id": "4cc9d044-90b0-4c56-a90a-555d3cf98c27",
   "metadata": {
    "execution": {
     "iopub.execute_input": "2025-07-14T07:28:05.575171Z",
     "iopub.status.busy": "2025-07-14T07:28:05.573934Z",
     "iopub.status.idle": "2025-07-14T07:28:05.582611Z",
     "shell.execute_reply": "2025-07-14T07:28:05.581292Z",
     "shell.execute_reply.started": "2025-07-14T07:28:05.575136Z"
    }
   },
   "outputs": [
    {
     "data": {
      "text/plain": [
       "-0.8221082926667174"
      ]
     },
     "execution_count": 33,
     "metadata": {},
     "output_type": "execute_result"
    }
   ],
   "source": [
    "new_df.loc[\"Atlas\", \"Salary\"]    ### Mesela burada direk Atlas'in salary'sine ulasabildik. "
   ]
  },
  {
   "cell_type": "code",
   "execution_count": 34,
   "id": "3af4f784-17c6-4287-9f08-55925f6367ac",
   "metadata": {
    "execution": {
     "iopub.execute_input": "2025-07-14T07:28:49.602548Z",
     "iopub.status.busy": "2025-07-14T07:28:49.601819Z",
     "iopub.status.idle": "2025-07-14T07:28:49.609016Z",
     "shell.execute_reply": "2025-07-14T07:28:49.608143Z",
     "shell.execute_reply.started": "2025-07-14T07:28:49.602518Z"
    }
   },
   "outputs": [
    {
     "data": {
      "text/plain": [
       "-0.8221082926667174"
      ]
     },
     "execution_count": 34,
     "metadata": {},
     "output_type": "execute_result"
    }
   ],
   "source": [
    "new_df.loc[\"Atlas\"][\"Salary\"]       ### Bu da ikinice secenek. "
   ]
  },
  {
   "cell_type": "code",
   "execution_count": 35,
   "id": "9c4b260b-af4d-477e-955e-e00e7049796f",
   "metadata": {
    "execution": {
     "iopub.execute_input": "2025-07-14T07:30:37.153049Z",
     "iopub.status.busy": "2025-07-14T07:30:37.152719Z",
     "iopub.status.idle": "2025-07-14T07:30:37.158323Z",
     "shell.execute_reply": "2025-07-14T07:30:37.157404Z",
     "shell.execute_reply.started": "2025-07-14T07:30:37.153021Z"
    }
   },
   "outputs": [],
   "source": [
    "new_df.loc[\"Atlas\", \"Salary\"] = 100                               ### Burada Atlas'in maasini guncelledik."
   ]
  },
  {
   "cell_type": "code",
   "execution_count": 36,
   "id": "9e7ef27a-0b9d-4ca7-aed4-5ddd01899726",
   "metadata": {
    "execution": {
     "iopub.execute_input": "2025-07-14T07:30:39.998388Z",
     "iopub.status.busy": "2025-07-14T07:30:39.997834Z",
     "iopub.status.idle": "2025-07-14T07:30:40.009112Z",
     "shell.execute_reply": "2025-07-14T07:30:40.008135Z",
     "shell.execute_reply.started": "2025-07-14T07:30:39.998361Z"
    }
   },
   "outputs": [
    {
     "data": {
      "text/html": [
       "<div>\n",
       "<style scoped>\n",
       "    .dataframe tbody tr th:only-of-type {\n",
       "        vertical-align: middle;\n",
       "    }\n",
       "\n",
       "    .dataframe tbody tr th {\n",
       "        vertical-align: top;\n",
       "    }\n",
       "\n",
       "    .dataframe thead th {\n",
       "        text-align: right;\n",
       "    }\n",
       "</style>\n",
       "<table border=\"1\" class=\"dataframe\">\n",
       "  <thead>\n",
       "    <tr style=\"text-align: right;\">\n",
       "      <th></th>\n",
       "      <th>Salary</th>\n",
       "      <th>Age</th>\n",
       "      <th>Seniorty</th>\n",
       "    </tr>\n",
       "  </thead>\n",
       "  <tbody>\n",
       "    <tr>\n",
       "      <th>Emre</th>\n",
       "      <td>0.199059</td>\n",
       "      <td>0.289362</td>\n",
       "      <td>-0.069721</td>\n",
       "    </tr>\n",
       "    <tr>\n",
       "      <th>Zeynep</th>\n",
       "      <td>-1.965727</td>\n",
       "      <td>0.266635</td>\n",
       "      <td>1.712975</td>\n",
       "    </tr>\n",
       "    <tr>\n",
       "      <th>Atlas</th>\n",
       "      <td>100.000000</td>\n",
       "      <td>-0.792714</td>\n",
       "      <td>-0.978214</td>\n",
       "    </tr>\n",
       "    <tr>\n",
       "      <th>Mehmet</th>\n",
       "      <td>0.786301</td>\n",
       "      <td>-0.293799</td>\n",
       "      <td>-0.879191</td>\n",
       "    </tr>\n",
       "  </tbody>\n",
       "</table>\n",
       "</div>"
      ],
      "text/plain": [
       "            Salary       Age  Seniorty\n",
       "Emre      0.199059  0.289362 -0.069721\n",
       "Zeynep   -1.965727  0.266635  1.712975\n",
       "Atlas   100.000000 -0.792714 -0.978214\n",
       "Mehmet    0.786301 -0.293799 -0.879191"
      ]
     },
     "execution_count": 36,
     "metadata": {},
     "output_type": "execute_result"
    }
   ],
   "source": [
    "new_df"
   ]
  },
  {
   "cell_type": "code",
   "execution_count": 38,
   "id": "f087a205-4d66-4f69-8339-c9b675dfa537",
   "metadata": {
    "execution": {
     "iopub.execute_input": "2025-07-14T07:32:00.960510Z",
     "iopub.status.busy": "2025-07-14T07:32:00.959806Z",
     "iopub.status.idle": "2025-07-14T07:32:00.973863Z",
     "shell.execute_reply": "2025-07-14T07:32:00.972638Z",
     "shell.execute_reply.started": "2025-07-14T07:32:00.960480Z"
    }
   },
   "outputs": [
    {
     "data": {
      "text/html": [
       "<div>\n",
       "<style scoped>\n",
       "    .dataframe tbody tr th:only-of-type {\n",
       "        vertical-align: middle;\n",
       "    }\n",
       "\n",
       "    .dataframe tbody tr th {\n",
       "        vertical-align: top;\n",
       "    }\n",
       "\n",
       "    .dataframe thead th {\n",
       "        text-align: right;\n",
       "    }\n",
       "</style>\n",
       "<table border=\"1\" class=\"dataframe\">\n",
       "  <thead>\n",
       "    <tr style=\"text-align: right;\">\n",
       "      <th></th>\n",
       "      <th>Salary</th>\n",
       "      <th>Age</th>\n",
       "      <th>Seniorty</th>\n",
       "    </tr>\n",
       "  </thead>\n",
       "  <tbody>\n",
       "    <tr>\n",
       "      <th>Emre</th>\n",
       "      <td>True</td>\n",
       "      <td>True</td>\n",
       "      <td>False</td>\n",
       "    </tr>\n",
       "    <tr>\n",
       "      <th>Zeynep</th>\n",
       "      <td>False</td>\n",
       "      <td>True</td>\n",
       "      <td>True</td>\n",
       "    </tr>\n",
       "    <tr>\n",
       "      <th>Atlas</th>\n",
       "      <td>True</td>\n",
       "      <td>False</td>\n",
       "      <td>False</td>\n",
       "    </tr>\n",
       "    <tr>\n",
       "      <th>Mehmet</th>\n",
       "      <td>True</td>\n",
       "      <td>False</td>\n",
       "      <td>False</td>\n",
       "    </tr>\n",
       "  </tbody>\n",
       "</table>\n",
       "</div>"
      ],
      "text/plain": [
       "        Salary    Age  Seniorty\n",
       "Emre      True   True     False\n",
       "Zeynep   False   True      True\n",
       "Atlas     True  False     False\n",
       "Mehmet    True  False     False"
      ]
     },
     "execution_count": 38,
     "metadata": {},
     "output_type": "execute_result"
    }
   ],
   "source": [
    "new_df > 0 "
   ]
  },
  {
   "cell_type": "code",
   "execution_count": 39,
   "id": "60f5c162-2812-4fa2-b513-b0a4335a56e2",
   "metadata": {
    "execution": {
     "iopub.execute_input": "2025-07-14T07:32:34.446764Z",
     "iopub.status.busy": "2025-07-14T07:32:34.446342Z",
     "iopub.status.idle": "2025-07-14T07:32:34.451706Z",
     "shell.execute_reply": "2025-07-14T07:32:34.450941Z",
     "shell.execute_reply.started": "2025-07-14T07:32:34.446739Z"
    }
   },
   "outputs": [],
   "source": [
    "boolean_frame = new_df > 0"
   ]
  },
  {
   "cell_type": "code",
   "execution_count": 40,
   "id": "81da48bc-3864-48a9-b908-4a3c9ffe0625",
   "metadata": {
    "execution": {
     "iopub.execute_input": "2025-07-14T07:32:51.420886Z",
     "iopub.status.busy": "2025-07-14T07:32:51.419816Z",
     "iopub.status.idle": "2025-07-14T07:32:51.433928Z",
     "shell.execute_reply": "2025-07-14T07:32:51.432791Z",
     "shell.execute_reply.started": "2025-07-14T07:32:51.420857Z"
    }
   },
   "outputs": [
    {
     "data": {
      "text/html": [
       "<div>\n",
       "<style scoped>\n",
       "    .dataframe tbody tr th:only-of-type {\n",
       "        vertical-align: middle;\n",
       "    }\n",
       "\n",
       "    .dataframe tbody tr th {\n",
       "        vertical-align: top;\n",
       "    }\n",
       "\n",
       "    .dataframe thead th {\n",
       "        text-align: right;\n",
       "    }\n",
       "</style>\n",
       "<table border=\"1\" class=\"dataframe\">\n",
       "  <thead>\n",
       "    <tr style=\"text-align: right;\">\n",
       "      <th></th>\n",
       "      <th>Salary</th>\n",
       "      <th>Age</th>\n",
       "      <th>Seniorty</th>\n",
       "    </tr>\n",
       "  </thead>\n",
       "  <tbody>\n",
       "    <tr>\n",
       "      <th>Emre</th>\n",
       "      <td>0.199059</td>\n",
       "      <td>0.289362</td>\n",
       "      <td>NaN</td>\n",
       "    </tr>\n",
       "    <tr>\n",
       "      <th>Zeynep</th>\n",
       "      <td>NaN</td>\n",
       "      <td>0.266635</td>\n",
       "      <td>1.712975</td>\n",
       "    </tr>\n",
       "    <tr>\n",
       "      <th>Atlas</th>\n",
       "      <td>100.000000</td>\n",
       "      <td>NaN</td>\n",
       "      <td>NaN</td>\n",
       "    </tr>\n",
       "    <tr>\n",
       "      <th>Mehmet</th>\n",
       "      <td>0.786301</td>\n",
       "      <td>NaN</td>\n",
       "      <td>NaN</td>\n",
       "    </tr>\n",
       "  </tbody>\n",
       "</table>\n",
       "</div>"
      ],
      "text/plain": [
       "            Salary       Age  Seniorty\n",
       "Emre      0.199059  0.289362       NaN\n",
       "Zeynep         NaN  0.266635  1.712975\n",
       "Atlas   100.000000       NaN       NaN\n",
       "Mehmet    0.786301       NaN       NaN"
      ]
     },
     "execution_count": 40,
     "metadata": {},
     "output_type": "execute_result"
    }
   ],
   "source": [
    "new_df[boolean_frame]"
   ]
  },
  {
   "cell_type": "code",
   "execution_count": 41,
   "id": "37a6a5bb-8966-4a5f-81c6-282a48650c68",
   "metadata": {
    "execution": {
     "iopub.execute_input": "2025-07-14T07:44:09.519656Z",
     "iopub.status.busy": "2025-07-14T07:44:09.519306Z",
     "iopub.status.idle": "2025-07-14T07:44:09.532049Z",
     "shell.execute_reply": "2025-07-14T07:44:09.530710Z",
     "shell.execute_reply.started": "2025-07-14T07:44:09.519630Z"
    }
   },
   "outputs": [
    {
     "data": {
      "text/html": [
       "<div>\n",
       "<style scoped>\n",
       "    .dataframe tbody tr th:only-of-type {\n",
       "        vertical-align: middle;\n",
       "    }\n",
       "\n",
       "    .dataframe tbody tr th {\n",
       "        vertical-align: top;\n",
       "    }\n",
       "\n",
       "    .dataframe thead th {\n",
       "        text-align: right;\n",
       "    }\n",
       "</style>\n",
       "<table border=\"1\" class=\"dataframe\">\n",
       "  <thead>\n",
       "    <tr style=\"text-align: right;\">\n",
       "      <th></th>\n",
       "      <th>Salary</th>\n",
       "      <th>Age</th>\n",
       "      <th>Seniorty</th>\n",
       "    </tr>\n",
       "  </thead>\n",
       "  <tbody>\n",
       "    <tr>\n",
       "      <th>Emre</th>\n",
       "      <td>0.199059</td>\n",
       "      <td>0.289362</td>\n",
       "      <td>-0.069721</td>\n",
       "    </tr>\n",
       "    <tr>\n",
       "      <th>Zeynep</th>\n",
       "      <td>-1.965727</td>\n",
       "      <td>0.266635</td>\n",
       "      <td>1.712975</td>\n",
       "    </tr>\n",
       "  </tbody>\n",
       "</table>\n",
       "</div>"
      ],
      "text/plain": [
       "          Salary       Age  Seniorty\n",
       "Emre    0.199059  0.289362 -0.069721\n",
       "Zeynep -1.965727  0.266635  1.712975"
      ]
     },
     "execution_count": 41,
     "metadata": {},
     "output_type": "execute_result"
    }
   ],
   "source": [
    "new_df[new_df[\"Age\"] > 0]                                  ### burada 0 dan buyuk yaslari getir dedik. "
   ]
  },
  {
   "cell_type": "code",
   "execution_count": 42,
   "id": "020b0502-14d1-49bf-a529-94d0e11bbccd",
   "metadata": {
    "execution": {
     "iopub.execute_input": "2025-07-14T07:45:23.629837Z",
     "iopub.status.busy": "2025-07-14T07:45:23.629546Z",
     "iopub.status.idle": "2025-07-14T07:45:23.640042Z",
     "shell.execute_reply": "2025-07-14T07:45:23.638879Z",
     "shell.execute_reply.started": "2025-07-14T07:45:23.629816Z"
    }
   },
   "outputs": [
    {
     "data": {
      "text/html": [
       "<div>\n",
       "<style scoped>\n",
       "    .dataframe tbody tr th:only-of-type {\n",
       "        vertical-align: middle;\n",
       "    }\n",
       "\n",
       "    .dataframe tbody tr th {\n",
       "        vertical-align: top;\n",
       "    }\n",
       "\n",
       "    .dataframe thead th {\n",
       "        text-align: right;\n",
       "    }\n",
       "</style>\n",
       "<table border=\"1\" class=\"dataframe\">\n",
       "  <thead>\n",
       "    <tr style=\"text-align: right;\">\n",
       "      <th></th>\n",
       "      <th>Salary</th>\n",
       "      <th>Age</th>\n",
       "      <th>Seniorty</th>\n",
       "    </tr>\n",
       "  </thead>\n",
       "  <tbody>\n",
       "    <tr>\n",
       "      <th>Atlas</th>\n",
       "      <td>100.0</td>\n",
       "      <td>-0.792714</td>\n",
       "      <td>-0.978214</td>\n",
       "    </tr>\n",
       "  </tbody>\n",
       "</table>\n",
       "</div>"
      ],
      "text/plain": [
       "       Salary       Age  Seniorty\n",
       "Atlas   100.0 -0.792714 -0.978214"
      ]
     },
     "execution_count": 42,
     "metadata": {},
     "output_type": "execute_result"
    }
   ],
   "source": [
    "new_df[new_df[\"Salary\"] > 1]                               ### burada maasi 1 den yuksek olanlari getir dedik. "
   ]
  },
  {
   "cell_type": "code",
   "execution_count": 43,
   "id": "21dd27bb-1821-4832-a5f6-791c5e789835",
   "metadata": {
    "execution": {
     "iopub.execute_input": "2025-07-14T07:46:46.138241Z",
     "iopub.status.busy": "2025-07-14T07:46:46.137941Z",
     "iopub.status.idle": "2025-07-14T07:46:46.148494Z",
     "shell.execute_reply": "2025-07-14T07:46:46.147220Z",
     "shell.execute_reply.started": "2025-07-14T07:46:46.138220Z"
    }
   },
   "outputs": [
    {
     "data": {
      "text/html": [
       "<div>\n",
       "<style scoped>\n",
       "    .dataframe tbody tr th:only-of-type {\n",
       "        vertical-align: middle;\n",
       "    }\n",
       "\n",
       "    .dataframe tbody tr th {\n",
       "        vertical-align: top;\n",
       "    }\n",
       "\n",
       "    .dataframe thead th {\n",
       "        text-align: right;\n",
       "    }\n",
       "</style>\n",
       "<table border=\"1\" class=\"dataframe\">\n",
       "  <thead>\n",
       "    <tr style=\"text-align: right;\">\n",
       "      <th></th>\n",
       "      <th>Salary</th>\n",
       "      <th>Age</th>\n",
       "      <th>Seniorty</th>\n",
       "    </tr>\n",
       "  </thead>\n",
       "  <tbody>\n",
       "    <tr>\n",
       "      <th>Emre</th>\n",
       "      <td>0.199059</td>\n",
       "      <td>0.289362</td>\n",
       "      <td>-0.069721</td>\n",
       "    </tr>\n",
       "    <tr>\n",
       "      <th>Zeynep</th>\n",
       "      <td>-1.965727</td>\n",
       "      <td>0.266635</td>\n",
       "      <td>1.712975</td>\n",
       "    </tr>\n",
       "    <tr>\n",
       "      <th>Atlas</th>\n",
       "      <td>100.000000</td>\n",
       "      <td>-0.792714</td>\n",
       "      <td>-0.978214</td>\n",
       "    </tr>\n",
       "    <tr>\n",
       "      <th>Mehmet</th>\n",
       "      <td>0.786301</td>\n",
       "      <td>-0.293799</td>\n",
       "      <td>-0.879191</td>\n",
       "    </tr>\n",
       "  </tbody>\n",
       "</table>\n",
       "</div>"
      ],
      "text/plain": [
       "            Salary       Age  Seniorty\n",
       "Emre      0.199059  0.289362 -0.069721\n",
       "Zeynep   -1.965727  0.266635  1.712975\n",
       "Atlas   100.000000 -0.792714 -0.978214\n",
       "Mehmet    0.786301 -0.293799 -0.879191"
      ]
     },
     "execution_count": 43,
     "metadata": {},
     "output_type": "execute_result"
    }
   ],
   "source": [
    "new_df"
   ]
  },
  {
   "cell_type": "code",
   "execution_count": 44,
   "id": "a3c76e48-6a60-4455-9df8-56a12a652b6f",
   "metadata": {
    "execution": {
     "iopub.execute_input": "2025-07-14T09:28:45.431874Z",
     "iopub.status.busy": "2025-07-14T09:28:45.430753Z",
     "iopub.status.idle": "2025-07-14T09:28:45.448275Z",
     "shell.execute_reply": "2025-07-14T09:28:45.446868Z",
     "shell.execute_reply.started": "2025-07-14T09:28:45.431774Z"
    }
   },
   "outputs": [],
   "source": [
    "reset_frame = new_df.reset_index()"
   ]
  },
  {
   "cell_type": "code",
   "execution_count": 45,
   "id": "a67d1850-0597-4bc2-9967-a2ca22387c50",
   "metadata": {
    "execution": {
     "iopub.execute_input": "2025-07-14T09:28:50.480076Z",
     "iopub.status.busy": "2025-07-14T09:28:50.479786Z",
     "iopub.status.idle": "2025-07-14T09:28:50.491761Z",
     "shell.execute_reply": "2025-07-14T09:28:50.490836Z",
     "shell.execute_reply.started": "2025-07-14T09:28:50.480058Z"
    }
   },
   "outputs": [
    {
     "data": {
      "text/html": [
       "<div>\n",
       "<style scoped>\n",
       "    .dataframe tbody tr th:only-of-type {\n",
       "        vertical-align: middle;\n",
       "    }\n",
       "\n",
       "    .dataframe tbody tr th {\n",
       "        vertical-align: top;\n",
       "    }\n",
       "\n",
       "    .dataframe thead th {\n",
       "        text-align: right;\n",
       "    }\n",
       "</style>\n",
       "<table border=\"1\" class=\"dataframe\">\n",
       "  <thead>\n",
       "    <tr style=\"text-align: right;\">\n",
       "      <th></th>\n",
       "      <th>index</th>\n",
       "      <th>Salary</th>\n",
       "      <th>Age</th>\n",
       "      <th>Seniorty</th>\n",
       "    </tr>\n",
       "  </thead>\n",
       "  <tbody>\n",
       "    <tr>\n",
       "      <th>0</th>\n",
       "      <td>Emre</td>\n",
       "      <td>0.199059</td>\n",
       "      <td>0.289362</td>\n",
       "      <td>-0.069721</td>\n",
       "    </tr>\n",
       "    <tr>\n",
       "      <th>1</th>\n",
       "      <td>Zeynep</td>\n",
       "      <td>-1.965727</td>\n",
       "      <td>0.266635</td>\n",
       "      <td>1.712975</td>\n",
       "    </tr>\n",
       "    <tr>\n",
       "      <th>2</th>\n",
       "      <td>Atlas</td>\n",
       "      <td>100.000000</td>\n",
       "      <td>-0.792714</td>\n",
       "      <td>-0.978214</td>\n",
       "    </tr>\n",
       "    <tr>\n",
       "      <th>3</th>\n",
       "      <td>Mehmet</td>\n",
       "      <td>0.786301</td>\n",
       "      <td>-0.293799</td>\n",
       "      <td>-0.879191</td>\n",
       "    </tr>\n",
       "  </tbody>\n",
       "</table>\n",
       "</div>"
      ],
      "text/plain": [
       "    index      Salary       Age  Seniorty\n",
       "0    Emre    0.199059  0.289362 -0.069721\n",
       "1  Zeynep   -1.965727  0.266635  1.712975\n",
       "2   Atlas  100.000000 -0.792714 -0.978214\n",
       "3  Mehmet    0.786301 -0.293799 -0.879191"
      ]
     },
     "execution_count": 45,
     "metadata": {},
     "output_type": "execute_result"
    }
   ],
   "source": [
    "reset_frame"
   ]
  },
  {
   "cell_type": "code",
   "execution_count": 46,
   "id": "5c8ee270-5095-4c44-ab4e-e4d10dd87ea9",
   "metadata": {
    "execution": {
     "iopub.execute_input": "2025-07-14T09:29:44.170889Z",
     "iopub.status.busy": "2025-07-14T09:29:44.170568Z",
     "iopub.status.idle": "2025-07-14T09:29:44.180391Z",
     "shell.execute_reply": "2025-07-14T09:29:44.179377Z",
     "shell.execute_reply.started": "2025-07-14T09:29:44.170867Z"
    }
   },
   "outputs": [
    {
     "data": {
      "text/plain": [
       "index           Emre\n",
       "Salary      0.199059\n",
       "Age         0.289362\n",
       "Seniorty   -0.069721\n",
       "Name: 0, dtype: object"
      ]
     },
     "execution_count": 46,
     "metadata": {},
     "output_type": "execute_result"
    }
   ],
   "source": [
    "reset_frame.loc[0]"
   ]
  },
  {
   "cell_type": "code",
   "execution_count": 48,
   "id": "8d88c9a8-8651-450a-a64b-67bd5db612cf",
   "metadata": {
    "execution": {
     "iopub.execute_input": "2025-07-14T09:31:33.832439Z",
     "iopub.status.busy": "2025-07-14T09:31:33.832115Z",
     "iopub.status.idle": "2025-07-14T09:31:33.836630Z",
     "shell.execute_reply": "2025-07-14T09:31:33.835290Z",
     "shell.execute_reply.started": "2025-07-14T09:31:33.832418Z"
    }
   },
   "outputs": [],
   "source": [
    "new_indices = [\"Emr\",\"Zey\",\"Atl\",\"Meh\"]    ## Burada sirasiyla new_indices listesi olusturuldu\n",
    "                                           ## Daha sonra new_df icine NewIndex column olsuturuldu\n",
    "                                           ## En son olarak New_indices listesi NewIndex iicne eklendi."
   ]
  },
  {
   "cell_type": "code",
   "execution_count": 49,
   "id": "e1385628-816d-48fd-b6a1-2cafa8755a7a",
   "metadata": {
    "execution": {
     "iopub.execute_input": "2025-07-14T09:32:32.034697Z",
     "iopub.status.busy": "2025-07-14T09:32:32.034287Z",
     "iopub.status.idle": "2025-07-14T09:32:32.041511Z",
     "shell.execute_reply": "2025-07-14T09:32:32.040224Z",
     "shell.execute_reply.started": "2025-07-14T09:32:32.034674Z"
    }
   },
   "outputs": [],
   "source": [
    "new_df[\"NewIndex\"] = new_indices"
   ]
  },
  {
   "cell_type": "code",
   "execution_count": 50,
   "id": "021ef1ab-a0bf-4f63-b62d-ef25606300fe",
   "metadata": {
    "execution": {
     "iopub.execute_input": "2025-07-14T09:32:39.001186Z",
     "iopub.status.busy": "2025-07-14T09:32:39.000020Z",
     "iopub.status.idle": "2025-07-14T09:32:39.010656Z",
     "shell.execute_reply": "2025-07-14T09:32:39.009207Z",
     "shell.execute_reply.started": "2025-07-14T09:32:39.001138Z"
    }
   },
   "outputs": [
    {
     "data": {
      "text/html": [
       "<div>\n",
       "<style scoped>\n",
       "    .dataframe tbody tr th:only-of-type {\n",
       "        vertical-align: middle;\n",
       "    }\n",
       "\n",
       "    .dataframe tbody tr th {\n",
       "        vertical-align: top;\n",
       "    }\n",
       "\n",
       "    .dataframe thead th {\n",
       "        text-align: right;\n",
       "    }\n",
       "</style>\n",
       "<table border=\"1\" class=\"dataframe\">\n",
       "  <thead>\n",
       "    <tr style=\"text-align: right;\">\n",
       "      <th></th>\n",
       "      <th>Salary</th>\n",
       "      <th>Age</th>\n",
       "      <th>Seniorty</th>\n",
       "      <th>NewIndex</th>\n",
       "    </tr>\n",
       "  </thead>\n",
       "  <tbody>\n",
       "    <tr>\n",
       "      <th>Emre</th>\n",
       "      <td>0.199059</td>\n",
       "      <td>0.289362</td>\n",
       "      <td>-0.069721</td>\n",
       "      <td>Emr</td>\n",
       "    </tr>\n",
       "    <tr>\n",
       "      <th>Zeynep</th>\n",
       "      <td>-1.965727</td>\n",
       "      <td>0.266635</td>\n",
       "      <td>1.712975</td>\n",
       "      <td>Zey</td>\n",
       "    </tr>\n",
       "    <tr>\n",
       "      <th>Atlas</th>\n",
       "      <td>100.000000</td>\n",
       "      <td>-0.792714</td>\n",
       "      <td>-0.978214</td>\n",
       "      <td>Atl</td>\n",
       "    </tr>\n",
       "    <tr>\n",
       "      <th>Mehmet</th>\n",
       "      <td>0.786301</td>\n",
       "      <td>-0.293799</td>\n",
       "      <td>-0.879191</td>\n",
       "      <td>Meh</td>\n",
       "    </tr>\n",
       "  </tbody>\n",
       "</table>\n",
       "</div>"
      ],
      "text/plain": [
       "            Salary       Age  Seniorty NewIndex\n",
       "Emre      0.199059  0.289362 -0.069721      Emr\n",
       "Zeynep   -1.965727  0.266635  1.712975      Zey\n",
       "Atlas   100.000000 -0.792714 -0.978214      Atl\n",
       "Mehmet    0.786301 -0.293799 -0.879191      Meh"
      ]
     },
     "execution_count": 50,
     "metadata": {},
     "output_type": "execute_result"
    }
   ],
   "source": [
    "new_df"
   ]
  },
  {
   "cell_type": "code",
   "execution_count": 53,
   "id": "06971acd-de44-411a-b0c3-dbdd216eeb19",
   "metadata": {
    "execution": {
     "iopub.execute_input": "2025-07-14T09:37:37.030536Z",
     "iopub.status.busy": "2025-07-14T09:37:37.029716Z",
     "iopub.status.idle": "2025-07-14T09:37:37.036256Z",
     "shell.execute_reply": "2025-07-14T09:37:37.035548Z",
     "shell.execute_reply.started": "2025-07-14T09:37:37.030511Z"
    }
   },
   "outputs": [],
   "source": [
    "new_df.set_index (\"NewIndex\", inplace=True)   ## Burada NewIndex --> 0 1 2 3 .. yerine gecti .set_index araciligiyla"
   ]
  },
  {
   "cell_type": "code",
   "execution_count": 54,
   "id": "876c6e66-cfec-4b7a-99bb-93eb984893e0",
   "metadata": {
    "execution": {
     "iopub.execute_input": "2025-07-14T09:37:40.638189Z",
     "iopub.status.busy": "2025-07-14T09:37:40.637625Z",
     "iopub.status.idle": "2025-07-14T09:37:40.647950Z",
     "shell.execute_reply": "2025-07-14T09:37:40.646847Z",
     "shell.execute_reply.started": "2025-07-14T09:37:40.638160Z"
    }
   },
   "outputs": [
    {
     "data": {
      "text/html": [
       "<div>\n",
       "<style scoped>\n",
       "    .dataframe tbody tr th:only-of-type {\n",
       "        vertical-align: middle;\n",
       "    }\n",
       "\n",
       "    .dataframe tbody tr th {\n",
       "        vertical-align: top;\n",
       "    }\n",
       "\n",
       "    .dataframe thead th {\n",
       "        text-align: right;\n",
       "    }\n",
       "</style>\n",
       "<table border=\"1\" class=\"dataframe\">\n",
       "  <thead>\n",
       "    <tr style=\"text-align: right;\">\n",
       "      <th></th>\n",
       "      <th>Salary</th>\n",
       "      <th>Age</th>\n",
       "      <th>Seniorty</th>\n",
       "    </tr>\n",
       "    <tr>\n",
       "      <th>NewIndex</th>\n",
       "      <th></th>\n",
       "      <th></th>\n",
       "      <th></th>\n",
       "    </tr>\n",
       "  </thead>\n",
       "  <tbody>\n",
       "    <tr>\n",
       "      <th>Emr</th>\n",
       "      <td>0.199059</td>\n",
       "      <td>0.289362</td>\n",
       "      <td>-0.069721</td>\n",
       "    </tr>\n",
       "    <tr>\n",
       "      <th>Zey</th>\n",
       "      <td>-1.965727</td>\n",
       "      <td>0.266635</td>\n",
       "      <td>1.712975</td>\n",
       "    </tr>\n",
       "    <tr>\n",
       "      <th>Atl</th>\n",
       "      <td>100.000000</td>\n",
       "      <td>-0.792714</td>\n",
       "      <td>-0.978214</td>\n",
       "    </tr>\n",
       "    <tr>\n",
       "      <th>Meh</th>\n",
       "      <td>0.786301</td>\n",
       "      <td>-0.293799</td>\n",
       "      <td>-0.879191</td>\n",
       "    </tr>\n",
       "  </tbody>\n",
       "</table>\n",
       "</div>"
      ],
      "text/plain": [
       "              Salary       Age  Seniorty\n",
       "NewIndex                                \n",
       "Emr         0.199059  0.289362 -0.069721\n",
       "Zey        -1.965727  0.266635  1.712975\n",
       "Atl       100.000000 -0.792714 -0.978214\n",
       "Meh         0.786301 -0.293799 -0.879191"
      ]
     },
     "execution_count": 54,
     "metadata": {},
     "output_type": "execute_result"
    }
   ],
   "source": [
    "new_df\n"
   ]
  },
  {
   "cell_type": "code",
   "execution_count": 55,
   "id": "9bdb1539-c718-4b88-9446-7484e01d9d56",
   "metadata": {
    "execution": {
     "iopub.execute_input": "2025-07-14T09:38:06.985819Z",
     "iopub.status.busy": "2025-07-14T09:38:06.985486Z",
     "iopub.status.idle": "2025-07-14T09:38:06.994610Z",
     "shell.execute_reply": "2025-07-14T09:38:06.993571Z",
     "shell.execute_reply.started": "2025-07-14T09:38:06.985795Z"
    }
   },
   "outputs": [
    {
     "data": {
      "text/plain": [
       "Salary      0.199059\n",
       "Age         0.289362\n",
       "Seniorty   -0.069721\n",
       "Name: Emr, dtype: float64"
      ]
     },
     "execution_count": 55,
     "metadata": {},
     "output_type": "execute_result"
    }
   ],
   "source": [
    "new_df.loc[\"Emr\"]"
   ]
  },
  {
   "cell_type": "code",
   "execution_count": 56,
   "id": "b2f3f698-2b32-47bb-829f-17de2d8f5e50",
   "metadata": {
    "execution": {
     "iopub.execute_input": "2025-07-14T09:44:38.808836Z",
     "iopub.status.busy": "2025-07-14T09:44:38.807615Z",
     "iopub.status.idle": "2025-07-14T09:44:38.817967Z",
     "shell.execute_reply": "2025-07-14T09:44:38.816116Z",
     "shell.execute_reply.started": "2025-07-14T09:44:38.808781Z"
    }
   },
   "outputs": [],
   "source": [
    "# multi index"
   ]
  },
  {
   "cell_type": "code",
   "execution_count": 57,
   "id": "184b7155-03e3-400b-8e8f-66e13eacf831",
   "metadata": {
    "execution": {
     "iopub.execute_input": "2025-07-14T09:47:46.048505Z",
     "iopub.status.busy": "2025-07-14T09:47:46.048184Z",
     "iopub.status.idle": "2025-07-14T09:47:46.054065Z",
     "shell.execute_reply": "2025-07-14T09:47:46.052917Z",
     "shell.execute_reply.started": "2025-07-14T09:47:46.048483Z"
    }
   },
   "outputs": [],
   "source": [
    "first_index = [\"Simpson\",\"Simpson\",\"Simpson\",\"South Park\", \"South Park\", \"South Park\"]"
   ]
  },
  {
   "cell_type": "code",
   "execution_count": 58,
   "id": "17a38cef-1166-4d74-99fc-c7f30b705f4c",
   "metadata": {
    "execution": {
     "iopub.execute_input": "2025-07-14T09:47:52.528001Z",
     "iopub.status.busy": "2025-07-14T09:47:52.527341Z",
     "iopub.status.idle": "2025-07-14T09:47:52.532981Z",
     "shell.execute_reply": "2025-07-14T09:47:52.531948Z",
     "shell.execute_reply.started": "2025-07-14T09:47:52.527969Z"
    }
   },
   "outputs": [],
   "source": [
    "inner_index = [\"Homer\",\"Bart\",\"Marge\",\"Cartman\",\"Kenny\",\"Kyle\"]"
   ]
  },
  {
   "cell_type": "code",
   "execution_count": 59,
   "id": "e3c40ba9-a188-4ca1-8ccf-ebd8e128281b",
   "metadata": {
    "execution": {
     "iopub.execute_input": "2025-07-14T09:48:37.301986Z",
     "iopub.status.busy": "2025-07-14T09:48:37.301062Z",
     "iopub.status.idle": "2025-07-14T09:48:37.305988Z",
     "shell.execute_reply": "2025-07-14T09:48:37.305096Z",
     "shell.execute_reply.started": "2025-07-14T09:48:37.301961Z"
    }
   },
   "outputs": [],
   "source": [
    "zipped_index = list (zip(first_index, inner_index))    ## Burada zip ile olustudugumuz listeleri birlestirdik."
   ]
  },
  {
   "cell_type": "code",
   "execution_count": 60,
   "id": "58e80eff-029f-42e6-8630-3de304438c3f",
   "metadata": {
    "execution": {
     "iopub.execute_input": "2025-07-14T09:48:44.026101Z",
     "iopub.status.busy": "2025-07-14T09:48:44.025177Z",
     "iopub.status.idle": "2025-07-14T09:48:44.031607Z",
     "shell.execute_reply": "2025-07-14T09:48:44.030820Z",
     "shell.execute_reply.started": "2025-07-14T09:48:44.026076Z"
    }
   },
   "outputs": [
    {
     "data": {
      "text/plain": [
       "[('Simpson', 'Homer'),\n",
       " ('Simpson', 'Bart'),\n",
       " ('Simpson', 'Marge'),\n",
       " ('South Park', 'Cartman'),\n",
       " ('South Park', 'Kenny'),\n",
       " ('South Park', 'Kyle')]"
      ]
     },
     "execution_count": 60,
     "metadata": {},
     "output_type": "execute_result"
    }
   ],
   "source": [
    "zipped_index"
   ]
  },
  {
   "cell_type": "code",
   "execution_count": 62,
   "id": "c8d3cb29-cf79-4130-a48f-87e22957ebae",
   "metadata": {
    "execution": {
     "iopub.execute_input": "2025-07-14T09:54:38.168935Z",
     "iopub.status.busy": "2025-07-14T09:54:38.168616Z",
     "iopub.status.idle": "2025-07-14T09:54:38.182687Z",
     "shell.execute_reply": "2025-07-14T09:54:38.181443Z",
     "shell.execute_reply.started": "2025-07-14T09:54:38.168913Z"
    }
   },
   "outputs": [],
   "source": [
    "zipped_index = pd.MultiIndex.from_tuples(zipped_index)"
   ]
  },
  {
   "cell_type": "code",
   "execution_count": 63,
   "id": "62edd143-feb7-430b-8e3f-511781842c31",
   "metadata": {
    "execution": {
     "iopub.execute_input": "2025-07-14T09:54:43.205644Z",
     "iopub.status.busy": "2025-07-14T09:54:43.204732Z",
     "iopub.status.idle": "2025-07-14T09:54:43.212804Z",
     "shell.execute_reply": "2025-07-14T09:54:43.211741Z",
     "shell.execute_reply.started": "2025-07-14T09:54:43.205615Z"
    }
   },
   "outputs": [
    {
     "data": {
      "text/plain": [
       "MultiIndex([(   'Simpson',   'Homer'),\n",
       "            (   'Simpson',    'Bart'),\n",
       "            (   'Simpson',   'Marge'),\n",
       "            ('South Park', 'Cartman'),\n",
       "            ('South Park',   'Kenny'),\n",
       "            ('South Park',    'Kyle')],\n",
       "           )"
      ]
     },
     "execution_count": 63,
     "metadata": {},
     "output_type": "execute_result"
    }
   ],
   "source": [
    "zipped_index"
   ]
  },
  {
   "cell_type": "code",
   "execution_count": 64,
   "id": "7d96b8a3-9810-49ea-9dc4-b33a73f92749",
   "metadata": {
    "execution": {
     "iopub.execute_input": "2025-07-14T09:55:33.165279Z",
     "iopub.status.busy": "2025-07-14T09:55:33.163935Z",
     "iopub.status.idle": "2025-07-14T09:55:33.169802Z",
     "shell.execute_reply": "2025-07-14T09:55:33.168724Z",
     "shell.execute_reply.started": "2025-07-14T09:55:33.165248Z"
    }
   },
   "outputs": [],
   "source": [
    "sample_values = np.ones((6,2))"
   ]
  },
  {
   "cell_type": "code",
   "execution_count": 65,
   "id": "62d5f926-571e-4a0c-a770-e416fd696063",
   "metadata": {
    "execution": {
     "iopub.execute_input": "2025-07-14T09:55:36.431107Z",
     "iopub.status.busy": "2025-07-14T09:55:36.430786Z",
     "iopub.status.idle": "2025-07-14T09:55:36.436945Z",
     "shell.execute_reply": "2025-07-14T09:55:36.436059Z",
     "shell.execute_reply.started": "2025-07-14T09:55:36.431085Z"
    }
   },
   "outputs": [
    {
     "data": {
      "text/plain": [
       "array([[1., 1.],\n",
       "       [1., 1.],\n",
       "       [1., 1.],\n",
       "       [1., 1.],\n",
       "       [1., 1.],\n",
       "       [1., 1.]])"
      ]
     },
     "execution_count": 65,
     "metadata": {},
     "output_type": "execute_result"
    }
   ],
   "source": [
    "sample_values"
   ]
  },
  {
   "cell_type": "code",
   "execution_count": 68,
   "id": "242e39b1-0510-42c8-a2e0-c2271dc26c44",
   "metadata": {
    "execution": {
     "iopub.execute_input": "2025-07-14T09:57:18.530260Z",
     "iopub.status.busy": "2025-07-14T09:57:18.529941Z",
     "iopub.status.idle": "2025-07-14T09:57:18.536230Z",
     "shell.execute_reply": "2025-07-14T09:57:18.535506Z",
     "shell.execute_reply.started": "2025-07-14T09:57:18.530238Z"
    }
   },
   "outputs": [],
   "source": [
    "big_df = pd.DataFrame(sample_values, index=zipped_index, columns=[\"Age\",\"Salary\"])"
   ]
  },
  {
   "cell_type": "code",
   "execution_count": 69,
   "id": "0cf2d12f-1a57-4a7b-a7f7-686e2ea81432",
   "metadata": {
    "execution": {
     "iopub.execute_input": "2025-07-14T09:57:25.280487Z",
     "iopub.status.busy": "2025-07-14T09:57:25.280176Z",
     "iopub.status.idle": "2025-07-14T09:57:25.293168Z",
     "shell.execute_reply": "2025-07-14T09:57:25.292049Z",
     "shell.execute_reply.started": "2025-07-14T09:57:25.280465Z"
    }
   },
   "outputs": [
    {
     "data": {
      "text/html": [
       "<div>\n",
       "<style scoped>\n",
       "    .dataframe tbody tr th:only-of-type {\n",
       "        vertical-align: middle;\n",
       "    }\n",
       "\n",
       "    .dataframe tbody tr th {\n",
       "        vertical-align: top;\n",
       "    }\n",
       "\n",
       "    .dataframe thead th {\n",
       "        text-align: right;\n",
       "    }\n",
       "</style>\n",
       "<table border=\"1\" class=\"dataframe\">\n",
       "  <thead>\n",
       "    <tr style=\"text-align: right;\">\n",
       "      <th></th>\n",
       "      <th></th>\n",
       "      <th>Age</th>\n",
       "      <th>Salary</th>\n",
       "    </tr>\n",
       "  </thead>\n",
       "  <tbody>\n",
       "    <tr>\n",
       "      <th rowspan=\"3\" valign=\"top\">Simpson</th>\n",
       "      <th>Homer</th>\n",
       "      <td>1.0</td>\n",
       "      <td>1.0</td>\n",
       "    </tr>\n",
       "    <tr>\n",
       "      <th>Bart</th>\n",
       "      <td>1.0</td>\n",
       "      <td>1.0</td>\n",
       "    </tr>\n",
       "    <tr>\n",
       "      <th>Marge</th>\n",
       "      <td>1.0</td>\n",
       "      <td>1.0</td>\n",
       "    </tr>\n",
       "    <tr>\n",
       "      <th rowspan=\"3\" valign=\"top\">South Park</th>\n",
       "      <th>Cartman</th>\n",
       "      <td>1.0</td>\n",
       "      <td>1.0</td>\n",
       "    </tr>\n",
       "    <tr>\n",
       "      <th>Kenny</th>\n",
       "      <td>1.0</td>\n",
       "      <td>1.0</td>\n",
       "    </tr>\n",
       "    <tr>\n",
       "      <th>Kyle</th>\n",
       "      <td>1.0</td>\n",
       "      <td>1.0</td>\n",
       "    </tr>\n",
       "  </tbody>\n",
       "</table>\n",
       "</div>"
      ],
      "text/plain": [
       "                    Age  Salary\n",
       "Simpson    Homer    1.0     1.0\n",
       "           Bart     1.0     1.0\n",
       "           Marge    1.0     1.0\n",
       "South Park Cartman  1.0     1.0\n",
       "           Kenny    1.0     1.0\n",
       "           Kyle     1.0     1.0"
      ]
     },
     "execution_count": 69,
     "metadata": {},
     "output_type": "execute_result"
    }
   ],
   "source": [
    "big_df"
   ]
  },
  {
   "cell_type": "code",
   "execution_count": 71,
   "id": "d3742f61-22b0-4e9c-b4e5-c45a29305ff8",
   "metadata": {
    "execution": {
     "iopub.execute_input": "2025-07-14T09:58:46.653898Z",
     "iopub.status.busy": "2025-07-14T09:58:46.653543Z",
     "iopub.status.idle": "2025-07-14T09:58:46.662935Z",
     "shell.execute_reply": "2025-07-14T09:58:46.661808Z",
     "shell.execute_reply.started": "2025-07-14T09:58:46.653848Z"
    }
   },
   "outputs": [
    {
     "data": {
      "text/plain": [
       "Simpson     Homer      1.0\n",
       "            Bart       1.0\n",
       "            Marge      1.0\n",
       "South Park  Cartman    1.0\n",
       "            Kenny      1.0\n",
       "            Kyle       1.0\n",
       "Name: Age, dtype: float64"
      ]
     },
     "execution_count": 71,
     "metadata": {},
     "output_type": "execute_result"
    }
   ],
   "source": [
    "big_df[\"Age\"]"
   ]
  },
  {
   "cell_type": "code",
   "execution_count": 72,
   "id": "a46f2062-cce1-4da6-9b2b-155d5578f3a8",
   "metadata": {
    "execution": {
     "iopub.execute_input": "2025-07-14T09:59:17.754921Z",
     "iopub.status.busy": "2025-07-14T09:59:17.754134Z",
     "iopub.status.idle": "2025-07-14T09:59:17.765912Z",
     "shell.execute_reply": "2025-07-14T09:59:17.764772Z",
     "shell.execute_reply.started": "2025-07-14T09:59:17.754889Z"
    }
   },
   "outputs": [
    {
     "data": {
      "text/html": [
       "<div>\n",
       "<style scoped>\n",
       "    .dataframe tbody tr th:only-of-type {\n",
       "        vertical-align: middle;\n",
       "    }\n",
       "\n",
       "    .dataframe tbody tr th {\n",
       "        vertical-align: top;\n",
       "    }\n",
       "\n",
       "    .dataframe thead th {\n",
       "        text-align: right;\n",
       "    }\n",
       "</style>\n",
       "<table border=\"1\" class=\"dataframe\">\n",
       "  <thead>\n",
       "    <tr style=\"text-align: right;\">\n",
       "      <th></th>\n",
       "      <th>Age</th>\n",
       "      <th>Salary</th>\n",
       "    </tr>\n",
       "  </thead>\n",
       "  <tbody>\n",
       "    <tr>\n",
       "      <th>Homer</th>\n",
       "      <td>1.0</td>\n",
       "      <td>1.0</td>\n",
       "    </tr>\n",
       "    <tr>\n",
       "      <th>Bart</th>\n",
       "      <td>1.0</td>\n",
       "      <td>1.0</td>\n",
       "    </tr>\n",
       "    <tr>\n",
       "      <th>Marge</th>\n",
       "      <td>1.0</td>\n",
       "      <td>1.0</td>\n",
       "    </tr>\n",
       "  </tbody>\n",
       "</table>\n",
       "</div>"
      ],
      "text/plain": [
       "       Age  Salary\n",
       "Homer  1.0     1.0\n",
       "Bart   1.0     1.0\n",
       "Marge  1.0     1.0"
      ]
     },
     "execution_count": 72,
     "metadata": {},
     "output_type": "execute_result"
    }
   ],
   "source": [
    "big_df.loc[\"Simpson\"]"
   ]
  },
  {
   "cell_type": "code",
   "execution_count": 73,
   "id": "b81ce265-d07d-4478-ae2a-1376aba35d90",
   "metadata": {
    "execution": {
     "iopub.execute_input": "2025-07-14T10:00:42.713231Z",
     "iopub.status.busy": "2025-07-14T10:00:42.712885Z",
     "iopub.status.idle": "2025-07-14T10:00:42.722149Z",
     "shell.execute_reply": "2025-07-14T10:00:42.721190Z",
     "shell.execute_reply.started": "2025-07-14T10:00:42.713209Z"
    }
   },
   "outputs": [
    {
     "data": {
      "text/plain": [
       "Age       1.0\n",
       "Salary    1.0\n",
       "Name: Kyle, dtype: float64"
      ]
     },
     "execution_count": 73,
     "metadata": {},
     "output_type": "execute_result"
    }
   ],
   "source": [
    "big_df.loc[\"South Park\"].loc[\"Kyle\"]"
   ]
  },
  {
   "cell_type": "code",
   "execution_count": null,
   "id": "deff6c8f-9b7b-4f0e-a535-4276121df12e",
   "metadata": {},
   "outputs": [],
   "source": []
  }
 ],
 "metadata": {
  "kernelspec": {
   "display_name": "Python 3 (ipykernel)",
   "language": "python",
   "name": "python3"
  },
  "language_info": {
   "codemirror_mode": {
    "name": "ipython",
    "version": 3
   },
   "file_extension": ".py",
   "mimetype": "text/x-python",
   "name": "python",
   "nbconvert_exporter": "python",
   "pygments_lexer": "ipython3",
   "version": "3.12.9"
  }
 },
 "nbformat": 4,
 "nbformat_minor": 5
}
