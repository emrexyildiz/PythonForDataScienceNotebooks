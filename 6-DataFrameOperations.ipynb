{
 "cells": [
  {
   "cell_type": "code",
   "execution_count": 3,
   "id": "593a238e-9396-4001-a263-efd07f5b5fbf",
   "metadata": {
    "execution": {
     "iopub.execute_input": "2025-07-14T11:43:13.510920Z",
     "iopub.status.busy": "2025-07-14T11:43:13.510422Z",
     "iopub.status.idle": "2025-07-14T11:43:13.514952Z",
     "shell.execute_reply": "2025-07-14T11:43:13.513653Z",
     "shell.execute_reply.started": "2025-07-14T11:43:13.510898Z"
    }
   },
   "outputs": [],
   "source": [
    "import numpy as np\n",
    "import pandas as pd"
   ]
  },
  {
   "cell_type": "code",
   "execution_count": 4,
   "id": "5cea9951-a3e2-4d21-94d9-ff6c60b0ef1b",
   "metadata": {
    "execution": {
     "iopub.execute_input": "2025-07-14T11:43:15.811240Z",
     "iopub.status.busy": "2025-07-14T11:43:15.810529Z",
     "iopub.status.idle": "2025-07-14T11:43:15.980126Z",
     "shell.execute_reply": "2025-07-14T11:43:15.979189Z",
     "shell.execute_reply.started": "2025-07-14T11:43:15.811218Z"
    }
   },
   "outputs": [],
   "source": [
    "weather_df = pd.read_excel('6-weather.xlsx')"
   ]
  },
  {
   "cell_type": "code",
   "execution_count": 5,
   "id": "63798473-64f0-46ec-b805-53fe519f425c",
   "metadata": {
    "execution": {
     "iopub.execute_input": "2025-07-14T11:43:28.329306Z",
     "iopub.status.busy": "2025-07-14T11:43:28.328507Z",
     "iopub.status.idle": "2025-07-14T11:43:28.339933Z",
     "shell.execute_reply": "2025-07-14T11:43:28.338941Z",
     "shell.execute_reply.started": "2025-07-14T11:43:28.329274Z"
    }
   },
   "outputs": [
    {
     "data": {
      "text/html": [
       "<div>\n",
       "<style scoped>\n",
       "    .dataframe tbody tr th:only-of-type {\n",
       "        vertical-align: middle;\n",
       "    }\n",
       "\n",
       "    .dataframe tbody tr th {\n",
       "        vertical-align: top;\n",
       "    }\n",
       "\n",
       "    .dataframe thead th {\n",
       "        text-align: right;\n",
       "    }\n",
       "</style>\n",
       "<table border=\"1\" class=\"dataframe\">\n",
       "  <thead>\n",
       "    <tr style=\"text-align: right;\">\n",
       "      <th></th>\n",
       "      <th>Istanbul</th>\n",
       "      <th>New York</th>\n",
       "      <th>Amsterdam</th>\n",
       "      <th>Paris</th>\n",
       "    </tr>\n",
       "  </thead>\n",
       "  <tbody>\n",
       "    <tr>\n",
       "      <th>0</th>\n",
       "      <td>20</td>\n",
       "      <td>10</td>\n",
       "      <td>15</td>\n",
       "      <td>12</td>\n",
       "    </tr>\n",
       "    <tr>\n",
       "      <th>1</th>\n",
       "      <td>21</td>\n",
       "      <td>10</td>\n",
       "      <td>17</td>\n",
       "      <td>14</td>\n",
       "    </tr>\n",
       "    <tr>\n",
       "      <th>2</th>\n",
       "      <td>20</td>\n",
       "      <td>13</td>\n",
       "      <td>18</td>\n",
       "      <td>15</td>\n",
       "    </tr>\n",
       "    <tr>\n",
       "      <th>3</th>\n",
       "      <td>22</td>\n",
       "      <td>14</td>\n",
       "      <td>19</td>\n",
       "      <td>18</td>\n",
       "    </tr>\n",
       "    <tr>\n",
       "      <th>4</th>\n",
       "      <td>25</td>\n",
       "      <td>15</td>\n",
       "      <td>15</td>\n",
       "      <td>20</td>\n",
       "    </tr>\n",
       "    <tr>\n",
       "      <th>5</th>\n",
       "      <td>28</td>\n",
       "      <td>13</td>\n",
       "      <td>22</td>\n",
       "      <td>16</td>\n",
       "    </tr>\n",
       "    <tr>\n",
       "      <th>6</th>\n",
       "      <td>15</td>\n",
       "      <td>12</td>\n",
       "      <td>15</td>\n",
       "      <td>15</td>\n",
       "    </tr>\n",
       "    <tr>\n",
       "      <th>7</th>\n",
       "      <td>20</td>\n",
       "      <td>15</td>\n",
       "      <td>14</td>\n",
       "      <td>14</td>\n",
       "    </tr>\n",
       "    <tr>\n",
       "      <th>8</th>\n",
       "      <td>22</td>\n",
       "      <td>16</td>\n",
       "      <td>16</td>\n",
       "      <td>16</td>\n",
       "    </tr>\n",
       "  </tbody>\n",
       "</table>\n",
       "</div>"
      ],
      "text/plain": [
       "   Istanbul  New York  Amsterdam  Paris\n",
       "0        20        10         15     12\n",
       "1        21        10         17     14\n",
       "2        20        13         18     15\n",
       "3        22        14         19     18\n",
       "4        25        15         15     20\n",
       "5        28        13         22     16\n",
       "6        15        12         15     15\n",
       "7        20        15         14     14\n",
       "8        22        16         16     16"
      ]
     },
     "execution_count": 5,
     "metadata": {},
     "output_type": "execute_result"
    }
   ],
   "source": [
    "weather_df"
   ]
  },
  {
   "cell_type": "code",
   "execution_count": 6,
   "id": "0b58ff75-7ace-418d-b66f-f760f489b93f",
   "metadata": {
    "execution": {
     "iopub.execute_input": "2025-07-14T11:43:46.662750Z",
     "iopub.status.busy": "2025-07-14T11:43:46.662194Z",
     "iopub.status.idle": "2025-07-14T11:43:46.671894Z",
     "shell.execute_reply": "2025-07-14T11:43:46.671164Z",
     "shell.execute_reply.started": "2025-07-14T11:43:46.662724Z"
    }
   },
   "outputs": [
    {
     "data": {
      "text/html": [
       "<div>\n",
       "<style scoped>\n",
       "    .dataframe tbody tr th:only-of-type {\n",
       "        vertical-align: middle;\n",
       "    }\n",
       "\n",
       "    .dataframe tbody tr th {\n",
       "        vertical-align: top;\n",
       "    }\n",
       "\n",
       "    .dataframe thead th {\n",
       "        text-align: right;\n",
       "    }\n",
       "</style>\n",
       "<table border=\"1\" class=\"dataframe\">\n",
       "  <thead>\n",
       "    <tr style=\"text-align: right;\">\n",
       "      <th></th>\n",
       "      <th>Istanbul</th>\n",
       "      <th>New York</th>\n",
       "      <th>Amsterdam</th>\n",
       "      <th>Paris</th>\n",
       "    </tr>\n",
       "  </thead>\n",
       "  <tbody>\n",
       "    <tr>\n",
       "      <th>0</th>\n",
       "      <td>20</td>\n",
       "      <td>10</td>\n",
       "      <td>15</td>\n",
       "      <td>12</td>\n",
       "    </tr>\n",
       "    <tr>\n",
       "      <th>1</th>\n",
       "      <td>21</td>\n",
       "      <td>10</td>\n",
       "      <td>17</td>\n",
       "      <td>14</td>\n",
       "    </tr>\n",
       "    <tr>\n",
       "      <th>2</th>\n",
       "      <td>20</td>\n",
       "      <td>13</td>\n",
       "      <td>18</td>\n",
       "      <td>15</td>\n",
       "    </tr>\n",
       "    <tr>\n",
       "      <th>3</th>\n",
       "      <td>22</td>\n",
       "      <td>14</td>\n",
       "      <td>19</td>\n",
       "      <td>18</td>\n",
       "    </tr>\n",
       "    <tr>\n",
       "      <th>4</th>\n",
       "      <td>25</td>\n",
       "      <td>15</td>\n",
       "      <td>15</td>\n",
       "      <td>20</td>\n",
       "    </tr>\n",
       "  </tbody>\n",
       "</table>\n",
       "</div>"
      ],
      "text/plain": [
       "   Istanbul  New York  Amsterdam  Paris\n",
       "0        20        10         15     12\n",
       "1        21        10         17     14\n",
       "2        20        13         18     15\n",
       "3        22        14         19     18\n",
       "4        25        15         15     20"
      ]
     },
     "execution_count": 6,
     "metadata": {},
     "output_type": "execute_result"
    }
   ],
   "source": [
    "weather_df.head()"
   ]
  },
  {
   "cell_type": "code",
   "execution_count": 7,
   "id": "71b04723-d92e-47fe-bb93-6b9f26c4bd7e",
   "metadata": {
    "execution": {
     "iopub.execute_input": "2025-07-14T11:43:55.833872Z",
     "iopub.status.busy": "2025-07-14T11:43:55.833436Z",
     "iopub.status.idle": "2025-07-14T11:43:55.842469Z",
     "shell.execute_reply": "2025-07-14T11:43:55.840964Z",
     "shell.execute_reply.started": "2025-07-14T11:43:55.833846Z"
    }
   },
   "outputs": [
    {
     "data": {
      "text/html": [
       "<div>\n",
       "<style scoped>\n",
       "    .dataframe tbody tr th:only-of-type {\n",
       "        vertical-align: middle;\n",
       "    }\n",
       "\n",
       "    .dataframe tbody tr th {\n",
       "        vertical-align: top;\n",
       "    }\n",
       "\n",
       "    .dataframe thead th {\n",
       "        text-align: right;\n",
       "    }\n",
       "</style>\n",
       "<table border=\"1\" class=\"dataframe\">\n",
       "  <thead>\n",
       "    <tr style=\"text-align: right;\">\n",
       "      <th></th>\n",
       "      <th>Istanbul</th>\n",
       "      <th>New York</th>\n",
       "      <th>Amsterdam</th>\n",
       "      <th>Paris</th>\n",
       "    </tr>\n",
       "  </thead>\n",
       "  <tbody>\n",
       "    <tr>\n",
       "      <th>4</th>\n",
       "      <td>25</td>\n",
       "      <td>15</td>\n",
       "      <td>15</td>\n",
       "      <td>20</td>\n",
       "    </tr>\n",
       "    <tr>\n",
       "      <th>5</th>\n",
       "      <td>28</td>\n",
       "      <td>13</td>\n",
       "      <td>22</td>\n",
       "      <td>16</td>\n",
       "    </tr>\n",
       "    <tr>\n",
       "      <th>6</th>\n",
       "      <td>15</td>\n",
       "      <td>12</td>\n",
       "      <td>15</td>\n",
       "      <td>15</td>\n",
       "    </tr>\n",
       "    <tr>\n",
       "      <th>7</th>\n",
       "      <td>20</td>\n",
       "      <td>15</td>\n",
       "      <td>14</td>\n",
       "      <td>14</td>\n",
       "    </tr>\n",
       "    <tr>\n",
       "      <th>8</th>\n",
       "      <td>22</td>\n",
       "      <td>16</td>\n",
       "      <td>16</td>\n",
       "      <td>16</td>\n",
       "    </tr>\n",
       "  </tbody>\n",
       "</table>\n",
       "</div>"
      ],
      "text/plain": [
       "   Istanbul  New York  Amsterdam  Paris\n",
       "4        25        15         15     20\n",
       "5        28        13         22     16\n",
       "6        15        12         15     15\n",
       "7        20        15         14     14\n",
       "8        22        16         16     16"
      ]
     },
     "execution_count": 7,
     "metadata": {},
     "output_type": "execute_result"
    }
   ],
   "source": [
    "weather_df.tail()"
   ]
  },
  {
   "cell_type": "code",
   "execution_count": 9,
   "id": "c68f0c2d-9c2a-4fe6-a5a9-e337b496e882",
   "metadata": {
    "execution": {
     "iopub.execute_input": "2025-07-14T11:44:26.981465Z",
     "iopub.status.busy": "2025-07-14T11:44:26.981137Z",
     "iopub.status.idle": "2025-07-14T11:44:27.003349Z",
     "shell.execute_reply": "2025-07-14T11:44:27.002191Z",
     "shell.execute_reply.started": "2025-07-14T11:44:26.981442Z"
    }
   },
   "outputs": [
    {
     "data": {
      "text/html": [
       "<div>\n",
       "<style scoped>\n",
       "    .dataframe tbody tr th:only-of-type {\n",
       "        vertical-align: middle;\n",
       "    }\n",
       "\n",
       "    .dataframe tbody tr th {\n",
       "        vertical-align: top;\n",
       "    }\n",
       "\n",
       "    .dataframe thead th {\n",
       "        text-align: right;\n",
       "    }\n",
       "</style>\n",
       "<table border=\"1\" class=\"dataframe\">\n",
       "  <thead>\n",
       "    <tr style=\"text-align: right;\">\n",
       "      <th></th>\n",
       "      <th>Istanbul</th>\n",
       "      <th>New York</th>\n",
       "      <th>Amsterdam</th>\n",
       "      <th>Paris</th>\n",
       "    </tr>\n",
       "  </thead>\n",
       "  <tbody>\n",
       "    <tr>\n",
       "      <th>count</th>\n",
       "      <td>9.000000</td>\n",
       "      <td>9.000000</td>\n",
       "      <td>9.000000</td>\n",
       "      <td>9.000000</td>\n",
       "    </tr>\n",
       "    <tr>\n",
       "      <th>mean</th>\n",
       "      <td>21.444444</td>\n",
       "      <td>13.111111</td>\n",
       "      <td>16.777778</td>\n",
       "      <td>15.555556</td>\n",
       "    </tr>\n",
       "    <tr>\n",
       "      <th>std</th>\n",
       "      <td>3.609401</td>\n",
       "      <td>2.147350</td>\n",
       "      <td>2.538591</td>\n",
       "      <td>2.351123</td>\n",
       "    </tr>\n",
       "    <tr>\n",
       "      <th>min</th>\n",
       "      <td>15.000000</td>\n",
       "      <td>10.000000</td>\n",
       "      <td>14.000000</td>\n",
       "      <td>12.000000</td>\n",
       "    </tr>\n",
       "    <tr>\n",
       "      <th>25%</th>\n",
       "      <td>20.000000</td>\n",
       "      <td>12.000000</td>\n",
       "      <td>15.000000</td>\n",
       "      <td>14.000000</td>\n",
       "    </tr>\n",
       "    <tr>\n",
       "      <th>50%</th>\n",
       "      <td>21.000000</td>\n",
       "      <td>13.000000</td>\n",
       "      <td>16.000000</td>\n",
       "      <td>15.000000</td>\n",
       "    </tr>\n",
       "    <tr>\n",
       "      <th>75%</th>\n",
       "      <td>22.000000</td>\n",
       "      <td>15.000000</td>\n",
       "      <td>18.000000</td>\n",
       "      <td>16.000000</td>\n",
       "    </tr>\n",
       "    <tr>\n",
       "      <th>max</th>\n",
       "      <td>28.000000</td>\n",
       "      <td>16.000000</td>\n",
       "      <td>22.000000</td>\n",
       "      <td>20.000000</td>\n",
       "    </tr>\n",
       "  </tbody>\n",
       "</table>\n",
       "</div>"
      ],
      "text/plain": [
       "        Istanbul   New York  Amsterdam      Paris\n",
       "count   9.000000   9.000000   9.000000   9.000000\n",
       "mean   21.444444  13.111111  16.777778  15.555556\n",
       "std     3.609401   2.147350   2.538591   2.351123\n",
       "min    15.000000  10.000000  14.000000  12.000000\n",
       "25%    20.000000  12.000000  15.000000  14.000000\n",
       "50%    21.000000  13.000000  16.000000  15.000000\n",
       "75%    22.000000  15.000000  18.000000  16.000000\n",
       "max    28.000000  16.000000  22.000000  20.000000"
      ]
     },
     "execution_count": 9,
     "metadata": {},
     "output_type": "execute_result"
    }
   ],
   "source": [
    "weather_df.describe()"
   ]
  },
  {
   "cell_type": "code",
   "execution_count": 10,
   "id": "8ff76600-3560-45e7-adcc-663034a9d8f7",
   "metadata": {
    "execution": {
     "iopub.execute_input": "2025-07-14T11:44:41.563152Z",
     "iopub.status.busy": "2025-07-14T11:44:41.562804Z",
     "iopub.status.idle": "2025-07-14T11:44:41.573326Z",
     "shell.execute_reply": "2025-07-14T11:44:41.571255Z",
     "shell.execute_reply.started": "2025-07-14T11:44:41.563129Z"
    }
   },
   "outputs": [
    {
     "data": {
      "text/plain": [
       "Istanbul     9\n",
       "New York     9\n",
       "Amsterdam    9\n",
       "Paris        9\n",
       "dtype: int64"
      ]
     },
     "execution_count": 10,
     "metadata": {},
     "output_type": "execute_result"
    }
   ],
   "source": [
    "weather_df.count()\n"
   ]
  },
  {
   "cell_type": "code",
   "execution_count": 11,
   "id": "56204ac9-3de8-413f-9dc9-a585fe23892a",
   "metadata": {
    "execution": {
     "iopub.execute_input": "2025-07-14T11:45:23.000771Z",
     "iopub.status.busy": "2025-07-14T11:45:23.000445Z",
     "iopub.status.idle": "2025-07-14T11:45:23.011518Z",
     "shell.execute_reply": "2025-07-14T11:45:23.010571Z",
     "shell.execute_reply.started": "2025-07-14T11:45:23.000747Z"
    }
   },
   "outputs": [
    {
     "data": {
      "text/html": [
       "<div>\n",
       "<style scoped>\n",
       "    .dataframe tbody tr th:only-of-type {\n",
       "        vertical-align: middle;\n",
       "    }\n",
       "\n",
       "    .dataframe tbody tr th {\n",
       "        vertical-align: top;\n",
       "    }\n",
       "\n",
       "    .dataframe thead th {\n",
       "        text-align: right;\n",
       "    }\n",
       "</style>\n",
       "<table border=\"1\" class=\"dataframe\">\n",
       "  <thead>\n",
       "    <tr style=\"text-align: right;\">\n",
       "      <th></th>\n",
       "      <th>Istanbul</th>\n",
       "      <th>New York</th>\n",
       "      <th>Amsterdam</th>\n",
       "      <th>Paris</th>\n",
       "    </tr>\n",
       "  </thead>\n",
       "  <tbody>\n",
       "    <tr>\n",
       "      <th>0</th>\n",
       "      <td>False</td>\n",
       "      <td>False</td>\n",
       "      <td>False</td>\n",
       "      <td>False</td>\n",
       "    </tr>\n",
       "    <tr>\n",
       "      <th>1</th>\n",
       "      <td>False</td>\n",
       "      <td>False</td>\n",
       "      <td>False</td>\n",
       "      <td>False</td>\n",
       "    </tr>\n",
       "    <tr>\n",
       "      <th>2</th>\n",
       "      <td>False</td>\n",
       "      <td>False</td>\n",
       "      <td>False</td>\n",
       "      <td>False</td>\n",
       "    </tr>\n",
       "    <tr>\n",
       "      <th>3</th>\n",
       "      <td>False</td>\n",
       "      <td>False</td>\n",
       "      <td>False</td>\n",
       "      <td>False</td>\n",
       "    </tr>\n",
       "    <tr>\n",
       "      <th>4</th>\n",
       "      <td>False</td>\n",
       "      <td>False</td>\n",
       "      <td>False</td>\n",
       "      <td>False</td>\n",
       "    </tr>\n",
       "    <tr>\n",
       "      <th>5</th>\n",
       "      <td>False</td>\n",
       "      <td>False</td>\n",
       "      <td>False</td>\n",
       "      <td>False</td>\n",
       "    </tr>\n",
       "    <tr>\n",
       "      <th>6</th>\n",
       "      <td>False</td>\n",
       "      <td>False</td>\n",
       "      <td>False</td>\n",
       "      <td>False</td>\n",
       "    </tr>\n",
       "    <tr>\n",
       "      <th>7</th>\n",
       "      <td>False</td>\n",
       "      <td>False</td>\n",
       "      <td>False</td>\n",
       "      <td>False</td>\n",
       "    </tr>\n",
       "    <tr>\n",
       "      <th>8</th>\n",
       "      <td>False</td>\n",
       "      <td>False</td>\n",
       "      <td>False</td>\n",
       "      <td>False</td>\n",
       "    </tr>\n",
       "  </tbody>\n",
       "</table>\n",
       "</div>"
      ],
      "text/plain": [
       "   Istanbul  New York  Amsterdam  Paris\n",
       "0     False     False      False  False\n",
       "1     False     False      False  False\n",
       "2     False     False      False  False\n",
       "3     False     False      False  False\n",
       "4     False     False      False  False\n",
       "5     False     False      False  False\n",
       "6     False     False      False  False\n",
       "7     False     False      False  False\n",
       "8     False     False      False  False"
      ]
     },
     "execution_count": 11,
     "metadata": {},
     "output_type": "execute_result"
    }
   ],
   "source": [
    "weather_df.isna()"
   ]
  },
  {
   "cell_type": "code",
   "execution_count": 12,
   "id": "6499dd44-cac3-4607-8dfc-584dc1b76a41",
   "metadata": {
    "execution": {
     "iopub.execute_input": "2025-07-14T11:45:49.822256Z",
     "iopub.status.busy": "2025-07-14T11:45:49.821700Z",
     "iopub.status.idle": "2025-07-14T11:45:49.826805Z",
     "shell.execute_reply": "2025-07-14T11:45:49.825920Z",
     "shell.execute_reply.started": "2025-07-14T11:45:49.822225Z"
    }
   },
   "outputs": [],
   "source": [
    "# working with missing data"
   ]
  },
  {
   "cell_type": "code",
   "execution_count": 13,
   "id": "65d65777-2288-4fe3-b20a-fb7d57a1b751",
   "metadata": {
    "execution": {
     "iopub.execute_input": "2025-07-14T11:46:28.500515Z",
     "iopub.status.busy": "2025-07-14T11:46:28.499198Z",
     "iopub.status.idle": "2025-07-14T11:46:28.533084Z",
     "shell.execute_reply": "2025-07-14T11:46:28.531299Z",
     "shell.execute_reply.started": "2025-07-14T11:46:28.500483Z"
    }
   },
   "outputs": [],
   "source": [
    "weather_na_df = pd.read_excel('6-weatherna.xlsx')"
   ]
  },
  {
   "cell_type": "code",
   "execution_count": 14,
   "id": "2696f96a-b47a-4a6e-89e8-94effb9233f5",
   "metadata": {
    "execution": {
     "iopub.execute_input": "2025-07-14T11:46:34.625843Z",
     "iopub.status.busy": "2025-07-14T11:46:34.624886Z",
     "iopub.status.idle": "2025-07-14T11:46:34.638672Z",
     "shell.execute_reply": "2025-07-14T11:46:34.637681Z",
     "shell.execute_reply.started": "2025-07-14T11:46:34.625817Z"
    }
   },
   "outputs": [
    {
     "data": {
      "text/html": [
       "<div>\n",
       "<style scoped>\n",
       "    .dataframe tbody tr th:only-of-type {\n",
       "        vertical-align: middle;\n",
       "    }\n",
       "\n",
       "    .dataframe tbody tr th {\n",
       "        vertical-align: top;\n",
       "    }\n",
       "\n",
       "    .dataframe thead th {\n",
       "        text-align: right;\n",
       "    }\n",
       "</style>\n",
       "<table border=\"1\" class=\"dataframe\">\n",
       "  <thead>\n",
       "    <tr style=\"text-align: right;\">\n",
       "      <th></th>\n",
       "      <th>Istanbul</th>\n",
       "      <th>New York</th>\n",
       "      <th>Amsterdam</th>\n",
       "      <th>Paris</th>\n",
       "    </tr>\n",
       "  </thead>\n",
       "  <tbody>\n",
       "    <tr>\n",
       "      <th>0</th>\n",
       "      <td>20.0</td>\n",
       "      <td>10.0</td>\n",
       "      <td>15.0</td>\n",
       "      <td>12.0</td>\n",
       "    </tr>\n",
       "    <tr>\n",
       "      <th>1</th>\n",
       "      <td>21.0</td>\n",
       "      <td>10.0</td>\n",
       "      <td>NaN</td>\n",
       "      <td>14.0</td>\n",
       "    </tr>\n",
       "    <tr>\n",
       "      <th>2</th>\n",
       "      <td>NaN</td>\n",
       "      <td>13.0</td>\n",
       "      <td>18.0</td>\n",
       "      <td>15.0</td>\n",
       "    </tr>\n",
       "    <tr>\n",
       "      <th>3</th>\n",
       "      <td>22.0</td>\n",
       "      <td>14.0</td>\n",
       "      <td>19.0</td>\n",
       "      <td>18.0</td>\n",
       "    </tr>\n",
       "    <tr>\n",
       "      <th>4</th>\n",
       "      <td>25.0</td>\n",
       "      <td>15.0</td>\n",
       "      <td>15.0</td>\n",
       "      <td>20.0</td>\n",
       "    </tr>\n",
       "    <tr>\n",
       "      <th>5</th>\n",
       "      <td>28.0</td>\n",
       "      <td>NaN</td>\n",
       "      <td>22.0</td>\n",
       "      <td>NaN</td>\n",
       "    </tr>\n",
       "    <tr>\n",
       "      <th>6</th>\n",
       "      <td>15.0</td>\n",
       "      <td>12.0</td>\n",
       "      <td>15.0</td>\n",
       "      <td>15.0</td>\n",
       "    </tr>\n",
       "    <tr>\n",
       "      <th>7</th>\n",
       "      <td>20.0</td>\n",
       "      <td>15.0</td>\n",
       "      <td>14.0</td>\n",
       "      <td>NaN</td>\n",
       "    </tr>\n",
       "    <tr>\n",
       "      <th>8</th>\n",
       "      <td>22.0</td>\n",
       "      <td>16.0</td>\n",
       "      <td>16.0</td>\n",
       "      <td>NaN</td>\n",
       "    </tr>\n",
       "  </tbody>\n",
       "</table>\n",
       "</div>"
      ],
      "text/plain": [
       "   Istanbul  New York  Amsterdam  Paris\n",
       "0      20.0      10.0       15.0   12.0\n",
       "1      21.0      10.0        NaN   14.0\n",
       "2       NaN      13.0       18.0   15.0\n",
       "3      22.0      14.0       19.0   18.0\n",
       "4      25.0      15.0       15.0   20.0\n",
       "5      28.0       NaN       22.0    NaN\n",
       "6      15.0      12.0       15.0   15.0\n",
       "7      20.0      15.0       14.0    NaN\n",
       "8      22.0      16.0       16.0    NaN"
      ]
     },
     "execution_count": 14,
     "metadata": {},
     "output_type": "execute_result"
    }
   ],
   "source": [
    "weather_na_df"
   ]
  },
  {
   "cell_type": "code",
   "execution_count": 15,
   "id": "faa71708-d88e-47f0-be0b-21eb21841920",
   "metadata": {
    "execution": {
     "iopub.execute_input": "2025-07-14T11:48:25.249005Z",
     "iopub.status.busy": "2025-07-14T11:48:25.248401Z",
     "iopub.status.idle": "2025-07-14T11:48:25.259310Z",
     "shell.execute_reply": "2025-07-14T11:48:25.258370Z",
     "shell.execute_reply.started": "2025-07-14T11:48:25.248980Z"
    }
   },
   "outputs": [
    {
     "data": {
      "text/html": [
       "<div>\n",
       "<style scoped>\n",
       "    .dataframe tbody tr th:only-of-type {\n",
       "        vertical-align: middle;\n",
       "    }\n",
       "\n",
       "    .dataframe tbody tr th {\n",
       "        vertical-align: top;\n",
       "    }\n",
       "\n",
       "    .dataframe thead th {\n",
       "        text-align: right;\n",
       "    }\n",
       "</style>\n",
       "<table border=\"1\" class=\"dataframe\">\n",
       "  <thead>\n",
       "    <tr style=\"text-align: right;\">\n",
       "      <th></th>\n",
       "      <th>Istanbul</th>\n",
       "      <th>New York</th>\n",
       "      <th>Amsterdam</th>\n",
       "      <th>Paris</th>\n",
       "    </tr>\n",
       "  </thead>\n",
       "  <tbody>\n",
       "    <tr>\n",
       "      <th>0</th>\n",
       "      <td>False</td>\n",
       "      <td>False</td>\n",
       "      <td>False</td>\n",
       "      <td>False</td>\n",
       "    </tr>\n",
       "    <tr>\n",
       "      <th>1</th>\n",
       "      <td>False</td>\n",
       "      <td>False</td>\n",
       "      <td>True</td>\n",
       "      <td>False</td>\n",
       "    </tr>\n",
       "    <tr>\n",
       "      <th>2</th>\n",
       "      <td>True</td>\n",
       "      <td>False</td>\n",
       "      <td>False</td>\n",
       "      <td>False</td>\n",
       "    </tr>\n",
       "    <tr>\n",
       "      <th>3</th>\n",
       "      <td>False</td>\n",
       "      <td>False</td>\n",
       "      <td>False</td>\n",
       "      <td>False</td>\n",
       "    </tr>\n",
       "    <tr>\n",
       "      <th>4</th>\n",
       "      <td>False</td>\n",
       "      <td>False</td>\n",
       "      <td>False</td>\n",
       "      <td>False</td>\n",
       "    </tr>\n",
       "    <tr>\n",
       "      <th>5</th>\n",
       "      <td>False</td>\n",
       "      <td>True</td>\n",
       "      <td>False</td>\n",
       "      <td>True</td>\n",
       "    </tr>\n",
       "    <tr>\n",
       "      <th>6</th>\n",
       "      <td>False</td>\n",
       "      <td>False</td>\n",
       "      <td>False</td>\n",
       "      <td>False</td>\n",
       "    </tr>\n",
       "    <tr>\n",
       "      <th>7</th>\n",
       "      <td>False</td>\n",
       "      <td>False</td>\n",
       "      <td>False</td>\n",
       "      <td>True</td>\n",
       "    </tr>\n",
       "    <tr>\n",
       "      <th>8</th>\n",
       "      <td>False</td>\n",
       "      <td>False</td>\n",
       "      <td>False</td>\n",
       "      <td>True</td>\n",
       "    </tr>\n",
       "  </tbody>\n",
       "</table>\n",
       "</div>"
      ],
      "text/plain": [
       "   Istanbul  New York  Amsterdam  Paris\n",
       "0     False     False      False  False\n",
       "1     False     False       True  False\n",
       "2      True     False      False  False\n",
       "3     False     False      False  False\n",
       "4     False     False      False  False\n",
       "5     False      True      False   True\n",
       "6     False     False      False  False\n",
       "7     False     False      False   True\n",
       "8     False     False      False   True"
      ]
     },
     "execution_count": 15,
     "metadata": {},
     "output_type": "execute_result"
    }
   ],
   "source": [
    "weather_na_df.isna()                          # eksik datalari belirtir .isna"
   ]
  },
  {
   "cell_type": "code",
   "execution_count": 16,
   "id": "aa402437-e324-48c6-b983-ee37f78d528a",
   "metadata": {
    "execution": {
     "iopub.execute_input": "2025-07-14T11:51:49.551562Z",
     "iopub.status.busy": "2025-07-14T11:51:49.550302Z",
     "iopub.status.idle": "2025-07-14T11:51:49.560117Z",
     "shell.execute_reply": "2025-07-14T11:51:49.558675Z",
     "shell.execute_reply.started": "2025-07-14T11:51:49.551527Z"
    }
   },
   "outputs": [
    {
     "data": {
      "text/plain": [
       "0    12.0\n",
       "1    14.0\n",
       "2    15.0\n",
       "3    18.0\n",
       "4    20.0\n",
       "5     NaN\n",
       "6    15.0\n",
       "7     NaN\n",
       "8     NaN\n",
       "Name: Paris, dtype: float64"
      ]
     },
     "execution_count": 16,
     "metadata": {},
     "output_type": "execute_result"
    }
   ],
   "source": [
    "weather_na_df['Paris']"
   ]
  },
  {
   "cell_type": "code",
   "execution_count": 17,
   "id": "73f32bd5-b39d-4e56-84f8-aa074542adbd",
   "metadata": {
    "execution": {
     "iopub.execute_input": "2025-07-14T11:53:12.566195Z",
     "iopub.status.busy": "2025-07-14T11:53:12.565191Z",
     "iopub.status.idle": "2025-07-14T11:53:12.580599Z",
     "shell.execute_reply": "2025-07-14T11:53:12.579274Z",
     "shell.execute_reply.started": "2025-07-14T11:53:12.566165Z"
    }
   },
   "outputs": [
    {
     "data": {
      "text/html": [
       "<div>\n",
       "<style scoped>\n",
       "    .dataframe tbody tr th:only-of-type {\n",
       "        vertical-align: middle;\n",
       "    }\n",
       "\n",
       "    .dataframe tbody tr th {\n",
       "        vertical-align: top;\n",
       "    }\n",
       "\n",
       "    .dataframe thead th {\n",
       "        text-align: right;\n",
       "    }\n",
       "</style>\n",
       "<table border=\"1\" class=\"dataframe\">\n",
       "  <thead>\n",
       "    <tr style=\"text-align: right;\">\n",
       "      <th></th>\n",
       "      <th>Istanbul</th>\n",
       "      <th>New York</th>\n",
       "      <th>Amsterdam</th>\n",
       "      <th>Paris</th>\n",
       "    </tr>\n",
       "  </thead>\n",
       "  <tbody>\n",
       "    <tr>\n",
       "      <th>0</th>\n",
       "      <td>20.0</td>\n",
       "      <td>10.0</td>\n",
       "      <td>15.0</td>\n",
       "      <td>12.0</td>\n",
       "    </tr>\n",
       "    <tr>\n",
       "      <th>1</th>\n",
       "      <td>21.0</td>\n",
       "      <td>10.0</td>\n",
       "      <td>NaN</td>\n",
       "      <td>14.0</td>\n",
       "    </tr>\n",
       "    <tr>\n",
       "      <th>2</th>\n",
       "      <td>NaN</td>\n",
       "      <td>13.0</td>\n",
       "      <td>18.0</td>\n",
       "      <td>15.0</td>\n",
       "    </tr>\n",
       "    <tr>\n",
       "      <th>3</th>\n",
       "      <td>22.0</td>\n",
       "      <td>14.0</td>\n",
       "      <td>19.0</td>\n",
       "      <td>18.0</td>\n",
       "    </tr>\n",
       "    <tr>\n",
       "      <th>4</th>\n",
       "      <td>25.0</td>\n",
       "      <td>15.0</td>\n",
       "      <td>15.0</td>\n",
       "      <td>20.0</td>\n",
       "    </tr>\n",
       "    <tr>\n",
       "      <th>5</th>\n",
       "      <td>28.0</td>\n",
       "      <td>NaN</td>\n",
       "      <td>22.0</td>\n",
       "      <td>NaN</td>\n",
       "    </tr>\n",
       "    <tr>\n",
       "      <th>6</th>\n",
       "      <td>15.0</td>\n",
       "      <td>12.0</td>\n",
       "      <td>15.0</td>\n",
       "      <td>15.0</td>\n",
       "    </tr>\n",
       "    <tr>\n",
       "      <th>7</th>\n",
       "      <td>20.0</td>\n",
       "      <td>15.0</td>\n",
       "      <td>14.0</td>\n",
       "      <td>NaN</td>\n",
       "    </tr>\n",
       "    <tr>\n",
       "      <th>8</th>\n",
       "      <td>22.0</td>\n",
       "      <td>16.0</td>\n",
       "      <td>16.0</td>\n",
       "      <td>NaN</td>\n",
       "    </tr>\n",
       "  </tbody>\n",
       "</table>\n",
       "</div>"
      ],
      "text/plain": [
       "   Istanbul  New York  Amsterdam  Paris\n",
       "0      20.0      10.0       15.0   12.0\n",
       "1      21.0      10.0        NaN   14.0\n",
       "2       NaN      13.0       18.0   15.0\n",
       "3      22.0      14.0       19.0   18.0\n",
       "4      25.0      15.0       15.0   20.0\n",
       "5      28.0       NaN       22.0    NaN\n",
       "6      15.0      12.0       15.0   15.0\n",
       "7      20.0      15.0       14.0    NaN\n",
       "8      22.0      16.0       16.0    NaN"
      ]
     },
     "execution_count": 17,
     "metadata": {},
     "output_type": "execute_result"
    }
   ],
   "source": [
    "weather_na_df"
   ]
  },
  {
   "cell_type": "code",
   "execution_count": 19,
   "id": "a859ee2e-d432-40f8-af57-7e2f784a9491",
   "metadata": {
    "execution": {
     "iopub.execute_input": "2025-07-14T11:53:35.726153Z",
     "iopub.status.busy": "2025-07-14T11:53:35.725685Z",
     "iopub.status.idle": "2025-07-14T11:53:35.737157Z",
     "shell.execute_reply": "2025-07-14T11:53:35.735741Z",
     "shell.execute_reply.started": "2025-07-14T11:53:35.726128Z"
    }
   },
   "outputs": [
    {
     "data": {
      "text/html": [
       "<div>\n",
       "<style scoped>\n",
       "    .dataframe tbody tr th:only-of-type {\n",
       "        vertical-align: middle;\n",
       "    }\n",
       "\n",
       "    .dataframe tbody tr th {\n",
       "        vertical-align: top;\n",
       "    }\n",
       "\n",
       "    .dataframe thead th {\n",
       "        text-align: right;\n",
       "    }\n",
       "</style>\n",
       "<table border=\"1\" class=\"dataframe\">\n",
       "  <thead>\n",
       "    <tr style=\"text-align: right;\">\n",
       "      <th></th>\n",
       "      <th>Istanbul</th>\n",
       "      <th>New York</th>\n",
       "      <th>Amsterdam</th>\n",
       "      <th>Paris</th>\n",
       "    </tr>\n",
       "  </thead>\n",
       "  <tbody>\n",
       "    <tr>\n",
       "      <th>0</th>\n",
       "      <td>20.0</td>\n",
       "      <td>10.0</td>\n",
       "      <td>15.0</td>\n",
       "      <td>12.0</td>\n",
       "    </tr>\n",
       "    <tr>\n",
       "      <th>3</th>\n",
       "      <td>22.0</td>\n",
       "      <td>14.0</td>\n",
       "      <td>19.0</td>\n",
       "      <td>18.0</td>\n",
       "    </tr>\n",
       "    <tr>\n",
       "      <th>4</th>\n",
       "      <td>25.0</td>\n",
       "      <td>15.0</td>\n",
       "      <td>15.0</td>\n",
       "      <td>20.0</td>\n",
       "    </tr>\n",
       "    <tr>\n",
       "      <th>6</th>\n",
       "      <td>15.0</td>\n",
       "      <td>12.0</td>\n",
       "      <td>15.0</td>\n",
       "      <td>15.0</td>\n",
       "    </tr>\n",
       "  </tbody>\n",
       "</table>\n",
       "</div>"
      ],
      "text/plain": [
       "   Istanbul  New York  Amsterdam  Paris\n",
       "0      20.0      10.0       15.0   12.0\n",
       "3      22.0      14.0       19.0   18.0\n",
       "4      25.0      15.0       15.0   20.0\n",
       "6      15.0      12.0       15.0   15.0"
      ]
     },
     "execution_count": 19,
     "metadata": {},
     "output_type": "execute_result"
    }
   ],
   "source": [
    "weather_na_df.dropna()                  ### eksik datalarin bulundugu row lari kaldirir."
   ]
  },
  {
   "cell_type": "code",
   "execution_count": 23,
   "id": "418e4776-1d57-46f4-8e94-6a5d383b727d",
   "metadata": {
    "execution": {
     "iopub.execute_input": "2025-07-14T11:56:44.376471Z",
     "iopub.status.busy": "2025-07-14T11:56:44.375390Z",
     "iopub.status.idle": "2025-07-14T11:56:44.389815Z",
     "shell.execute_reply": "2025-07-14T11:56:44.388416Z",
     "shell.execute_reply.started": "2025-07-14T11:56:44.376427Z"
    }
   },
   "outputs": [
    {
     "data": {
      "text/html": [
       "<div>\n",
       "<style scoped>\n",
       "    .dataframe tbody tr th:only-of-type {\n",
       "        vertical-align: middle;\n",
       "    }\n",
       "\n",
       "    .dataframe tbody tr th {\n",
       "        vertical-align: top;\n",
       "    }\n",
       "\n",
       "    .dataframe thead th {\n",
       "        text-align: right;\n",
       "    }\n",
       "</style>\n",
       "<table border=\"1\" class=\"dataframe\">\n",
       "  <thead>\n",
       "    <tr style=\"text-align: right;\">\n",
       "      <th></th>\n",
       "      <th>Istanbul</th>\n",
       "      <th>New York</th>\n",
       "      <th>Amsterdam</th>\n",
       "    </tr>\n",
       "  </thead>\n",
       "  <tbody>\n",
       "    <tr>\n",
       "      <th>0</th>\n",
       "      <td>20.0</td>\n",
       "      <td>10.0</td>\n",
       "      <td>15.0</td>\n",
       "    </tr>\n",
       "    <tr>\n",
       "      <th>1</th>\n",
       "      <td>21.0</td>\n",
       "      <td>10.0</td>\n",
       "      <td>NaN</td>\n",
       "    </tr>\n",
       "    <tr>\n",
       "      <th>2</th>\n",
       "      <td>NaN</td>\n",
       "      <td>13.0</td>\n",
       "      <td>18.0</td>\n",
       "    </tr>\n",
       "    <tr>\n",
       "      <th>3</th>\n",
       "      <td>22.0</td>\n",
       "      <td>14.0</td>\n",
       "      <td>19.0</td>\n",
       "    </tr>\n",
       "    <tr>\n",
       "      <th>4</th>\n",
       "      <td>25.0</td>\n",
       "      <td>15.0</td>\n",
       "      <td>15.0</td>\n",
       "    </tr>\n",
       "    <tr>\n",
       "      <th>5</th>\n",
       "      <td>28.0</td>\n",
       "      <td>NaN</td>\n",
       "      <td>22.0</td>\n",
       "    </tr>\n",
       "    <tr>\n",
       "      <th>6</th>\n",
       "      <td>15.0</td>\n",
       "      <td>12.0</td>\n",
       "      <td>15.0</td>\n",
       "    </tr>\n",
       "    <tr>\n",
       "      <th>7</th>\n",
       "      <td>20.0</td>\n",
       "      <td>15.0</td>\n",
       "      <td>14.0</td>\n",
       "    </tr>\n",
       "    <tr>\n",
       "      <th>8</th>\n",
       "      <td>22.0</td>\n",
       "      <td>16.0</td>\n",
       "      <td>16.0</td>\n",
       "    </tr>\n",
       "  </tbody>\n",
       "</table>\n",
       "</div>"
      ],
      "text/plain": [
       "   Istanbul  New York  Amsterdam\n",
       "0      20.0      10.0       15.0\n",
       "1      21.0      10.0        NaN\n",
       "2       NaN      13.0       18.0\n",
       "3      22.0      14.0       19.0\n",
       "4      25.0      15.0       15.0\n",
       "5      28.0       NaN       22.0\n",
       "6      15.0      12.0       15.0\n",
       "7      20.0      15.0       14.0\n",
       "8      22.0      16.0       16.0"
      ]
     },
     "execution_count": 23,
     "metadata": {},
     "output_type": "execute_result"
    }
   ],
   "source": [
    "weather_na_df.drop('Paris', axis = 1)        ### paris'in bulundugu column kaldirir. axis=1 paris'in nerde oldugunu belirtir."
   ]
  },
  {
   "cell_type": "code",
   "execution_count": 24,
   "id": "657b957b-7e8f-4fcc-a68d-f61d7607a388",
   "metadata": {
    "execution": {
     "iopub.execute_input": "2025-07-14T11:57:02.497471Z",
     "iopub.status.busy": "2025-07-14T11:57:02.497164Z",
     "iopub.status.idle": "2025-07-14T11:57:02.509756Z",
     "shell.execute_reply": "2025-07-14T11:57:02.508781Z",
     "shell.execute_reply.started": "2025-07-14T11:57:02.497451Z"
    }
   },
   "outputs": [
    {
     "data": {
      "text/html": [
       "<div>\n",
       "<style scoped>\n",
       "    .dataframe tbody tr th:only-of-type {\n",
       "        vertical-align: middle;\n",
       "    }\n",
       "\n",
       "    .dataframe tbody tr th {\n",
       "        vertical-align: top;\n",
       "    }\n",
       "\n",
       "    .dataframe thead th {\n",
       "        text-align: right;\n",
       "    }\n",
       "</style>\n",
       "<table border=\"1\" class=\"dataframe\">\n",
       "  <thead>\n",
       "    <tr style=\"text-align: right;\">\n",
       "      <th></th>\n",
       "      <th>Istanbul</th>\n",
       "      <th>New York</th>\n",
       "      <th>Amsterdam</th>\n",
       "      <th>Paris</th>\n",
       "    </tr>\n",
       "  </thead>\n",
       "  <tbody>\n",
       "    <tr>\n",
       "      <th>0</th>\n",
       "      <td>20.0</td>\n",
       "      <td>10.0</td>\n",
       "      <td>15.0</td>\n",
       "      <td>12.0</td>\n",
       "    </tr>\n",
       "    <tr>\n",
       "      <th>1</th>\n",
       "      <td>21.0</td>\n",
       "      <td>10.0</td>\n",
       "      <td>NaN</td>\n",
       "      <td>14.0</td>\n",
       "    </tr>\n",
       "    <tr>\n",
       "      <th>2</th>\n",
       "      <td>NaN</td>\n",
       "      <td>13.0</td>\n",
       "      <td>18.0</td>\n",
       "      <td>15.0</td>\n",
       "    </tr>\n",
       "    <tr>\n",
       "      <th>3</th>\n",
       "      <td>22.0</td>\n",
       "      <td>14.0</td>\n",
       "      <td>19.0</td>\n",
       "      <td>18.0</td>\n",
       "    </tr>\n",
       "    <tr>\n",
       "      <th>4</th>\n",
       "      <td>25.0</td>\n",
       "      <td>15.0</td>\n",
       "      <td>15.0</td>\n",
       "      <td>20.0</td>\n",
       "    </tr>\n",
       "    <tr>\n",
       "      <th>5</th>\n",
       "      <td>28.0</td>\n",
       "      <td>NaN</td>\n",
       "      <td>22.0</td>\n",
       "      <td>NaN</td>\n",
       "    </tr>\n",
       "    <tr>\n",
       "      <th>6</th>\n",
       "      <td>15.0</td>\n",
       "      <td>12.0</td>\n",
       "      <td>15.0</td>\n",
       "      <td>15.0</td>\n",
       "    </tr>\n",
       "    <tr>\n",
       "      <th>7</th>\n",
       "      <td>20.0</td>\n",
       "      <td>15.0</td>\n",
       "      <td>14.0</td>\n",
       "      <td>NaN</td>\n",
       "    </tr>\n",
       "    <tr>\n",
       "      <th>8</th>\n",
       "      <td>22.0</td>\n",
       "      <td>16.0</td>\n",
       "      <td>16.0</td>\n",
       "      <td>NaN</td>\n",
       "    </tr>\n",
       "  </tbody>\n",
       "</table>\n",
       "</div>"
      ],
      "text/plain": [
       "   Istanbul  New York  Amsterdam  Paris\n",
       "0      20.0      10.0       15.0   12.0\n",
       "1      21.0      10.0        NaN   14.0\n",
       "2       NaN      13.0       18.0   15.0\n",
       "3      22.0      14.0       19.0   18.0\n",
       "4      25.0      15.0       15.0   20.0\n",
       "5      28.0       NaN       22.0    NaN\n",
       "6      15.0      12.0       15.0   15.0\n",
       "7      20.0      15.0       14.0    NaN\n",
       "8      22.0      16.0       16.0    NaN"
      ]
     },
     "execution_count": 24,
     "metadata": {},
     "output_type": "execute_result"
    }
   ],
   "source": [
    "weather_na_df                              "
   ]
  },
  {
   "cell_type": "code",
   "execution_count": 25,
   "id": "8dd4156c-a899-4990-8cb8-a0e3f6263c3a",
   "metadata": {
    "execution": {
     "iopub.execute_input": "2025-07-14T11:59:12.063868Z",
     "iopub.status.busy": "2025-07-14T11:59:12.063359Z",
     "iopub.status.idle": "2025-07-14T11:59:12.073439Z",
     "shell.execute_reply": "2025-07-14T11:59:12.072502Z",
     "shell.execute_reply.started": "2025-07-14T11:59:12.063840Z"
    }
   },
   "outputs": [
    {
     "data": {
      "text/plain": [
       "Istanbul     21.625000\n",
       "New York     13.125000\n",
       "Amsterdam    16.750000\n",
       "Paris        15.666667\n",
       "dtype: float64"
      ]
     },
     "execution_count": 25,
     "metadata": {},
     "output_type": "execute_result"
    }
   ],
   "source": [
    "weather_na_df.mean()          ### tum data'ya bakip tum sehirlerin ortalama sicakliklarini hesaplayip bize verir."
   ]
  },
  {
   "cell_type": "code",
   "execution_count": 27,
   "id": "76975b07-d559-41aa-83d8-5f9e7201d1e4",
   "metadata": {
    "execution": {
     "iopub.execute_input": "2025-07-14T11:59:33.013718Z",
     "iopub.status.busy": "2025-07-14T11:59:33.013375Z",
     "iopub.status.idle": "2025-07-14T11:59:33.024096Z",
     "shell.execute_reply": "2025-07-14T11:59:33.023008Z",
     "shell.execute_reply.started": "2025-07-14T11:59:33.013696Z"
    }
   },
   "outputs": [
    {
     "data": {
      "text/plain": [
       "Istanbul     21.5\n",
       "New York     13.5\n",
       "Amsterdam    15.5\n",
       "Paris        15.0\n",
       "dtype: float64"
      ]
     },
     "execution_count": 27,
     "metadata": {},
     "output_type": "execute_result"
    }
   ],
   "source": [
    "weather_na_df.median()  "
   ]
  },
  {
   "cell_type": "code",
   "execution_count": 29,
   "id": "30c37cf1-d953-462e-b3ba-7df8a4df6fed",
   "metadata": {
    "execution": {
     "iopub.execute_input": "2025-07-14T12:00:37.500148Z",
     "iopub.status.busy": "2025-07-14T12:00:37.499875Z",
     "iopub.status.idle": "2025-07-14T12:00:37.511865Z",
     "shell.execute_reply": "2025-07-14T12:00:37.510811Z",
     "shell.execute_reply.started": "2025-07-14T12:00:37.500131Z"
    }
   },
   "outputs": [
    {
     "data": {
      "text/html": [
       "<div>\n",
       "<style scoped>\n",
       "    .dataframe tbody tr th:only-of-type {\n",
       "        vertical-align: middle;\n",
       "    }\n",
       "\n",
       "    .dataframe tbody tr th {\n",
       "        vertical-align: top;\n",
       "    }\n",
       "\n",
       "    .dataframe thead th {\n",
       "        text-align: right;\n",
       "    }\n",
       "</style>\n",
       "<table border=\"1\" class=\"dataframe\">\n",
       "  <thead>\n",
       "    <tr style=\"text-align: right;\">\n",
       "      <th></th>\n",
       "      <th>Istanbul</th>\n",
       "      <th>New York</th>\n",
       "      <th>Amsterdam</th>\n",
       "      <th>Paris</th>\n",
       "    </tr>\n",
       "  </thead>\n",
       "  <tbody>\n",
       "    <tr>\n",
       "      <th>0</th>\n",
       "      <td>20.000</td>\n",
       "      <td>10.000</td>\n",
       "      <td>15.00</td>\n",
       "      <td>12.000000</td>\n",
       "    </tr>\n",
       "    <tr>\n",
       "      <th>1</th>\n",
       "      <td>21.000</td>\n",
       "      <td>10.000</td>\n",
       "      <td>16.75</td>\n",
       "      <td>14.000000</td>\n",
       "    </tr>\n",
       "    <tr>\n",
       "      <th>2</th>\n",
       "      <td>21.625</td>\n",
       "      <td>13.000</td>\n",
       "      <td>18.00</td>\n",
       "      <td>15.000000</td>\n",
       "    </tr>\n",
       "    <tr>\n",
       "      <th>3</th>\n",
       "      <td>22.000</td>\n",
       "      <td>14.000</td>\n",
       "      <td>19.00</td>\n",
       "      <td>18.000000</td>\n",
       "    </tr>\n",
       "    <tr>\n",
       "      <th>4</th>\n",
       "      <td>25.000</td>\n",
       "      <td>15.000</td>\n",
       "      <td>15.00</td>\n",
       "      <td>20.000000</td>\n",
       "    </tr>\n",
       "    <tr>\n",
       "      <th>5</th>\n",
       "      <td>28.000</td>\n",
       "      <td>13.125</td>\n",
       "      <td>22.00</td>\n",
       "      <td>15.666667</td>\n",
       "    </tr>\n",
       "    <tr>\n",
       "      <th>6</th>\n",
       "      <td>15.000</td>\n",
       "      <td>12.000</td>\n",
       "      <td>15.00</td>\n",
       "      <td>15.000000</td>\n",
       "    </tr>\n",
       "    <tr>\n",
       "      <th>7</th>\n",
       "      <td>20.000</td>\n",
       "      <td>15.000</td>\n",
       "      <td>14.00</td>\n",
       "      <td>15.666667</td>\n",
       "    </tr>\n",
       "    <tr>\n",
       "      <th>8</th>\n",
       "      <td>22.000</td>\n",
       "      <td>16.000</td>\n",
       "      <td>16.00</td>\n",
       "      <td>15.666667</td>\n",
       "    </tr>\n",
       "  </tbody>\n",
       "</table>\n",
       "</div>"
      ],
      "text/plain": [
       "   Istanbul  New York  Amsterdam      Paris\n",
       "0    20.000    10.000      15.00  12.000000\n",
       "1    21.000    10.000      16.75  14.000000\n",
       "2    21.625    13.000      18.00  15.000000\n",
       "3    22.000    14.000      19.00  18.000000\n",
       "4    25.000    15.000      15.00  20.000000\n",
       "5    28.000    13.125      22.00  15.666667\n",
       "6    15.000    12.000      15.00  15.000000\n",
       "7    20.000    15.000      14.00  15.666667\n",
       "8    22.000    16.000      16.00  15.666667"
      ]
     },
     "execution_count": 29,
     "metadata": {},
     "output_type": "execute_result"
    }
   ],
   "source": [
    "weather_na_df.fillna(weather_na_df.mean())     ### burada yaptigimiz sey ise eksik olan datalari fillna ile doldurmak. \n",
    "                                               ### datalarin ortalamasi ile doldurduk. ML'de isimize cok yarayacak."
   ]
  },
  {
   "cell_type": "code",
   "execution_count": 30,
   "id": "591beffb-b3ef-4d8e-86d9-939cc724b0d4",
   "metadata": {
    "execution": {
     "iopub.execute_input": "2025-07-14T12:13:08.897234Z",
     "iopub.status.busy": "2025-07-14T12:13:08.896436Z",
     "iopub.status.idle": "2025-07-14T12:13:08.905006Z",
     "shell.execute_reply": "2025-07-14T12:13:08.903921Z",
     "shell.execute_reply.started": "2025-07-14T12:13:08.897207Z"
    }
   },
   "outputs": [],
   "source": [
    "#group by"
   ]
  },
  {
   "cell_type": "code",
   "execution_count": 32,
   "id": "25a25ee3-8109-438b-8aa5-35685b1093ea",
   "metadata": {
    "execution": {
     "iopub.execute_input": "2025-07-14T12:13:56.606801Z",
     "iopub.status.busy": "2025-07-14T12:13:56.606038Z",
     "iopub.status.idle": "2025-07-14T12:13:56.616825Z",
     "shell.execute_reply": "2025-07-14T12:13:56.615891Z",
     "shell.execute_reply.started": "2025-07-14T12:13:56.606772Z"
    }
   },
   "outputs": [],
   "source": [
    "df = pd.read_csv('6-employee.csv')"
   ]
  },
  {
   "cell_type": "code",
   "execution_count": 35,
   "id": "fd5bb41f-8a31-46ea-b588-40e814863e3d",
   "metadata": {
    "execution": {
     "iopub.execute_input": "2025-07-14T12:16:04.324463Z",
     "iopub.status.busy": "2025-07-14T12:16:04.323359Z",
     "iopub.status.idle": "2025-07-14T12:16:04.335746Z",
     "shell.execute_reply": "2025-07-14T12:16:04.334641Z",
     "shell.execute_reply.started": "2025-07-14T12:16:04.324437Z"
    }
   },
   "outputs": [
    {
     "data": {
      "text/html": [
       "<div>\n",
       "<style scoped>\n",
       "    .dataframe tbody tr th:only-of-type {\n",
       "        vertical-align: middle;\n",
       "    }\n",
       "\n",
       "    .dataframe tbody tr th {\n",
       "        vertical-align: top;\n",
       "    }\n",
       "\n",
       "    .dataframe thead th {\n",
       "        text-align: right;\n",
       "    }\n",
       "</style>\n",
       "<table border=\"1\" class=\"dataframe\">\n",
       "  <thead>\n",
       "    <tr style=\"text-align: right;\">\n",
       "      <th></th>\n",
       "      <th>Department</th>\n",
       "      <th>Employee</th>\n",
       "      <th>Salary</th>\n",
       "      <th>Experience</th>\n",
       "      <th>City</th>\n",
       "    </tr>\n",
       "  </thead>\n",
       "  <tbody>\n",
       "    <tr>\n",
       "      <th>0</th>\n",
       "      <td>Marketing</td>\n",
       "      <td>Emp_1</td>\n",
       "      <td>53483</td>\n",
       "      <td>1</td>\n",
       "      <td>New York</td>\n",
       "    </tr>\n",
       "    <tr>\n",
       "      <th>1</th>\n",
       "      <td>Sales</td>\n",
       "      <td>Emp_2</td>\n",
       "      <td>78555</td>\n",
       "      <td>8</td>\n",
       "      <td>Austin</td>\n",
       "    </tr>\n",
       "    <tr>\n",
       "      <th>2</th>\n",
       "      <td>Finance</td>\n",
       "      <td>Emp_3</td>\n",
       "      <td>47159</td>\n",
       "      <td>3</td>\n",
       "      <td>Austin</td>\n",
       "    </tr>\n",
       "    <tr>\n",
       "      <th>3</th>\n",
       "      <td>Sales</td>\n",
       "      <td>Emp_4</td>\n",
       "      <td>110077</td>\n",
       "      <td>3</td>\n",
       "      <td>San Francisco</td>\n",
       "    </tr>\n",
       "    <tr>\n",
       "      <th>4</th>\n",
       "      <td>Sales</td>\n",
       "      <td>Emp_5</td>\n",
       "      <td>65920</td>\n",
       "      <td>1</td>\n",
       "      <td>New York</td>\n",
       "    </tr>\n",
       "    <tr>\n",
       "      <th>5</th>\n",
       "      <td>IT</td>\n",
       "      <td>Emp_6</td>\n",
       "      <td>97121</td>\n",
       "      <td>11</td>\n",
       "      <td>Chicago</td>\n",
       "    </tr>\n",
       "    <tr>\n",
       "      <th>6</th>\n",
       "      <td>Finance</td>\n",
       "      <td>Emp_7</td>\n",
       "      <td>99479</td>\n",
       "      <td>5</td>\n",
       "      <td>Chicago</td>\n",
       "    </tr>\n",
       "    <tr>\n",
       "      <th>7</th>\n",
       "      <td>Finance</td>\n",
       "      <td>Emp_8</td>\n",
       "      <td>119475</td>\n",
       "      <td>10</td>\n",
       "      <td>New York</td>\n",
       "    </tr>\n",
       "    <tr>\n",
       "      <th>8</th>\n",
       "      <td>Finance</td>\n",
       "      <td>Emp_9</td>\n",
       "      <td>49457</td>\n",
       "      <td>7</td>\n",
       "      <td>Chicago</td>\n",
       "    </tr>\n",
       "    <tr>\n",
       "      <th>9</th>\n",
       "      <td>Sales</td>\n",
       "      <td>Emp_10</td>\n",
       "      <td>96557</td>\n",
       "      <td>10</td>\n",
       "      <td>Chicago</td>\n",
       "    </tr>\n",
       "  </tbody>\n",
       "</table>\n",
       "</div>"
      ],
      "text/plain": [
       "  Department Employee  Salary  Experience           City\n",
       "0  Marketing    Emp_1   53483           1       New York\n",
       "1      Sales    Emp_2   78555           8         Austin\n",
       "2    Finance    Emp_3   47159           3         Austin\n",
       "3      Sales    Emp_4  110077           3  San Francisco\n",
       "4      Sales    Emp_5   65920           1       New York\n",
       "5         IT    Emp_6   97121          11        Chicago\n",
       "6    Finance    Emp_7   99479           5        Chicago\n",
       "7    Finance    Emp_8  119475          10       New York\n",
       "8    Finance    Emp_9   49457           7        Chicago\n",
       "9      Sales   Emp_10   96557          10        Chicago"
      ]
     },
     "execution_count": 35,
     "metadata": {},
     "output_type": "execute_result"
    }
   ],
   "source": [
    "df.head(10)"
   ]
  },
  {
   "cell_type": "code",
   "execution_count": 36,
   "id": "496a4539-6488-4496-8594-ee5417a69009",
   "metadata": {
    "execution": {
     "iopub.execute_input": "2025-07-14T12:21:16.376878Z",
     "iopub.status.busy": "2025-07-14T12:21:16.375947Z",
     "iopub.status.idle": "2025-07-14T12:21:16.395040Z",
     "shell.execute_reply": "2025-07-14T12:21:16.394190Z",
     "shell.execute_reply.started": "2025-07-14T12:21:16.376845Z"
    }
   },
   "outputs": [
    {
     "data": {
      "text/html": [
       "<div>\n",
       "<style scoped>\n",
       "    .dataframe tbody tr th:only-of-type {\n",
       "        vertical-align: middle;\n",
       "    }\n",
       "\n",
       "    .dataframe tbody tr th {\n",
       "        vertical-align: top;\n",
       "    }\n",
       "\n",
       "    .dataframe thead th {\n",
       "        text-align: right;\n",
       "    }\n",
       "</style>\n",
       "<table border=\"1\" class=\"dataframe\">\n",
       "  <thead>\n",
       "    <tr style=\"text-align: right;\">\n",
       "      <th></th>\n",
       "      <th>Salary</th>\n",
       "      <th>Experience</th>\n",
       "    </tr>\n",
       "  </thead>\n",
       "  <tbody>\n",
       "    <tr>\n",
       "      <th>count</th>\n",
       "      <td>50.000000</td>\n",
       "      <td>50.000000</td>\n",
       "    </tr>\n",
       "    <tr>\n",
       "      <th>mean</th>\n",
       "      <td>78344.500000</td>\n",
       "      <td>7.060000</td>\n",
       "    </tr>\n",
       "    <tr>\n",
       "      <th>std</th>\n",
       "      <td>27817.603904</td>\n",
       "      <td>3.966235</td>\n",
       "    </tr>\n",
       "    <tr>\n",
       "      <th>min</th>\n",
       "      <td>31016.000000</td>\n",
       "      <td>1.000000</td>\n",
       "    </tr>\n",
       "    <tr>\n",
       "      <th>25%</th>\n",
       "      <td>53687.250000</td>\n",
       "      <td>3.000000</td>\n",
       "    </tr>\n",
       "    <tr>\n",
       "      <th>50%</th>\n",
       "      <td>78769.500000</td>\n",
       "      <td>7.000000</td>\n",
       "    </tr>\n",
       "    <tr>\n",
       "      <th>75%</th>\n",
       "      <td>100778.000000</td>\n",
       "      <td>10.000000</td>\n",
       "    </tr>\n",
       "    <tr>\n",
       "      <th>max</th>\n",
       "      <td>119812.000000</td>\n",
       "      <td>14.000000</td>\n",
       "    </tr>\n",
       "  </tbody>\n",
       "</table>\n",
       "</div>"
      ],
      "text/plain": [
       "              Salary  Experience\n",
       "count      50.000000   50.000000\n",
       "mean    78344.500000    7.060000\n",
       "std     27817.603904    3.966235\n",
       "min     31016.000000    1.000000\n",
       "25%     53687.250000    3.000000\n",
       "50%     78769.500000    7.000000\n",
       "75%    100778.000000   10.000000\n",
       "max    119812.000000   14.000000"
      ]
     },
     "execution_count": 36,
     "metadata": {},
     "output_type": "execute_result"
    }
   ],
   "source": [
    "df.describe()"
   ]
  },
  {
   "cell_type": "code",
   "execution_count": 39,
   "id": "f3014492-28c3-4f2f-bf1c-d6b8bd8f29ba",
   "metadata": {
    "execution": {
     "iopub.execute_input": "2025-07-14T12:23:59.971087Z",
     "iopub.status.busy": "2025-07-14T12:23:59.970745Z",
     "iopub.status.idle": "2025-07-14T12:23:59.975305Z",
     "shell.execute_reply": "2025-07-14T12:23:59.974220Z",
     "shell.execute_reply.started": "2025-07-14T12:23:59.971061Z"
    }
   },
   "outputs": [],
   "source": [
    "#df.mean()      ---->  calismaz cunku anlamiyor. cunku numeric olmayan seyler df icinde mevcut.           "
   ]
  },
  {
   "cell_type": "code",
   "execution_count": 41,
   "id": "53a56bfc-6bf6-4ead-ae8d-2289006fe87f",
   "metadata": {
    "execution": {
     "iopub.execute_input": "2025-07-14T12:25:36.648443Z",
     "iopub.status.busy": "2025-07-14T12:25:36.648183Z",
     "iopub.status.idle": "2025-07-14T12:25:36.655702Z",
     "shell.execute_reply": "2025-07-14T12:25:36.654781Z",
     "shell.execute_reply.started": "2025-07-14T12:25:36.648425Z"
    }
   },
   "outputs": [
    {
     "data": {
      "text/plain": [
       "78344.5"
      ]
     },
     "execution_count": 41,
     "metadata": {},
     "output_type": "execute_result"
    }
   ],
   "source": [
    "df['Salary'].mean()"
   ]
  },
  {
   "cell_type": "code",
   "execution_count": 42,
   "id": "346039a4-96cf-4ca7-ba47-f5cbadbfa83e",
   "metadata": {
    "execution": {
     "iopub.execute_input": "2025-07-14T12:27:08.330838Z",
     "iopub.status.busy": "2025-07-14T12:27:08.330532Z",
     "iopub.status.idle": "2025-07-14T12:27:08.339984Z",
     "shell.execute_reply": "2025-07-14T12:27:08.338978Z",
     "shell.execute_reply.started": "2025-07-14T12:27:08.330816Z"
    }
   },
   "outputs": [
    {
     "data": {
      "text/plain": [
       "Salary        78344.50\n",
       "Experience        7.06\n",
       "dtype: float64"
      ]
     },
     "execution_count": 42,
     "metadata": {},
     "output_type": "execute_result"
    }
   ],
   "source": [
    "df[['Salary', 'Experience']].mean()"
   ]
  },
  {
   "cell_type": "code",
   "execution_count": 44,
   "id": "2b8735ba-86ea-49dd-91b5-53020c51bc2c",
   "metadata": {
    "execution": {
     "iopub.execute_input": "2025-07-14T12:27:38.287311Z",
     "iopub.status.busy": "2025-07-14T12:27:38.286983Z",
     "iopub.status.idle": "2025-07-14T12:27:38.296559Z",
     "shell.execute_reply": "2025-07-14T12:27:38.295416Z",
     "shell.execute_reply.started": "2025-07-14T12:27:38.287289Z"
    }
   },
   "outputs": [
    {
     "data": {
      "text/plain": [
       "Department    50\n",
       "Employee      50\n",
       "Salary        50\n",
       "Experience    50\n",
       "City          50\n",
       "dtype: int64"
      ]
     },
     "execution_count": 44,
     "metadata": {},
     "output_type": "execute_result"
    }
   ],
   "source": [
    "df.count()"
   ]
  },
  {
   "cell_type": "code",
   "execution_count": 63,
   "id": "7f190980-dbeb-481b-95ae-6fefb94bc3a2",
   "metadata": {
    "execution": {
     "iopub.execute_input": "2025-07-14T13:02:48.226832Z",
     "iopub.status.busy": "2025-07-14T13:02:48.226039Z",
     "iopub.status.idle": "2025-07-14T13:02:48.235034Z",
     "shell.execute_reply": "2025-07-14T13:02:48.233684Z",
     "shell.execute_reply.started": "2025-07-14T13:02:48.226804Z"
    }
   },
   "outputs": [
    {
     "data": {
      "text/plain": [
       "<pandas.core.groupby.generic.DataFrameGroupBy object at 0x7f017f1c26f0>"
      ]
     },
     "execution_count": 63,
     "metadata": {},
     "output_type": "execute_result"
    }
   ],
   "source": [
    "df.groupby('Department')   #burada gurupla demek istiyoruz. "
   ]
  },
  {
   "cell_type": "code",
   "execution_count": 64,
   "id": "8b8ba79a-ec5c-4a24-ab7a-b6b34013cdd8",
   "metadata": {
    "execution": {
     "iopub.execute_input": "2025-07-14T13:02:48.811549Z",
     "iopub.status.busy": "2025-07-14T13:02:48.811218Z",
     "iopub.status.idle": "2025-07-14T13:02:48.817662Z",
     "shell.execute_reply": "2025-07-14T13:02:48.816719Z",
     "shell.execute_reply.started": "2025-07-14T13:02:48.811526Z"
    }
   },
   "outputs": [],
   "source": [
    "df_grouped_department = df.groupby('Department')"
   ]
  },
  {
   "cell_type": "code",
   "execution_count": 65,
   "id": "10e78f4a-d18e-4461-8673-d32a441d5571",
   "metadata": {
    "execution": {
     "iopub.execute_input": "2025-07-14T13:02:49.355382Z",
     "iopub.status.busy": "2025-07-14T13:02:49.355069Z",
     "iopub.status.idle": "2025-07-14T13:02:49.369446Z",
     "shell.execute_reply": "2025-07-14T13:02:49.368398Z",
     "shell.execute_reply.started": "2025-07-14T13:02:49.355359Z"
    }
   },
   "outputs": [
    {
     "data": {
      "text/html": [
       "<div>\n",
       "<style scoped>\n",
       "    .dataframe tbody tr th:only-of-type {\n",
       "        vertical-align: middle;\n",
       "    }\n",
       "\n",
       "    .dataframe tbody tr th {\n",
       "        vertical-align: top;\n",
       "    }\n",
       "\n",
       "    .dataframe thead th {\n",
       "        text-align: right;\n",
       "    }\n",
       "</style>\n",
       "<table border=\"1\" class=\"dataframe\">\n",
       "  <thead>\n",
       "    <tr style=\"text-align: right;\">\n",
       "      <th></th>\n",
       "      <th>Employee</th>\n",
       "      <th>Salary</th>\n",
       "      <th>Experience</th>\n",
       "      <th>City</th>\n",
       "    </tr>\n",
       "    <tr>\n",
       "      <th>Department</th>\n",
       "      <th></th>\n",
       "      <th></th>\n",
       "      <th></th>\n",
       "      <th></th>\n",
       "    </tr>\n",
       "  </thead>\n",
       "  <tbody>\n",
       "    <tr>\n",
       "      <th>Finance</th>\n",
       "      <td>10</td>\n",
       "      <td>10</td>\n",
       "      <td>10</td>\n",
       "      <td>10</td>\n",
       "    </tr>\n",
       "    <tr>\n",
       "      <th>HR</th>\n",
       "      <td>7</td>\n",
       "      <td>7</td>\n",
       "      <td>7</td>\n",
       "      <td>7</td>\n",
       "    </tr>\n",
       "    <tr>\n",
       "      <th>IT</th>\n",
       "      <td>10</td>\n",
       "      <td>10</td>\n",
       "      <td>10</td>\n",
       "      <td>10</td>\n",
       "    </tr>\n",
       "    <tr>\n",
       "      <th>Marketing</th>\n",
       "      <td>13</td>\n",
       "      <td>13</td>\n",
       "      <td>13</td>\n",
       "      <td>13</td>\n",
       "    </tr>\n",
       "    <tr>\n",
       "      <th>Sales</th>\n",
       "      <td>10</td>\n",
       "      <td>10</td>\n",
       "      <td>10</td>\n",
       "      <td>10</td>\n",
       "    </tr>\n",
       "  </tbody>\n",
       "</table>\n",
       "</div>"
      ],
      "text/plain": [
       "            Employee  Salary  Experience  City\n",
       "Department                                    \n",
       "Finance           10      10          10    10\n",
       "HR                 7       7           7     7\n",
       "IT                10      10          10    10\n",
       "Marketing         13      13          13    13\n",
       "Sales             10      10          10    10"
      ]
     },
     "execution_count": 65,
     "metadata": {},
     "output_type": "execute_result"
    }
   ],
   "source": [
    "df_grouped_department.count()"
   ]
  },
  {
   "cell_type": "code",
   "execution_count": 66,
   "id": "08defef0-d789-4491-8de5-e2402abf5367",
   "metadata": {
    "execution": {
     "iopub.execute_input": "2025-07-14T13:02:51.699837Z",
     "iopub.status.busy": "2025-07-14T13:02:51.699508Z",
     "iopub.status.idle": "2025-07-14T13:02:51.738924Z",
     "shell.execute_reply": "2025-07-14T13:02:51.737552Z",
     "shell.execute_reply.started": "2025-07-14T13:02:51.699815Z"
    }
   },
   "outputs": [
    {
     "data": {
      "text/html": [
       "<div>\n",
       "<style scoped>\n",
       "    .dataframe tbody tr th:only-of-type {\n",
       "        vertical-align: middle;\n",
       "    }\n",
       "\n",
       "    .dataframe tbody tr th {\n",
       "        vertical-align: top;\n",
       "    }\n",
       "\n",
       "    .dataframe thead tr th {\n",
       "        text-align: left;\n",
       "    }\n",
       "\n",
       "    .dataframe thead tr:last-of-type th {\n",
       "        text-align: right;\n",
       "    }\n",
       "</style>\n",
       "<table border=\"1\" class=\"dataframe\">\n",
       "  <thead>\n",
       "    <tr>\n",
       "      <th></th>\n",
       "      <th colspan=\"8\" halign=\"left\">Salary</th>\n",
       "      <th colspan=\"8\" halign=\"left\">Experience</th>\n",
       "    </tr>\n",
       "    <tr>\n",
       "      <th></th>\n",
       "      <th>count</th>\n",
       "      <th>mean</th>\n",
       "      <th>std</th>\n",
       "      <th>min</th>\n",
       "      <th>25%</th>\n",
       "      <th>50%</th>\n",
       "      <th>75%</th>\n",
       "      <th>max</th>\n",
       "      <th>count</th>\n",
       "      <th>mean</th>\n",
       "      <th>std</th>\n",
       "      <th>min</th>\n",
       "      <th>25%</th>\n",
       "      <th>50%</th>\n",
       "      <th>75%</th>\n",
       "      <th>max</th>\n",
       "    </tr>\n",
       "    <tr>\n",
       "      <th>Department</th>\n",
       "      <th></th>\n",
       "      <th></th>\n",
       "      <th></th>\n",
       "      <th></th>\n",
       "      <th></th>\n",
       "      <th></th>\n",
       "      <th></th>\n",
       "      <th></th>\n",
       "      <th></th>\n",
       "      <th></th>\n",
       "      <th></th>\n",
       "      <th></th>\n",
       "      <th></th>\n",
       "      <th></th>\n",
       "      <th></th>\n",
       "      <th></th>\n",
       "    </tr>\n",
       "  </thead>\n",
       "  <tbody>\n",
       "    <tr>\n",
       "      <th>Finance</th>\n",
       "      <td>10.0</td>\n",
       "      <td>90552.700000</td>\n",
       "      <td>27228.231832</td>\n",
       "      <td>47159.0</td>\n",
       "      <td>73222.00</td>\n",
       "      <td>96591.5</td>\n",
       "      <td>111836.75</td>\n",
       "      <td>119812.0</td>\n",
       "      <td>10.0</td>\n",
       "      <td>6.500000</td>\n",
       "      <td>3.566822</td>\n",
       "      <td>1.0</td>\n",
       "      <td>3.5</td>\n",
       "      <td>6.5</td>\n",
       "      <td>9.50</td>\n",
       "      <td>12.0</td>\n",
       "    </tr>\n",
       "    <tr>\n",
       "      <th>HR</th>\n",
       "      <td>7.0</td>\n",
       "      <td>76182.571429</td>\n",
       "      <td>31647.523983</td>\n",
       "      <td>31016.0</td>\n",
       "      <td>55114.50</td>\n",
       "      <td>78984.0</td>\n",
       "      <td>96630.00</td>\n",
       "      <td>119789.0</td>\n",
       "      <td>7.0</td>\n",
       "      <td>8.714286</td>\n",
       "      <td>4.572173</td>\n",
       "      <td>3.0</td>\n",
       "      <td>5.0</td>\n",
       "      <td>9.0</td>\n",
       "      <td>12.50</td>\n",
       "      <td>14.0</td>\n",
       "    </tr>\n",
       "    <tr>\n",
       "      <th>IT</th>\n",
       "      <td>10.0</td>\n",
       "      <td>63381.600000</td>\n",
       "      <td>24272.881041</td>\n",
       "      <td>32568.0</td>\n",
       "      <td>39755.25</td>\n",
       "      <td>66681.5</td>\n",
       "      <td>79850.00</td>\n",
       "      <td>97121.0</td>\n",
       "      <td>10.0</td>\n",
       "      <td>9.000000</td>\n",
       "      <td>4.163332</td>\n",
       "      <td>1.0</td>\n",
       "      <td>7.5</td>\n",
       "      <td>10.5</td>\n",
       "      <td>11.75</td>\n",
       "      <td>14.0</td>\n",
       "    </tr>\n",
       "    <tr>\n",
       "      <th>Marketing</th>\n",
       "      <td>13.0</td>\n",
       "      <td>79555.000000</td>\n",
       "      <td>28431.207129</td>\n",
       "      <td>39268.0</td>\n",
       "      <td>54300.00</td>\n",
       "      <td>70774.0</td>\n",
       "      <td>104065.00</td>\n",
       "      <td>117538.0</td>\n",
       "      <td>13.0</td>\n",
       "      <td>6.153846</td>\n",
       "      <td>4.079341</td>\n",
       "      <td>1.0</td>\n",
       "      <td>3.0</td>\n",
       "      <td>5.0</td>\n",
       "      <td>9.00</td>\n",
       "      <td>14.0</td>\n",
       "    </tr>\n",
       "    <tr>\n",
       "      <th>Sales</th>\n",
       "      <td>10.0</td>\n",
       "      <td>81038.900000</td>\n",
       "      <td>26623.181534</td>\n",
       "      <td>38571.0</td>\n",
       "      <td>68987.50</td>\n",
       "      <td>80775.0</td>\n",
       "      <td>100047.50</td>\n",
       "      <td>116779.0</td>\n",
       "      <td>10.0</td>\n",
       "      <td>5.700000</td>\n",
       "      <td>3.093003</td>\n",
       "      <td>1.0</td>\n",
       "      <td>3.5</td>\n",
       "      <td>7.0</td>\n",
       "      <td>7.75</td>\n",
       "      <td>10.0</td>\n",
       "    </tr>\n",
       "  </tbody>\n",
       "</table>\n",
       "</div>"
      ],
      "text/plain": [
       "           Salary                                                          \\\n",
       "            count          mean           std      min       25%      50%   \n",
       "Department                                                                  \n",
       "Finance      10.0  90552.700000  27228.231832  47159.0  73222.00  96591.5   \n",
       "HR            7.0  76182.571429  31647.523983  31016.0  55114.50  78984.0   \n",
       "IT           10.0  63381.600000  24272.881041  32568.0  39755.25  66681.5   \n",
       "Marketing    13.0  79555.000000  28431.207129  39268.0  54300.00  70774.0   \n",
       "Sales        10.0  81038.900000  26623.181534  38571.0  68987.50  80775.0   \n",
       "\n",
       "                                Experience                                \\\n",
       "                  75%       max      count      mean       std  min  25%   \n",
       "Department                                                                 \n",
       "Finance     111836.75  119812.0       10.0  6.500000  3.566822  1.0  3.5   \n",
       "HR           96630.00  119789.0        7.0  8.714286  4.572173  3.0  5.0   \n",
       "IT           79850.00   97121.0       10.0  9.000000  4.163332  1.0  7.5   \n",
       "Marketing   104065.00  117538.0       13.0  6.153846  4.079341  1.0  3.0   \n",
       "Sales       100047.50  116779.0       10.0  5.700000  3.093003  1.0  3.5   \n",
       "\n",
       "                               \n",
       "             50%    75%   max  \n",
       "Department                     \n",
       "Finance      6.5   9.50  12.0  \n",
       "HR           9.0  12.50  14.0  \n",
       "IT          10.5  11.75  14.0  \n",
       "Marketing    5.0   9.00  14.0  \n",
       "Sales        7.0   7.75  10.0  "
      ]
     },
     "execution_count": 66,
     "metadata": {},
     "output_type": "execute_result"
    }
   ],
   "source": [
    "df_grouped.describe()"
   ]
  },
  {
   "cell_type": "code",
   "execution_count": null,
   "id": "b0e8e0f8-68b7-43f1-8838-8e4f4e286cd6",
   "metadata": {},
   "outputs": [],
   "source": []
  },
  {
   "cell_type": "code",
   "execution_count": 67,
   "id": "affa74bc-25f0-4e0a-893b-1c16e8797146",
   "metadata": {
    "execution": {
     "iopub.execute_input": "2025-07-14T13:03:03.864288Z",
     "iopub.status.busy": "2025-07-14T13:03:03.863902Z",
     "iopub.status.idle": "2025-07-14T13:03:03.873340Z",
     "shell.execute_reply": "2025-07-14T13:03:03.872384Z",
     "shell.execute_reply.started": "2025-07-14T13:03:03.864267Z"
    }
   },
   "outputs": [
    {
     "data": {
      "text/plain": [
       "Department\n",
       "Finance      90552.700000\n",
       "HR           76182.571429\n",
       "IT           63381.600000\n",
       "Marketing    79555.000000\n",
       "Sales        81038.900000\n",
       "Name: Salary, dtype: float64"
      ]
     },
     "execution_count": 67,
     "metadata": {},
     "output_type": "execute_result"
    }
   ],
   "source": [
    "df_grouped_department['Salary'].mean()    ### burada departmana gore maasi kiyaslamis olduk. "
   ]
  },
  {
   "cell_type": "code",
   "execution_count": 68,
   "id": "7c1748d5-93f8-43a9-9ff7-7aa6714af8b1",
   "metadata": {
    "execution": {
     "iopub.execute_input": "2025-07-14T13:03:12.799178Z",
     "iopub.status.busy": "2025-07-14T13:03:12.797671Z",
     "iopub.status.idle": "2025-07-14T13:03:12.804558Z",
     "shell.execute_reply": "2025-07-14T13:03:12.803254Z",
     "shell.execute_reply.started": "2025-07-14T13:03:12.799148Z"
    }
   },
   "outputs": [],
   "source": [
    "df_grouped_city = df.groupby('City')    ### burada sehir e gore maas kiyaslamasi yaptik."
   ]
  },
  {
   "cell_type": "code",
   "execution_count": 69,
   "id": "21f66228-25b6-4a98-9d89-53d0e4f412f1",
   "metadata": {
    "execution": {
     "iopub.execute_input": "2025-07-14T13:03:13.230753Z",
     "iopub.status.busy": "2025-07-14T13:03:13.230448Z",
     "iopub.status.idle": "2025-07-14T13:03:13.241009Z",
     "shell.execute_reply": "2025-07-14T13:03:13.239957Z",
     "shell.execute_reply.started": "2025-07-14T13:03:13.230731Z"
    }
   },
   "outputs": [
    {
     "data": {
      "text/plain": [
       "City\n",
       "Austin           81216.000000\n",
       "Chicago          76869.363636\n",
       "New York         70484.133333\n",
       "San Francisco    87144.727273\n",
       "Name: Salary, dtype: float64"
      ]
     },
     "execution_count": 69,
     "metadata": {},
     "output_type": "execute_result"
    }
   ],
   "source": [
    "df_grouped_city['Salary'].mean()"
   ]
  },
  {
   "cell_type": "code",
   "execution_count": 71,
   "id": "a3bd6b3d-d496-489a-bdc4-9f2875f126e6",
   "metadata": {
    "execution": {
     "iopub.execute_input": "2025-07-14T13:04:26.818766Z",
     "iopub.status.busy": "2025-07-14T13:04:26.818434Z",
     "iopub.status.idle": "2025-07-14T13:04:26.828568Z",
     "shell.execute_reply": "2025-07-14T13:04:26.827587Z",
     "shell.execute_reply.started": "2025-07-14T13:04:26.818740Z"
    }
   },
   "outputs": [
    {
     "data": {
      "text/plain": [
       "City\n",
       "Austin           6.000000\n",
       "Chicago          7.909091\n",
       "New York         6.800000\n",
       "San Francisco    7.818182\n",
       "Name: Experience, dtype: float64"
      ]
     },
     "execution_count": 71,
     "metadata": {},
     "output_type": "execute_result"
    }
   ],
   "source": [
    "df_grouped_city['Experience'].mean()     ### tecrubeye gore hani sehir ne kadar aliyoe"
   ]
  },
  {
   "cell_type": "code",
   "execution_count": null,
   "id": "c52a23a8-c716-4257-abad-8538e584bf8f",
   "metadata": {},
   "outputs": [],
   "source": []
  }
 ],
 "metadata": {
  "kernelspec": {
   "display_name": "Python 3 (ipykernel)",
   "language": "python",
   "name": "python3"
  },
  "language_info": {
   "codemirror_mode": {
    "name": "ipython",
    "version": 3
   },
   "file_extension": ".py",
   "mimetype": "text/x-python",
   "name": "python",
   "nbconvert_exporter": "python",
   "pygments_lexer": "ipython3",
   "version": "3.12.9"
  }
 },
 "nbformat": 4,
 "nbformat_minor": 5
}
